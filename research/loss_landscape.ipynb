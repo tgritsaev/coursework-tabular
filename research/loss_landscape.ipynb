{
 "cells": [
  {
   "cell_type": "code",
   "execution_count": 11,
   "metadata": {},
   "outputs": [],
   "source": [
    "from dataclasses import dataclass\n",
    "from pathlib import Path\n",
    "from typing import Optional, Union\n",
    "\n",
    "import argparse\n",
    "import numpy as np\n",
    "import torch\n",
    "import torch.nn as nn\n",
    "import torch.utils.tensorboard\n",
    "from torch import Tensor\n",
    "from tqdm import tqdm\n",
    "\n",
    "import delu\n",
    "\n",
    "import sys\n",
    "import os\n",
    "os.environ['PROJECT_DIR'] = '/Users/timgritsaev/Desktop/tabular/tabular-hpo'\n",
    "sys.path.append('/Users/timgritsaev/Desktop/tabular/tabular-hpo')\n",
    "import lib\n",
    "from lib import KWArgs\n",
    "\n",
    "import json\n",
    "\n",
    "from loss_landscapes.metrics.metric import Metric\n",
    "from loss_landscapes.model_interface.model_wrapper import ModelWrapper\n",
    "\n",
    "\n",
    "import loss_landscapes\n",
    "import loss_landscapes.metrics\n",
    "import copy\n",
    "import matplotlib.pyplot as plt\n",
    "import plotly\n",
    "import plotly.graph_objects as go\n",
    "plt.rcParams['savefig.format'] = 'pdf'\n",
    "\n",
    "\n",
    "@dataclass(frozen=True)\n",
    "class Config:\n",
    "    seed: int\n",
    "    data: Union[lib.Dataset[np.ndarray], KWArgs]  # lib.data.build_dataset\n",
    "    model: Union[nn.Module, KWArgs]  # Model\n",
    "    optimizer: Union[torch.optim.Optimizer, KWArgs]  # lib.deep.make_optimizer\n",
    "    batch_size: int\n",
    "    patience: Optional[int]\n",
    "    n_epochs: Union[int, float]\n",
    "\n",
    "\n",
    "def _patch_config(c: lib.JSONDict):\n",
    "    # update config format\n",
    "    if isinstance(c['model'], dict) and 'backbone' not in c['model']:\n",
    "        assert 'num_embeddings' in c\n",
    "        c['model'] = {\n",
    "            'num_embeddings': c.pop('num_embeddings'),\n",
    "            'backbone': c.pop('model'),\n",
    "        }\n",
    "        \n",
    "\n",
    "def create_all(path_to_config, path_to_model, steps=10, distance=0.001):\n",
    "\n",
    "    class Model(nn.Module):\n",
    "        def __init__(\n",
    "            self,\n",
    "            *,\n",
    "            n_num_features: int,\n",
    "            n_bin_features: int,\n",
    "            cat_cardinalities: list[int],\n",
    "            n_classes: Optional[int],\n",
    "            num_embeddings: Optional[dict],  # lib.deep.ModuleSpec\n",
    "            backbone: dict,  # lib.deep.ModuleSpec\n",
    "        ) -> None:\n",
    "            assert n_num_features or n_bin_features or cat_cardinalities\n",
    "            if num_embeddings is not None:\n",
    "                assert n_num_features\n",
    "            assert backbone['type'] in ['MLP', 'ResNet']\n",
    "            super().__init__()\n",
    "\n",
    "            if num_embeddings is None:\n",
    "                self.m_num = nn.Identity() if n_num_features else None\n",
    "                d_num = n_num_features\n",
    "            else:\n",
    "                self.m_num = lib.make_module(num_embeddings, n_features=n_num_features)\n",
    "                d_num = n_num_features * num_embeddings['d_embedding']\n",
    "            self.m_bin = nn.Identity() if n_bin_features else None\n",
    "            self.m_cat = lib.OneHotEncoder(cat_cardinalities) if cat_cardinalities else None\n",
    "            self.backbone = lib.make_module(\n",
    "                backbone,\n",
    "                d_in=d_num + n_bin_features + sum(cat_cardinalities),\n",
    "                d_out=lib.get_d_out(n_classes),\n",
    "            )\n",
    "            self.flat = True\n",
    "\n",
    "        def forward(\n",
    "            self,\n",
    "            *,\n",
    "            x_num: Optional[Tensor],\n",
    "            x_bin: Optional[Tensor],\n",
    "            x_cat: Optional[Tensor],\n",
    "        ) -> Tensor:\n",
    "            x = []\n",
    "            for module, x_ in [\n",
    "                (self.m_num, x_num),\n",
    "                (self.m_bin, x_bin),\n",
    "                (self.m_cat, x_cat),\n",
    "            ]:\n",
    "                if x_ is None:\n",
    "                    assert module is None\n",
    "                else:\n",
    "                    assert module is not None\n",
    "                    x.append(module(x_))\n",
    "            del x_  # type: ignore[code]\n",
    "            if self.flat:\n",
    "                x = torch.cat([x_.flatten(1, -1) for x_ in x], dim=1)\n",
    "            else:\n",
    "                # for Transformer-like backbones (currently unsupported)\n",
    "                assert all(x_.ndim == 3 for x_ in x)\n",
    "                x = torch.cat(x, dim=1)\n",
    "\n",
    "            x = self.backbone(x)\n",
    "            return x\n",
    "        \n",
    "\n",
    "    class Model__(nn.Module):\n",
    "        def __init__(\n",
    "            self,\n",
    "            *,\n",
    "            n_num_features: int,\n",
    "            n_bin_features: int,\n",
    "            cat_cardinalities: list[int],\n",
    "            n_classes: Optional[int],\n",
    "            num_embeddings: Optional[dict],  # lib.deep.ModuleSpec\n",
    "            backbone: dict,  # lib.deep.ModuleSpec\n",
    "        ) -> None:\n",
    "            assert n_num_features or n_bin_features or cat_cardinalities\n",
    "            if num_embeddings is not None:\n",
    "                assert n_num_features\n",
    "            assert backbone['type'] in ['MLP', 'ResNet']\n",
    "            super().__init__()\n",
    "\n",
    "            if num_embeddings is None:\n",
    "                self.m_num = nn.Identity() if n_num_features else None\n",
    "                d_num = n_num_features\n",
    "            else:\n",
    "                self.m_num = lib.make_module(num_embeddings, n_features=n_num_features)\n",
    "                d_num = n_num_features * num_embeddings['d_embedding']\n",
    "            self.m_bin = nn.Identity() if n_bin_features else None\n",
    "            self.m_cat = lib.OneHotEncoder(cat_cardinalities) if cat_cardinalities else None\n",
    "            self.backbone = lib.make_module(\n",
    "                backbone,\n",
    "                d_in=d_num + n_bin_features + sum(cat_cardinalities),\n",
    "                d_out=lib.get_d_out(n_classes),\n",
    "            )\n",
    "            self.flat = True\n",
    "            self.current_dataset = 'train'\n",
    "\n",
    "        def forward(\n",
    "            self,\n",
    "            X\n",
    "        ) -> Tensor:\n",
    "            x = []\n",
    "            x_num = None if dataset.X_num is None else dataset.X_num[self.current_dataset][X]\n",
    "            x_bin = None if dataset.X_bin is None else dataset.X_bin[self.current_dataset][X]\n",
    "            x_cat = None if dataset.X_cat is None else dataset.X_cat[self.current_dataset][X]\n",
    "            for module, x_ in [\n",
    "                (self.m_num, x_num),\n",
    "                (self.m_bin, x_bin),\n",
    "                (self.m_cat, x_cat),\n",
    "            ]:\n",
    "                if x_ is None:\n",
    "                    assert module is None\n",
    "                else:\n",
    "                    assert module is not None\n",
    "                    x.append(module(x_))\n",
    "            del x_  # type: ignore[code]\n",
    "            if self.flat:\n",
    "                x = torch.cat([x_.flatten(1, -1) for x_ in x], dim=1)\n",
    "            else:\n",
    "                # for Transformer-like backbones (currently unsupported)\n",
    "                assert all(x_.ndim == 3 for x_ in x)\n",
    "                x = torch.cat(x, dim=1)\n",
    "\n",
    "            x = self.backbone(x)\n",
    "            return x\n",
    "        \n",
    "        \n",
    "    def apply_model(part, idx):\n",
    "        return model(\n",
    "            x_num=None if dataset.X_num is None else dataset.X_num[part][idx],\n",
    "            x_bin=None if dataset.X_bin is None else dataset.X_bin[part][idx],\n",
    "            x_cat=None if dataset.X_cat is None else dataset.X_cat[part][idx],\n",
    "        ).squeeze(-1)\n",
    "        \n",
    "        \n",
    "    def apply_model__(part, idx):\n",
    "        model.current_dataset = part\n",
    "        return model(idx).squeeze(-1)\n",
    "\n",
    "\n",
    "    def are_valid_predictions(predictions: dict[str, np.ndarray]) -> bool:\n",
    "        return all(np.isfinite(x).all() for x in predictions.values())\n",
    "        \n",
    "        \n",
    "    @torch.inference_mode()\n",
    "    def evaluate(parts: list[str], eval_batch_size: int):\n",
    "        model.eval()\n",
    "        predictions = {}\n",
    "        for part in parts:\n",
    "            while eval_batch_size:\n",
    "                try:\n",
    "                    predictions[part] = (\n",
    "                        torch.cat(\n",
    "                            [\n",
    "                                apply_model__(part, idx)\n",
    "                                for idx in torch.arange(\n",
    "                                    dataset.size(part), device=device\n",
    "                                ).split(eval_batch_size)\n",
    "                            ]\n",
    "                        )\n",
    "                        .cpu()\n",
    "                        .numpy()\n",
    "                    )\n",
    "                except RuntimeError as err:\n",
    "                    if not lib.is_oom_exception(err):\n",
    "                        raise\n",
    "                    eval_batch_size //= 2\n",
    "                    # logger.warning(f'eval_batch_size = {eval_batch_size}')\n",
    "                else:\n",
    "                    break\n",
    "            if not eval_batch_size:\n",
    "                RuntimeError('Not enough memory even for eval_batch_size=1')\n",
    "        metrics = (\n",
    "            dataset.calculate_metrics(predictions, report['prediction_type'])\n",
    "            if are_valid_predictions(predictions)\n",
    "            else {x: {'score': -999999.0} for x in predictions}\n",
    "        )\n",
    "        return metrics, predictions, eval_batch_size\n",
    "\n",
    "\n",
    "    class TrainLoss(Metric):\n",
    "        \"\"\" Computes a specified loss function over specified input-output pairs. \"\"\"\n",
    "        def __init__(self, loss_fn, ids: torch.Tensor):\n",
    "            super().__init__()\n",
    "            self.loss_fn = loss_fn\n",
    "            self.ids = ids\n",
    "\n",
    "        def __call__(self, model_wrapper: ModelWrapper) -> float:\n",
    "            # model_wrapper.current_dataset = 'val'\n",
    "            # loss = self.loss_fn(model_wrapper.forward(torch.arange(dataset.size('val'))).squeeze(-1), val_y).item()\n",
    "            model_wrapper.current_dataset = 'train'\n",
    "            loss = self.loss_fn(model_wrapper.forward(torch.arange(dataset.size('train'))).squeeze(-1), train_y).item()\n",
    "            # model_wrapper.current_dataset = 'train'\n",
    "            return loss\n",
    "        \n",
    "        \n",
    "    class ValLoss(Metric):\n",
    "        \"\"\" Computes a specified loss function over specified input-output pairs. \"\"\"\n",
    "        def __init__(self, loss_fn, ids: torch.Tensor):\n",
    "            super().__init__()\n",
    "            self.loss_fn = loss_fn\n",
    "            self.ids = ids\n",
    "\n",
    "        def __call__(self, model_wrapper: ModelWrapper) -> float:\n",
    "            model_wrapper.current_dataset = 'val'\n",
    "            loss = self.loss_fn(model_wrapper.forward(torch.arange(dataset.size('val'))).squeeze(-1), val_y).item()\n",
    "            model_wrapper.current_dataset = 'train'\n",
    "            return loss\n",
    "        \n",
    "        \n",
    "    class TestLoss(Metric):\n",
    "        \"\"\" Computes a specified loss function over specified input-output pairs. \"\"\"\n",
    "        def __init__(self, loss_fn, ids: torch.Tensor):\n",
    "            super().__init__()\n",
    "            self.loss_fn = loss_fn\n",
    "            self.ids = ids\n",
    "\n",
    "        def __call__(self, model_wrapper: ModelWrapper) -> float:\n",
    "            model_wrapper.current_dataset = 'test'\n",
    "            loss = self.loss_fn(model_wrapper.forward(torch.arange(dataset.size('test'))).squeeze(-1), test_y).item()\n",
    "            model_wrapper.current_dataset = 'train'\n",
    "            return loss\n",
    "        \n",
    "    if path_to_config[-2:] == \"pt\":\n",
    "        config = torch.load(path_to_config)['report']['best']['config']\n",
    "    else:\n",
    "        file_in = open(path_to_config, \"r\")\n",
    "        config = json.loads(file_in.read())\n",
    "    # print(config)\n",
    "    _patch_config(config)\n",
    "    C = lib.make_config(Config, config)\n",
    "    report = lib.create_report(config)\n",
    "\n",
    "    delu.improve_reproducibility(C.seed)\n",
    "    device = lib.get_device()\n",
    "\n",
    "    dataset = (C.data if isinstance(C.data, lib.Dataset) else lib.build_dataset(**C.data)).to_torch(device)\n",
    "\n",
    "    loss_fn = lib.get_loss_fn(dataset.task_type)\n",
    "\n",
    "    model = Model__(\n",
    "                n_num_features=dataset.n_num_features,\n",
    "                n_bin_features=dataset.n_bin_features,\n",
    "                cat_cardinalities=dataset.cat_cardinalities(),\n",
    "                n_classes=dataset.n_classes(),\n",
    "                **C.model,\n",
    "            )\n",
    "    model.load_state_dict(torch.load(path_to_model))\n",
    "    model.eval()\n",
    "\n",
    "    # os.system('clear')\n",
    "\n",
    "    report['n_parameters'] = lib.get_n_parameters(model)\n",
    "    report['prediction_type'] = None if dataset.is_regression else 'logits'\n",
    "    \n",
    "    train_model = copy.deepcopy(model)\n",
    "    train_model.current_dataset = 'train'\n",
    "    val_model = copy.deepcopy(model)\n",
    "    val_model.current_dataset = 'val'\n",
    "    test_model = copy.deepcopy(model)\n",
    "    test_model.current_dataset = 'test'\n",
    "\n",
    "    train_x = iter(delu.data.make_index_dataloader(dataset.size('train'), C.batch_size, shuffle=False)).__next__()\n",
    "    val_x = iter(delu.data.make_index_dataloader(dataset.size('val'), C.batch_size, shuffle=False)).__next__()\n",
    "    test_x = iter(delu.data.make_index_dataloader(dataset.size('test'), C.batch_size, shuffle=False)).__next__()\n",
    "\n",
    "    train_y = dataset.Y['train'].to(torch.long if dataset.is_multiclass else torch.float)\n",
    "    val_y = dataset.Y['val'].to(torch.long if dataset.is_multiclass else torch.float)\n",
    "    test_y = dataset.Y['test'].to(torch.long if dataset.is_multiclass else torch.float)\n",
    "\n",
    "    train_metric = TrainLoss(loss_fn, train_x)\n",
    "    val_metric = ValLoss(loss_fn, val_x)\n",
    "    test_metric = TestLoss(loss_fn, test_x)\n",
    "    \n",
    "\n",
    "    def plot_log1ploss_landscape(steps, distance):\n",
    "        train_loss_data_fin = loss_landscapes.random_plane(train_model, train_metric, distance, steps, deepcopy_model=True)\n",
    "        train_loss_data_fin = (train_loss_data_fin ** 0.5) if loss_fn is torch.nn.functional.mse_loss else train_loss_data_fin\n",
    "\n",
    "        val_loss_data_fin = loss_landscapes.random_plane(val_model, val_metric, distance, steps, deepcopy_model=True)\n",
    "        val_loss_data_fin = (val_loss_data_fin ** 0.5) if loss_fn is torch.nn.functional.mse_loss else train_loss_data_fin\n",
    "\n",
    "        test_loss_data_fin = loss_landscapes.random_plane(test_model, test_metric, distance, steps, deepcopy_model=True)\n",
    "        test_loss_data_fin = (test_loss_data_fin ** 0.5) if loss_fn is torch.nn.functional.mse_loss else train_loss_data_fin\n",
    "\n",
    "        fig = go.Figure(data=[go.Surface(z=np.log1p(train_loss_data_fin)),\n",
    "                              go.Surface(z=np.log1p(val_loss_data_fin)),\n",
    "                              go.Surface(z=np.log1p(test_loss_data_fin))])\n",
    "        fig.update_layout(autosize=False, width=500, height=500, margin=dict(l=65, r=50, b=65, t=90))\n",
    "        fig.show()\n",
    "        \n",
    "    def plot_loss_landscapes(steps, distance):\n",
    "        train_loss_data_fin = loss_landscapes.random_plane(train_model, train_metric, distance, steps, deepcopy_model=True)\n",
    "        train_loss_data_fin = (train_loss_data_fin ** 0.5) if loss_fn is torch.nn.functional.mse_loss else train_loss_data_fin\n",
    "\n",
    "        val_loss_data_fin = loss_landscapes.random_plane(val_model, val_metric, distance, steps, deepcopy_model=True)\n",
    "        val_loss_data_fin = (val_loss_data_fin ** 0.5) if loss_fn is torch.nn.functional.mse_loss else train_loss_data_fin\n",
    "\n",
    "        test_loss_data_fin = loss_landscapes.random_plane(test_model, test_metric, distance, steps, deepcopy_model=True)\n",
    "        test_loss_data_fin = (test_loss_data_fin ** 0.5) if loss_fn is torch.nn.functional.mse_loss else train_loss_data_fin\n",
    "\n",
    "        X = np.arange(-steps / 2, steps / 2)\n",
    "        Y = np.arange(-steps / 2, steps / 2)\n",
    "        fig = go.Figure(data=[go.Surface(z=train_loss_data_fin, x=X, y=Y)])\n",
    "        fig.update_scenes(xaxis_title_text='dir_one', yaxis_title_text='dir_two')\n",
    "        fig.update_layout(title='train', autosize=False, width=500, height=500, margin=dict(l=65, r=50, b=65, t=90))\n",
    "        fig.show()\n",
    "        fig.write_image(f'images/landscape_train_dist{distance}.pdf', format='pdf')\n",
    "\n",
    "        fig = go.Figure(data=[go.Surface(z=val_loss_data_fin, x=X, y=Y)])\n",
    "        fig.update_scenes(xaxis_title_text='dir_one', yaxis_title_text='dir_two', zaxis_title_text='RMSE')\n",
    "        fig.update_layout(title='val', autosize=False, width=500, height=500, margin=dict(l=65, r=50, b=65, t=90))\n",
    "        fig.write_image(f'images/landscape_val_dist{distance}.pdf', format='pdf')\n",
    "\n",
    "        fig = go.Figure(data=[go.Surface(z=test_loss_data_fin, x=X, y=Y)])\n",
    "        fig.update_scenes(xaxis_title_text='dir_one', yaxis_title_text='dir_two', zaxis_title_text='RMSE')\n",
    "        fig.update_layout(title='test', autosize=False, width=500, height=500, margin=dict(l=65, r=50, b=65, t=90))\n",
    "        fig.write_image(f'images/landscape_test_dist{distance}.pdf', format='pdf')\n",
    "\n",
    "    \n",
    "    plot_loss_landscapes(steps, distance)"
   ]
  },
  {
   "cell_type": "code",
   "execution_count": 12,
   "metadata": {},
   "outputs": [
    {
     "name": "stderr",
     "output_type": "stream",
     "text": [
      "/Users/timgritsaev/Desktop/tabular/tabular-hpo/lib/util.py:237: UserWarning:\n",
      "\n",
      "The key \"function\" will be missing in the report. Reason: '/private/var/folders/65/1vwp97n52f5bhqv1kd377bw40000gn/T/ipykernel_4274/81916396.py' is not in the subpath of '/Users/timgritsaev/Desktop/tabular/tabular-hpo' OR one path is relative and the other is absolute.\n",
      "\n",
      "0:55:30 | Using cached features: build_dataset__california__quantile__None__standard__0__f7706b82c7264c3b33fedc53664ebacf.pickle\n"
     ]
    },
    {
     "name": "stdout",
     "output_type": "stream",
     "text": [
      "----------------------------------------------------------------------------------------------------\n",
      "{'seed': 0,\n",
      " 'data': {'seed': 0,\n",
      "          'cache': True,\n",
      "          'path': ':data/california',\n",
      "          'num_policy': 'quantile',\n",
      "          'cat_policy': None,\n",
      "          'y_policy': 'standard'},\n",
      " 'model': {'num_embeddings': None,\n",
      "           'backbone': {'type': 'MLP',\n",
      "                        'n_blocks': 2,\n",
      "                        'd_layer': 238,\n",
      "                        'dropout': 0.23395140372463127,\n",
      "                        'activation': 'ReLU'}},\n",
      " 'optimizer': {'type': 'AdamW', 'lr': 0.0009213130217887258, 'weight_decay': 3.911847192982179e-05},\n",
      " 'batch_size': 256,\n",
      " 'patience': 16,\n",
      " 'n_epochs': inf}\n",
      "----------------------------------------------------------------------------------------------------\n"
     ]
    },
    {
     "data": {
      "application/vnd.plotly.v1+json": {
       "config": {
        "plotlyServerURL": "https://plot.ly"
       },
       "data": [
        {
         "type": "surface",
         "x": [
          -25,
          -24,
          -23,
          -22,
          -21,
          -20,
          -19,
          -18,
          -17,
          -16,
          -15,
          -14,
          -13,
          -12,
          -11,
          -10,
          -9,
          -8,
          -7,
          -6,
          -5,
          -4,
          -3,
          -2,
          -1,
          0,
          1,
          2,
          3,
          4,
          5,
          6,
          7,
          8,
          9,
          10,
          11,
          12,
          13,
          14,
          15,
          16,
          17,
          18,
          19,
          20,
          21,
          22,
          23,
          24
         ],
         "y": [
          -25,
          -24,
          -23,
          -22,
          -21,
          -20,
          -19,
          -18,
          -17,
          -16,
          -15,
          -14,
          -13,
          -12,
          -11,
          -10,
          -9,
          -8,
          -7,
          -6,
          -5,
          -4,
          -3,
          -2,
          -1,
          0,
          1,
          2,
          3,
          4,
          5,
          6,
          7,
          8,
          9,
          10,
          11,
          12,
          13,
          14,
          15,
          16,
          17,
          18,
          19,
          20,
          21,
          22,
          23,
          24
         ],
         "z": [
          [
           0.7094754706666261,
           0.7066401037211101,
           0.7037854801266138,
           0.700912002392243,
           0.6980212522307255,
           0.695112456787681,
           0.692184290652445,
           0.6892351448912831,
           0.6862622085555384,
           0.6832641460895835,
           0.680249518938606,
           0.6772151574162798,
           0.6741603971935612,
           0.6710853371853361,
           0.6679905670350874,
           0.6648692671902856,
           0.6617334924922444,
           0.6585870636117525,
           0.6554279401075993,
           0.6522564401275749,
           0.6490659311247027,
           0.6458624530708275,
           0.6426475974329859,
           0.6394196778290366,
           0.6361737873770551,
           0.6329129221790574,
           0.6296432157709733,
           0.6263622934395864,
           0.6230720347523371,
           0.6197726276155494,
           0.6164608552869765,
           0.6131397011070594,
           0.6098129948086894,
           0.6064835442671614,
           0.6031463876203227,
           0.5998055947786635,
           0.5964582066519715,
           0.5931067495884652,
           0.5897554748365121,
           0.586406088060844,
           0.5830598740839048,
           0.579714291716901,
           0.5763689383024837,
           0.5730306309723037,
           0.5696985258122514,
           0.566371101078041,
           0.5630508745373513,
           0.5597320642413234,
           0.556422943918903,
           0.5531236066639048
          ],
          [
           0.7029722259700091,
           0.7000770841458168,
           0.697160408351999,
           0.6942224208572462,
           0.6912654151370379,
           0.6882924584505551,
           0.6853021907770266,
           0.6822935327596601,
           0.6792610628450753,
           0.6762029401583811,
           0.6731205417836074,
           0.6700184254817181,
           0.6668962490625527,
           0.6637544702928947,
           0.6605917492946344,
           0.6574075798162295,
           0.6542051791944427,
           0.6509913514085764,
           0.6477679507169198,
           0.6445296085221167,
           0.641277051172898,
           0.6380082862294977,
           0.6347274064516149,
           0.6314335386274132,
           0.6281253397167293,
           0.6248046331235689,
           0.6214722493713317,
           0.6181318808038592,
           0.6147822580767001,
           0.6114207675925076,
           0.6080507169560717,
           0.6046698683501833,
           0.6012837147925625,
           0.5978898981683854,
           0.5944946287809237,
           0.5910947808446525,
           0.5876884746565745,
           0.5842765919041184,
           0.5808699113702153,
           0.5774709765254424,
           0.5740727349263413,
           0.5706789067721924,
           0.5672874173516438,
           0.5638993658722141,
           0.5605217000910531,
           0.5571518273950177,
           0.5537901860330866,
           0.5504358439554317,
           0.5470910599195136,
           0.5437549141409671
          ],
          [
           0.6904748796621261,
           0.6874754857981334,
           0.6844540659202759,
           0.6814134322997016,
           0.6783542052329765,
           0.6752783828230327,
           0.6721829218865932,
           0.6690645877283513,
           0.665920955608185,
           0.6627492597698854,
           0.6595568220923831,
           0.656347721635077,
           0.6531206176464771,
           0.6498711146440124,
           0.6466052584846987,
           0.6433240509063559,
           0.6400323545577619,
           0.6367298429494053,
           0.63341173598556,
           0.630079040715876,
           0.626732261472123,
           0.6233733466849117,
           0.620002459628856,
           0.6166220863655459,
           0.6132310008462266,
           0.6098231599436479,
           0.6064085526927623,
           0.6029867428845328,
           0.599557134980672,
           0.5961231439425178,
           0.5926767487202981,
           0.5892233965277527,
           0.5857650503064018,
           0.5823071229233394,
           0.5788446277763534,
           0.5753832317428927,
           0.571922928724654,
           0.5684697938609294,
           0.5650217696443588,
           0.5615755272629528,
           0.5581370534161317,
           0.5547098504519967,
           0.551290020084678,
           0.5478809097235893,
           0.5444811060406092,
           0.5410893799673903,
           0.5377067157327391,
           0.5343391417580113,
           0.5309885728148879,
           0.5276581851109295
          ],
          [
           0.6837233284345776,
           0.6806622673459783,
           0.6775818798867647,
           0.6744742129425023,
           0.6713468560609213,
           0.6681999118869956,
           0.6650359479968485,
           0.6618544951622636,
           0.6586425401165985,
           0.6554049091371776,
           0.6521498568994385,
           0.6488739061825872,
           0.6455768542511393,
           0.6422631555622766,
           0.63893390378301,
           0.6355895812932597,
           0.632228605486869,
           0.6288564674150421,
           0.6254768936347511,
           0.6220824092245765,
           0.6186733468095181,
           0.6152515711727488,
           0.6118168933619869,
           0.6083710053506554,
           0.6049123853500523,
           0.6014444805153631,
           0.597969920304516,
           0.5944883373678991,
           0.5909945396600329,
           0.5874982519326684,
           0.5839962655072147,
           0.5804887082762011,
           0.5769741614967665,
           0.5734573818159073,
           0.56994170062256,
           0.5664265859175999,
           0.5629189308774163,
           0.5594158658492101,
           0.5559161909800233,
           0.552423045767168,
           0.5489392694086213,
           0.5454665985545791,
           0.5420078034771745,
           0.538556870763001,
           0.5351208863094675,
           0.531696748819217,
           0.5282817833578175,
           0.524885764636429,
           0.521515120267888,
           0.5181623220863835
          ],
          [
           0.6706374103432391,
           0.6674659353486478,
           0.6642774121949366,
           0.6610650573000079,
           0.6578305602142874,
           0.6545735926988984,
           0.6512923533676178,
           0.6479883591789587,
           0.6446653053283453,
           0.6413270081277891,
           0.6379717801498814,
           0.6345932007404629,
           0.6311974579123519,
           0.627788308277069,
           0.6243659379471407,
           0.6209251606852202,
           0.6174762629761358,
           0.6140186711557166,
           0.6105442078789013,
           0.6070594810490106,
           0.603563596923754,
           0.6000571054860396,
           0.5965359978361752,
           0.5930021495233339,
           0.5894631680087432,
           0.5859184770675047,
           0.5823699938298363,
           0.5788133235176274,
           0.5752508269432122,
           0.571688129556905,
           0.5681205326320142,
           0.5645492366287277,
           0.5609816084922289,
           0.5574172909286835,
           0.5538598185072645,
           0.5503086741117873,
           0.5467613102040035,
           0.5432226013001424,
           0.5396954510781747,
           0.5361812548822291,
           0.5326827307933737,
           0.5291960785669313,
           0.5257252474883722,
           0.5222730352179894,
           0.5188359648932604,
           0.5154160162763056,
           0.5120184799524976,
           0.5086416078426236,
           0.5052862860981725,
           0.501953956217393
          ],
          [
           0.6636366881438635,
           0.6603961937395524,
           0.6571404229179754,
           0.6538597810520504,
           0.6505540751222199,
           0.6472223915482801,
           0.6438697194375558,
           0.6404964736778869,
           0.6371100223989372,
           0.6337126934199075,
           0.6302942868931414,
           0.6268532218839352,
           0.6233934496850887,
           0.6199215317492626,
           0.616437649622132,
           0.612936518295994,
           0.609417547061089,
           0.6058891559613222,
           0.6023544696492253,
           0.5988079518045016,
           0.5952506175881122,
           0.5916804838134259,
           0.5880996991349249,
           0.5845069205965142,
           0.5809045164811019,
           0.5772975464375392,
           0.573687820472715,
           0.5700768022912661,
           0.566457759225079,
           0.5628371817574245,
           0.5592161592400592,
           0.5555971504243399,
           0.5519826245372087,
           0.5483751158269616,
           0.5447683904378776,
           0.5411627669219845,
           0.5375704364312722,
           0.533992364875273,
           0.530423868384644,
           0.5268687616886244,
           0.5233328130996856,
           0.5198151522613813,
           0.5163146522069834,
           0.5128328266102037,
           0.5093731886006543,
           0.5059337487650133,
           0.5025129647266815,
           0.49911534009948616,
           0.4957476332141976,
           0.4924087027340797
          ],
          [
           0.6499427421733319,
           0.6465885965751157,
           0.64320954718894,
           0.6398084833395985,
           0.636386878460793,
           0.6329485899973637,
           0.629494575498326,
           0.6260261932551183,
           0.622543490357542,
           0.6190422292796104,
           0.615529017058054,
           0.6119956372797428,
           0.6084430610861067,
           0.60487629607019,
           0.6013014834007111,
           0.5977134427897869,
           0.5941137655132216,
           0.5905013303103792,
           0.5868803449393437,
           0.5832462558012994,
           0.5796049095194662,
           0.5759548231014829,
           0.5722947097001226,
           0.5686262624931618,
           0.5649571791600806,
           0.5612887746335097,
           0.5576215433194447,
           0.5539490256855206,
           0.5502784273516147,
           0.5466097052000433,
           0.5429493468406003,
           0.539294317406032,
           0.5356443643352349,
           0.5319976034182152,
           0.5283616590979308,
           0.5247399367212158,
           0.5211322181148698,
           0.5175406100514668,
           0.5139694512284128,
           0.5104231120370829,
           0.5068961752667663,
           0.503391298462642,
           0.4999075595518781,
           0.4964508663607916,
           0.4930187653380588,
           0.4896111497349254,
           0.4862344950432456,
           0.48289380176031865,
           0.4795874910757142,
           0.4763128220682591
          ],
          [
           0.6426917906063996,
           0.6392644064260439,
           0.635813719304021,
           0.6323435658915794,
           0.6288535291478851,
           0.6253489473883808,
           0.6218256446767249,
           0.6182886513360292,
           0.6147389915243902,
           0.6111770053098646,
           0.6075966390423239,
           0.6040010444493137,
           0.6003899727534249,
           0.5967624688046433,
           0.5931244365580931,
           0.5894740379673481,
           0.585814043390375,
           0.5821388452401695,
           0.5784517344367428,
           0.5747580039755885,
           0.5710599521389328,
           0.5673557084613726,
           0.5636393611040285,
           0.5599177481923836,
           0.5561929609221586,
           0.5524688730059019,
           0.5487471008224196,
           0.545028074573842,
           0.5413149339695839,
           0.5376033938566863,
           0.5338964461045234,
           0.5301936530408561,
           0.5264982155971593,
           0.5228143085236402,
           0.5191428374622925,
           0.5154790382711426,
           0.5118346337877748,
           0.5082132958604639,
           0.5046120956354643,
           0.5010369693855792,
           0.4974835819381958,
           0.49395430297633874,
           0.4904538153604294,
           0.4869806133255576,
           0.48353637884991396,
           0.4801284546383947,
           0.47675354052000624,
           0.4734137431564046,
           0.4701154689020457,
           0.46685721992943363
          ],
          [
           0.6283783918721354,
           0.6248379735734502,
           0.6212765886385077,
           0.6177027036808099,
           0.6141135041698099,
           0.6105067917838873,
           0.6068887609616858,
           0.6032610853372614,
           0.599620508345337,
           0.5959657184099069,
           0.5922937604840554,
           0.5886056297000614,
           0.5849049689467454,
           0.5811913850414263,
           0.5774662543424084,
           0.5737331698739607,
           0.56999022379238,
           0.5662390363444476,
           0.5624825156991319,
           0.5587148468429156,
           0.554945845281589,
           0.5511726720035016,
           0.5473980445950238,
           0.54362415304357,
           0.539855511947112,
           0.5360959288759352,
           0.5323356026758557,
           0.5285774211746361,
           0.5248249795367372,
           0.5210813472249765,
           0.5173514391558989,
           0.5136302162364155,
           0.509919505078019,
           0.5062255712195938,
           0.5025513346152497,
           0.49890094903602183,
           0.4952742498652769,
           0.4916697306726103,
           0.48809435510112453,
           0.4845474612941727,
           0.4810333965885312,
           0.4775527452876236,
           0.4741081448170581,
           0.4707013838486502,
           0.4673352668066248,
           0.46400385399360616,
           0.46071299241709285,
           0.4574704138772901,
           0.4542767258667004,
           0.45112520447153226
          ],
          [
           0.6209016658846624,
           0.6172926849355119,
           0.6136674333262312,
           0.6100225431544821,
           0.6063653767313034,
           0.6026949935774776,
           0.5990118472753853,
           0.5953167522208469,
           0.591610492023066,
           0.5878947058247719,
           0.5841566871392873,
           0.5804069434796311,
           0.5766497682932635,
           0.5728789288200684,
           0.5690973740627212,
           0.5653033601307739,
           0.5615002171234906,
           0.5576922738583704,
           0.5538762029291692,
           0.5500571990614281,
           0.546236019130192,
           0.5424117655129985,
           0.5385879694686835,
           0.5347682075075888,
           0.5309540260711206,
           0.527148853597233,
           0.5233480747185665,
           0.5195495774327684,
           0.5157583237723816,
           0.5119780254901057,
           0.5082089563807806,
           0.504452786031216,
           0.5007118581699789,
           0.49699320316848045,
           0.49329490814295357,
           0.4896192148600668,
           0.48597378058703194,
           0.4823541014474709,
           0.47876119735013484,
           0.4752039070151809,
           0.4716823569907395,
           0.46819899281104604,
           0.4647562601797489,
           0.46135493950755035,
           0.4579999227596618,
           0.4546900719638719,
           0.45142321170829347,
           0.4482025760609372,
           0.4450342748065181,
           0.44192032712388757
          ],
          [
           0.606029595296038,
           0.602318128147254,
           0.5985978133407965,
           0.5948627234625175,
           0.5911123515546701,
           0.5873497283785539,
           0.5835751787164559,
           0.5797887009455606,
           0.5759942249631127,
           0.5721855498134312,
           0.5683667683857879,
           0.5645397344226708,
           0.5606996281602367,
           0.5568487748586682,
           0.5529914770228351,
           0.5491278430701002,
           0.5452620015631598,
           0.5413888683528949,
           0.5375150223784033,
           0.5336428216177446,
           0.5297750305051923,
           0.5259146647219011,
           0.5220554097078993,
           0.5182039040649208,
           0.514361538623971,
           0.5105285197594376,
           0.5067030304274008,
           0.5028871092318599,
           0.49908224457323563,
           0.49529649847037927,
           0.49153063099082644,
           0.4877906623610155,
           0.4840753151198968,
           0.4803828185857477,
           0.47672200269661563,
           0.4730947997861867,
           0.46950163977969367,
           0.46593971241682214,
           0.4624183917860991,
           0.45894267115951815,
           0.45551194236459325,
           0.4521229944835897,
           0.4487836804143183,
           0.44549610301495757,
           0.4422572380851556,
           0.43906775637701,
           0.43593918447955243,
           0.4328737036608222,
           0.42986926655829616,
           0.42693203091318993
          ],
          [
           0.5983627730842246,
           0.5945945555659992,
           0.590812014687017,
           0.5870137820209954,
           0.5831980945858225,
           0.5793691856232437,
           0.5755251342014351,
           0.5716727769523281,
           0.5678146478573491,
           0.5639454495616836,
           0.5600699279755741,
           0.5561808510993872,
           0.5522827891765061,
           0.5483805504599075,
           0.5444722662221408,
           0.5405600381972223,
           0.5366406701832518,
           0.5327167178784489,
           0.5287935742669534,
           0.524874323607134,
           0.5209647743943387,
           0.5170654060561533,
           0.5131682040650021,
           0.5092742422417244,
           0.5053928831259061,
           0.5015207053385741,
           0.4976636421936141,
           0.49382079558507364,
           0.4899903408139754,
           0.48618119866087767,
           0.482396793099557,
           0.4786408396790048,
           0.4749127897713563,
           0.47121262576694045,
           0.4675455354504932,
           0.46391570791160625,
           0.4603246558786269,
           0.45677208684606446,
           0.45326193023083633,
           0.4497982599459262,
           0.4463854462366153,
           0.44302281448396064,
           0.43971149902351275,
           0.43645644047159,
           0.4332575998547709,
           0.43011687240194096,
           0.4270360986439215,
           0.42402695241883104,
           0.42109091621535333,
           0.4182247732493073
          ],
          [
           0.5830074802314668,
           0.5791503216703467,
           0.5752737254141199,
           0.5713785476374145,
           0.5674698413279802,
           0.563552983488258,
           0.5596316105952952,
           0.5557003177017915,
           0.5517590818137363,
           0.5478148966604621,
           0.5438622731460288,
           0.5399067390670632,
           0.5359460891168831,
           0.5319825899387355,
           0.5280186043734478,
           0.524049287514593,
           0.5200829982085152,
           0.5161194597955328,
           0.5121664462088547,
           0.5082264020369885,
           0.5042952285609712,
           0.5003711098074943,
           0.49645625409219,
           0.4925525915802027,
           0.48866764801661083,
           0.4848032258211274,
           0.4809558229382823,
           0.4771290366452012,
           0.4733315994618229,
           0.469567698303313,
           0.46583421154599103,
           0.46213342405735364,
           0.45846528263586683,
           0.4548370475891129,
           0.4512553117233393,
           0.4477235706831587,
           0.44423932712488,
           0.44080029308206364,
           0.4374137691258422,
           0.43408354167868546,
           0.4308129397121207,
           0.42760448138294727,
           0.4244570482572282,
           0.42137777201856236,
           0.41837063301389943,
           0.41542989841127625,
           0.41255765642022546,
           0.40977120263855593,
           0.40707347013901396,
           0.4044616105602605
          ],
          [
           0.57519829171256,
           0.5712787855479216,
           0.5673411841559061,
           0.5633833889147288,
           0.559419168827631,
           0.5554402039566061,
           0.5514540384651613,
           0.5474609233462889,
           0.5434602392878276,
           0.5394549945022706,
           0.5354480643906118,
           0.5314431680778354,
           0.5274336561634081,
           0.5234208744881843,
           0.5194073292646607,
           0.515402774895987,
           0.5113940191394347,
           0.5073922692663637,
           0.5034015996956064,
           0.4994217986521039,
           0.4954527370592478,
           0.49150261836164594,
           0.48756381925363573,
           0.48363844953042845,
           0.4797301779782307,
           0.47584288625375093,
           0.47198174955455086,
           0.46815430619470505,
           0.4643534952115741,
           0.46058335681496737,
           0.4568481404540852,
           0.4531539546002687,
           0.44950045170193764,
           0.4458872616169793,
           0.44232707904108665,
           0.4388191227382575,
           0.4353666916447941,
           0.43196940953838314,
           0.42862431165851844,
           0.4253370610362015,
           0.4221155399237334,
           0.41896421661052596,
           0.4158838269277567,
           0.41287520063131494,
           0.40994522478979695,
           0.40709274252159766,
           0.4043144922518446,
           0.40161652257279046,
           0.3990200496311299,
           0.39651966407715855
          ],
          [
           0.5594038257950174,
           0.55539416578331,
           0.5513711029897447,
           0.5473336612469663,
           0.5432910100078303,
           0.5392386383660084,
           0.5351801957390762,
           0.5311224167155636,
           0.5270667584895324,
           0.5230076576441807,
           0.5189480196789245,
           0.5148907838214054,
           0.510839916091415,
           0.5067921584668301,
           0.5027470525582147,
           0.4987100412141555,
           0.4946846812849293,
           0.4906655805048159,
           0.4866636872717483,
           0.48268561933626003,
           0.47872507610632203,
           0.4747863251286731,
           0.4708667961258602,
           0.4669669252564332,
           0.46310361959549873,
           0.4592746222721802,
           0.455477248909177,
           0.4517126599286923,
           0.447985806414864,
           0.4443028028940228,
           0.4406707340882119,
           0.43708906288440297,
           0.433556666807473,
           0.4300827116206292,
           0.426666284867702,
           0.42331236999838645,
           0.42002189687006386,
           0.4167945625791603,
           0.4136399866480411,
           0.41055814036149413,
           0.40755904641667634,
           0.40464124893945824,
           0.40180225413959025,
           0.399046880674771,
           0.39638190989033767,
           0.3938065473127515,
           0.3913255322767057,
           0.3889505547023397,
           0.3866846859504159,
           0.38452377076453187
          ],
          [
           0.5514744934242952,
           0.5474098859508242,
           0.5433328903182785,
           0.5392478126778629,
           0.5351508759834386,
           0.5310512339180498,
           0.5269434787328264,
           0.5228332333919846,
           0.5187196630776327,
           0.5146118382681196,
           0.5105111527733177,
           0.5064167795849155,
           0.502328457755307,
           0.4982417753749505,
           0.49416218586198785,
           0.4900865977993216,
           0.4860227920894136,
           0.48197845590293203,
           0.4779574505809983,
           0.47395475791448893,
           0.46997794802147097,
           0.4660288665757603,
           0.46210678951156037,
           0.4582114021353678,
           0.45434588350828464,
           0.45051755150571704,
           0.4467306310695537,
           0.4429795406850502,
           0.4392704732451826,
           0.43560951364101025,
           0.43200407649805694,
           0.42845519829943274,
           0.4249655408072563,
           0.4215365394363927,
           0.4181747463666382,
           0.4148778804381378,
           0.4116531667284752,
           0.40850174854586035,
           0.40542491242209683,
           0.4024302750667764,
           0.39952399272988653,
           0.39670641089260295,
           0.3939757260188858,
           0.3913388405503874,
           0.3888005374367555,
           0.3863608891216055,
           0.3840262381473158,
           0.3817986277428211,
           0.3796788430502518,
           0.3776806742890784
          ],
          [
           0.5353236249935709,
           0.5311913457915964,
           0.5270476746339475,
           0.5228985531267323,
           0.5187501987778615,
           0.5145989815910572,
           0.5104432845149306,
           0.506286794008268,
           0.5021342384945239,
           0.49799913663770146,
           0.4938714723009674,
           0.48975201162944515,
           0.48564397035954127,
           0.48154788829957157,
           0.4774592202183868,
           0.47338654712910383,
           0.4693465886869942,
           0.4653338245145142,
           0.4613493840990413,
           0.45739200406551916,
           0.4534692443209836,
           0.44958149734890546,
           0.44572595175112417,
           0.44190452943734937,
           0.4381300612740936,
           0.4344068755659941,
           0.4307275323094916,
           0.42710106704304424,
           0.4235288204803734,
           0.4200244512139007,
           0.4165900835547346,
           0.41322122437204284,
           0.40992515956696185,
           0.406703640675107,
           0.40355802832056864,
           0.40049267840628355,
           0.3975147707611978,
           0.3946248311769537,
           0.39182339898919416,
           0.3891173258991866,
           0.38651343395825616,
           0.38401168695064936,
           0.3816174713889043,
           0.37932981825355294,
           0.3771533928204349,
           0.3750913032007633,
           0.3731506163463591,
           0.3713374090849935,
           0.36965111850934107,
           0.3680936103417011
          ],
          [
           0.5273444564249464,
           0.5231656179758876,
           0.5189798914279123,
           0.5147953294319856,
           0.5106128069240118,
           0.5064255480692383,
           0.5022349178903601,
           0.4980425516576677,
           0.49385059273593357,
           0.489665822594272,
           0.4854990621826826,
           0.48134567127217076,
           0.4772078100452681,
           0.4730953982325948,
           0.4689993036433746,
           0.4649178261597424,
           0.46086082790654664,
           0.45683731137607714,
           0.4528507027263734,
           0.44889279025035383,
           0.44497112105454695,
           0.44109444872550474,
           0.4372588242217846,
           0.4334647012383568,
           0.4297174790067937,
           0.426022295134483,
           0.42238197946779416,
           0.4188022324738484,
           0.4152850151583134,
           0.41183401010911314,
           0.4084594688257061,
           0.4051669796759776,
           0.4019527201747802,
           0.3988208796247486,
           0.39577064728870137,
           0.3928102594583323,
           0.3899429852429565,
           0.3871701813489157,
           0.38449637194783276,
           0.3819233240684459,
           0.37945693593961527,
           0.37710080194142687,
           0.3748643351567732,
           0.37275258784352044,
           0.3707620242311045,
           0.3688912937245982,
           0.3671488437189687,
           0.36553500037769504,
           0.36405591508533997,
           0.36271594784343514
          ],
          [
           0.5109729136288653,
           0.5067535215781447,
           0.5025348483760317,
           0.4983142957617941,
           0.4940909409706445,
           0.48987217931672705,
           0.48565348209038833,
           0.48144080912435666,
           0.47723656807407344,
           0.4730520089057527,
           0.4688965250523907,
           0.46476522151014465,
           0.4606547377367262,
           0.4565741543649891,
           0.45251939028613797,
           0.44849357121515765,
           0.4445063337640738,
           0.4405610930990873,
           0.4366540393417115,
           0.43279121635795287,
           0.42897696268253044,
           0.4252152837321995,
           0.421509655184592,
           0.4178565400565228,
           0.4142641440217483,
           0.41074381930924553,
           0.4072962090742208,
           0.4039155940555859,
           0.4006176374773571,
           0.39741090276834695,
           0.3942941009562975,
           0.39126138347604017,
           0.3883208026351422,
           0.38547688305906547,
           0.38273390138234326,
           0.38009862971888075,
           0.3775719420615277,
           0.37515345056419575,
           0.3728509558247606,
           0.37066760440677493,
           0.36860820177570763,
           0.3666804038349948,
           0.3648857860323552,
           0.3632265480449612,
           0.3617009687893765,
           0.36030923651667274,
           0.3590606683098376,
           0.3579595097215466,
           0.3570062482498112,
           0.3562097267341974
          ],
          [
           0.5030421455351741,
           0.4987843607058707,
           0.4945255634770375,
           0.49027177584411147,
           0.4860219182960799,
           0.48177771864086333,
           0.477540217049106,
           0.47331173425519557,
           0.46909724725038787,
           0.4648980501660415,
           0.4607210297555621,
           0.45657252251749175,
           0.45245909266213913,
           0.4483782825514652,
           0.4443356692135179,
           0.4403243182012917,
           0.43635142647483943,
           0.43241791624274745,
           0.4285321568905304,
           0.424693967925749,
           0.4209130410760949,
           0.4171916832874884,
           0.4135349619855998,
           0.40994438875845374,
           0.4064183436570263,
           0.4029647146247011,
           0.3995951496176426,
           0.3963069236795006,
           0.3931064372084632,
           0.3899957547812617,
           0.38698266397010833,
           0.3840681425134837,
           0.3812528094203808,
           0.37854989982193515,
           0.37595119638456836,
           0.3734672135538616,
           0.3711025036231136,
           0.36886366288548217,
           0.36674430153521065,
           0.36475438691992246,
           0.3628966233462982,
           0.3611744321831199,
           0.3595912945876457,
           0.3581558362723606,
           0.35686643623592484,
           0.3557231118769988,
           0.3547277587359644,
           0.3538897942091958,
           0.35320821853336726,
           0.3526900752607469
          ],
          [
           0.48661258145764064,
           0.48233181193820746,
           0.4780552732200954,
           0.4737830326924157,
           0.4695345511931335,
           0.4652977177236232,
           0.46107665079043963,
           0.45687659817793125,
           0.45270301637834864,
           0.4485505151060449,
           0.4444295595908426,
           0.4403564493731635,
           0.4363314656647989,
           0.43234330370638374,
           0.4283924527348945,
           0.4244839389119309,
           0.42062755107814553,
           0.4168300447430864,
           0.41309634436806963,
           0.4094301062906115,
           0.40583842776950285,
           0.40231734253969226,
           0.39886795427919086,
           0.39550155823083527,
           0.39222576213079147,
           0.38904180126971605,
           0.38594772078227446,
           0.3829502325044079,
           0.38005652292774356,
           0.3772809870869158,
           0.3746148953314478,
           0.3720620622496142,
           0.36963136538616004,
           0.36732431662951653,
           0.3651424843148542,
           0.3630908959569832,
           0.36117901173875555,
           0.35940228234268506,
           0.35776721967685027,
           0.3562741012117022,
           0.35493049112349756,
           0.35373720843504197,
           0.35270112346678983,
           0.3518238579628995,
           0.35110385435442043,
           0.3505471720820699,
           0.3501545581836334,
           0.3499294605868017,
           0.34987136145768283,
           0.34997736355263914
          ],
          [
           0.47879776713863265,
           0.474496820235175,
           0.47021207085699956,
           0.4659336839822818,
           0.46166487055072203,
           0.4574166327745385,
           0.45319762141255027,
           0.44900399755448517,
           0.4448372496654891,
           0.4407009296061625,
           0.4365997930393436,
           0.4325379757663825,
           0.4285216728347007,
           0.42455723011548563,
           0.4206451397307039,
           0.4167864110861212,
           0.41298046524109766,
           0.4092378415682631,
           0.4055659697594832,
           0.4019722936747331,
           0.3984486073460405,
           0.3950045173724719,
           0.3916524154863756,
           0.3883897341992583,
           0.3852221689822182,
           0.38215257243321654,
           0.37918285223541204,
           0.37632254002635734,
           0.3735748668829969,
           0.3709442439828044,
           0.3684440580177511,
           0.3660694713739583,
           0.36382210370815754,
           0.3617078898964393,
           0.35972426898518023,
           0.3578817192323584,
           0.35618927002985923,
           0.3546449106332869,
           0.3532588721859961,
           0.352019246417801,
           0.3509359180180398,
           0.35001104073481,
           0.34924736673759116,
           0.3486542147523758,
           0.3482274067855458,
           0.34796929998744053,
           0.34788365374008967,
           0.34797463143580837,
           0.348234788235176,
           0.3486701133285215
          ],
          [
           0.46250226432658403,
           0.45821437773094614,
           0.45394702866081077,
           0.44970302186518557,
           0.44548411157855866,
           0.4413016541372867,
           0.4371534746302689,
           0.4330401624021326,
           0.42896902531728737,
           0.4249423976738823,
           0.42095803460639764,
           0.4170259019859653,
           0.4131547766788263,
           0.4093527780572996,
           0.40561644963920135,
           0.401952553351082,
           0.3983612548580279,
           0.39484657301684223,
           0.3914112570436662,
           0.3880625410087614,
           0.38481079843308175,
           0.381663115042746,
           0.37861805210054555,
           0.3756832018682361,
           0.372859188619309,
           0.370153259291026,
           0.3675690758267244,
           0.3651132025623154,
           0.3627887792332543,
           0.3606041330683555,
           0.3585548579249573,
           0.3566465880782288,
           0.3548899958990451,
           0.3532816286350737,
           0.3518241332640415,
           0.3505339730092291,
           0.34941037870696695,
           0.34844822631884825,
           0.34764743107957985,
           0.34701063451287867,
           0.346545803383336,
           0.3462494127667953,
           0.34613368060191807,
           0.34619804558890976,
           0.3464396653256508,
           0.3468557206372108,
           0.3474552452131474,
           0.34823438172462984,
           0.34918891941476454,
           0.35031770098293796
          ],
          [
           0.45495015911502407,
           0.4506652431533742,
           0.44640156936728553,
           0.4421649084621797,
           0.4379661154693289,
           0.4338038682879908,
           0.42968195131360587,
           0.4256002934044798,
           0.4215640052050278,
           0.4175785774820872,
           0.413647515693701,
           0.4097790027685662,
           0.40597361553014094,
           0.40223340493508186,
           0.39857783370650585,
           0.39499712339391974,
           0.39150086437631726,
           0.388080607254292,
           0.38475036590836387,
           0.38152023103174465,
           0.37838981277562,
           0.3753663895769392,
           0.37245628782109585,
           0.3696692985123376,
           0.36701443834643627,
           0.36447977457198416,
           0.3620793137731468,
           0.35981563837625175,
           0.3576909079368518,
           0.3557121784776459,
           0.3538852677009461,
           0.3522090370985457,
           0.3506886323860581,
           0.3493320814566318,
           0.3481383891587074,
           0.3471204078598598,
           0.34627450179778263,
           0.34560482330132647,
           0.34510721689878404,
           0.3447831299273375,
           0.34463126834914926,
           0.34465985828004714,
           0.3448703779268264,
           0.34526995012662975,
           0.34585482830249875,
           0.3466236015405793,
           0.3475683186803204,
           0.34868902399728696,
           0.3499944473575462,
           0.35147878921794823
          ],
          [
           0.43906168140049984,
           0.4348444727495159,
           0.43066968503296343,
           0.4265359087749763,
           0.4224478223566417,
           0.41840886625588386,
           0.4144218073453899,
           0.4104964162667782,
           0.40663468047825546,
           0.40283369584173123,
           0.3991047937300281,
           0.39545229298424467,
           0.3918783299062788,
           0.3883952397553724,
           0.38500276025798214,
           0.38170086747331516,
           0.37849785730569285,
           0.37539929748107664,
           0.3724110562429796,
           0.3695388341532689,
           0.3667885662596244,
           0.36417011504137337,
           0.3616848602238141,
           0.35934315415965035,
           0.3571477996109522,
           0.35509544724785025,
           0.35319299887131617,
           0.35144374749120444,
           0.3498540480317499,
           0.3484332905502248,
           0.34717534053396,
           0.34608642966491787,
           0.3451777847016912,
           0.3444486151313712,
           0.34390038755239183,
           0.3435366792280174,
           0.3433555811128858,
           0.3433575991431652,
           0.3435492688088373,
           0.3439199829306014,
           0.3444760739007211,
           0.3452225054331782,
           0.34615672251176727,
           0.3472760082018509,
           0.3485819889069732,
           0.3500700957065558,
           0.3517346278656522,
           0.35358213357559287,
           0.3556078544331765,
           0.3578124075477181
          ],
          [
           0.43192972021502796,
           0.4277528906868891,
           0.4236115460402266,
           0.4195206965818667,
           0.4154803095913442,
           0.41149717662649204,
           0.4075792281238441,
           0.4037255013712865,
           0.3999375175312728,
           0.3962177263167385,
           0.3925791877997896,
           0.3890228603652548,
           0.3855572607309291,
           0.38218992561574966,
           0.3789229831736767,
           0.37575580011105686,
           0.37269539777392724,
           0.3697461807680483,
           0.3669174093790109,
           0.36421919303484157,
           0.3616584505116249,
           0.35922978411200746,
           0.3569397932315261,
           0.3547986600003317,
           0.3528155460513374,
           0.3509906993092909,
           0.34932856230664255,
           0.3478353767549006,
           0.34651352029764904,
           0.3453641835540558,
           0.34439087860553613,
           0.34359459181713253,
           0.34298477830559443,
           0.3425601937136855,
           0.34232461786195184,
           0.34228040008940924,
           0.3424311393234781,
           0.3427774151954368,
           0.34331332994878466,
           0.34404412604252915,
           0.34496247429559934,
           0.34607110132375996,
           0.3473647642278237,
           0.3488481962232798,
           0.35051946620854046,
           0.3523761552512294,
           0.3544148342343218,
           0.35663106598426725,
           0.3590275909678311,
           0.36159503460683023
          ],
          [
           0.41681531598982735,
           0.41278211093373546,
           0.4088059678389075,
           0.4048952107203494,
           0.4010520681873636,
           0.39728172817244956,
           0.39358512817486174,
           0.3899649192853623,
           0.38643165489439263,
           0.38298923927882583,
           0.37964601172315826,
           0.3764128494475922,
           0.37328868039425506,
           0.37027732987928064,
           0.3673749607510593,
           0.364597949234588,
           0.361955726559843,
           0.35945298551189037,
           0.35708936222525717,
           0.3548703869086137,
           0.35280141816419147,
           0.3508906939230812,
           0.34914775826590666,
           0.34756786851761723,
           0.3461616406469981,
           0.34493215984075254,
           0.34389193812274765,
           0.34303714791400675,
           0.3423665340403333,
           0.3418821283012251,
           0.3415896741348033,
           0.34148586837522305,
           0.34158048046701656,
           0.3418782382581586,
           0.3423759133339629,
           0.34306811846168184,
           0.34396119565752825,
           0.3450550643024395,
           0.3463441648927382,
           0.34782277094644204,
           0.3494901080723608,
           0.35135026459497337,
           0.35339551539692476,
           0.35562308597552433,
           0.35802500548755956,
           0.360610434735525,
           0.3633705357584741,
           0.3663042890457979,
           0.36940909013752754,
           0.3726760259215355
          ],
          [
           0.4103012010481454,
           0.4063477398597945,
           0.4024514544870314,
           0.39862316144206433,
           0.39487064983970116,
           0.39119625283008785,
           0.38760276862185117,
           0.3840965029669276,
           0.38069188274189836,
           0.3773856769591651,
           0.3741882797610287,
           0.37110192139312403,
           0.3681365389869366,
           0.3652940793120729,
           0.3625798786879585,
           0.35999783157649246,
           0.35756034461820224,
           0.3552688204070517,
           0.3531275774431267,
           0.35113793273784505,
           0.3493134615515134,
           0.34765421406010466,
           0.34616957193450926,
           0.3448665323928948,
           0.34373463249535036,
           0.34279040215834256,
           0.34203872843269684,
           0.34148812654346233,
           0.34113329095085065,
           0.3409754009491435,
           0.3410132116383105,
           0.34125150495064577,
           0.34169308857789665,
           0.34234391169367934,
           0.34319922365315314,
           0.34425411323231475,
           0.34551073097906976,
           0.346967905078056,
           0.34862820705075326,
           0.3504882187523073,
           0.35253374724462716,
           0.35476846149035607,
           0.35718991616700946,
           0.35978927783066267,
           0.3625681040356565,
           0.3655166555111368,
           0.3686416927592686,
           0.3719380862154962,
           0.3754021554499891,
           0.37902364190450044
          ],
          [
           0.3964317737883267,
           0.39270262380980914,
           0.38905202782566595,
           0.3854920940652246,
           0.38202330926236794,
           0.3786568361526364,
           0.37539598300376964,
           0.3722447064217398,
           0.36921291551730284,
           0.36630262117288975,
           0.36351299072596643,
           0.36085524674552677,
           0.35834232483531614,
           0.355978254776558,
           0.3537658943608928,
           0.35170641178841,
           0.34980434969359103,
           0.34807165380912186,
           0.3465071987818987,
           0.3451212279898749,
           0.34391889974371204,
           0.3428967246023489,
           0.3420709873221993,
           0.34143402458012817,
           0.3409957761985366,
           0.3407632840163733,
           0.3407364006911144,
           0.34091426789442153,
           0.3412973186502436,
           0.3418858112703964,
           0.3426866448659766,
           0.34369646002228654,
           0.3449138100395116,
           0.3463414113365819,
           0.3479733253455699,
           0.3498032527789795,
           0.35183578042270036,
           0.3540661145503023,
           0.3564917965195241,
           0.35910660631348795,
           0.36190407703703537,
           0.36487778172048474,
           0.3680281249007011,
           0.37134266586293124,
           0.3748252381956974,
           0.378479983262836,
           0.3822886717191346,
           0.3862519577742159,
           0.39036295684550254,
           0.3946142392641318
          ],
          [
           0.3907585487955964,
           0.38715428573968563,
           0.3836329096366838,
           0.38020693330202177,
           0.376884553038572,
           0.37367361656515274,
           0.3705741859069377,
           0.367599905019422,
           0.3647501382258822,
           0.3620324564433339,
           0.35944427983445476,
           0.356997900308851,
           0.35470513707477486,
           0.35256880743020824,
           0.35060002715719435,
           0.34879596215916314,
           0.3471620991099323,
           0.345698943894097,
           0.3444193478810739,
           0.34332466904847786,
           0.34242563453192754,
           0.34171806516783665,
           0.3412034687344989,
           0.34089081698988083,
           0.3407818463760608,
           0.3408844349174069,
           0.34119916697978464,
           0.3417275058651949,
           0.3424647644984814,
           0.3434111485598348,
           0.34457222182399283,
           0.34594682412129446,
           0.3475298491014871,
           0.34933024723742456,
           0.3513415808091165,
           0.35355366454768294,
           0.3559576801142384,
           0.35856119560787725,
           0.3613602907452312,
           0.36434450728614787,
           0.36751128185886833,
           0.3708560383021586,
           0.3743655679307464,
           0.3780453330046173,
           0.38188493028955944,
           0.38587705934282096,
           0.3900273328458653,
           0.3943285846449807,
           0.3987702868571645,
           0.40334231337423493
          ],
          [
           0.37864363309841015,
           0.3753792712412891,
           0.3722196064192081,
           0.36917834619010625,
           0.36626342397311396,
           0.36347769481353426,
           0.36083185292895414,
           0.35832596131807093,
           0.35596488033478974,
           0.35375148850387295,
           0.35169364814204324,
           0.3498088118641757,
           0.34809635465691807,
           0.34656380879298637,
           0.34521146608073444,
           0.34404676805055634,
           0.34307282026741354,
           0.3422921325582134,
           0.3417131484889053,
           0.34133309643373677,
           0.34115659415281946,
           0.3411840121427592,
           0.34142096420110035,
           0.3418759281836259,
           0.34254350041409554,
           0.34342196374728284,
           0.3445156413930422,
           0.3458277052206891,
           0.34735668863556096,
           0.34910373244433396,
           0.351059193084012,
           0.3532259581572098,
           0.3556058221147841,
           0.3581949430673169,
           0.360978736008143,
           0.3639535118654187,
           0.36711401914332703,
           0.3704642528130654,
           0.3739897112667877,
           0.37768872289918853,
           0.381558641981261,
           0.38558377260395127,
           0.3897725913747454,
           0.3941165141659983,
           0.39859768508529864,
           0.40321681285642064,
           0.40797483640562654,
           0.4128629835795652,
           0.41786754131478676,
           0.42299711264082523
          ],
          [
           0.3741079289791927,
           0.3710199383059001,
           0.36804581825203425,
           0.36520036753257856,
           0.36249202193327096,
           0.35992012972415827,
           0.357491491656659,
           0.3552122762839699,
           0.35309069475289856,
           0.3511320233673011,
           0.34934049528062705,
           0.34772497205120484,
           0.34628956295005237,
           0.3450399600604335,
           0.3439874045996466,
           0.3431341658689931,
           0.3424861388638572,
           0.34203627785254276,
           0.34179434639131634,
           0.3417578320683631,
           0.34193515705107097,
           0.3423171633830569,
           0.3429154647935097,
           0.3437309368222913,
           0.344758051225676,
           0.34599719498233256,
           0.3474602843477351,
           0.34914692603089237,
           0.351051308596641,
           0.3531645195714058,
           0.35549207757553647,
           0.35802771080647133,
           0.3607737644587035,
           0.363723833938912,
           0.3668763485937336,
           0.37021172757901344,
           0.373724815738568,
           0.3774229294373887,
           0.3812991415465341,
           0.3853436499671228,
           0.38956014450269344,
           0.3939344972970831,
           0.3984571152888882,
           0.40312167765113277,
           0.4079333970214365,
           0.41287610291031407,
           0.4179484282214751,
           0.4231432289862386,
           0.42845610254749356,
           0.4338733699375613
          ],
          [
           0.3644005544348392,
           0.3617680526320447,
           0.35928096784965646,
           0.35694572125456786,
           0.3547580027144697,
           0.35272307097950956,
           0.35085522183950335,
           0.34916905427168005,
           0.34766622593314733,
           0.3463409380669129,
           0.34520466747689554,
           0.3442609955348225,
           0.34352395905376604,
           0.34299579157485743,
           0.34268036146519243,
           0.34257852821804835,
           0.3426811333078279,
           0.3429978877487706,
           0.34353187533009116,
           0.34428398965156004,
           0.3452500752946853,
           0.34643464360512527,
           0.3478390609490961,
           0.3494573720890966,
           0.35129377903418385,
           0.3533551605398357,
           0.35562935020320263,
           0.35811637152351644,
           0.36080544272914655,
           0.363705254322808,
           0.3668102599150492,
           0.370116261503727,
           0.3736161287593978,
           0.3773023144261997,
           0.38116436997249764,
           0.38520584483535175,
           0.3894228939769638,
           0.3938076824746592,
           0.39835626110558864,
           0.4030587962591591,
           0.40790097676314757,
           0.4128847466432008,
           0.4180080894424381,
           0.4232634373124283,
           0.42864367537420717,
           0.43414531027692527,
           0.4397483512181726,
           0.4454520492072397,
           0.45125967055020916,
           0.45716740137067374
          ],
          [
           0.3613151960379567,
           0.3589187296390403,
           0.3566726168837318,
           0.35458055556016504,
           0.35264592123053995,
           0.3508803743692161,
           0.3492930488999718,
           0.34789189913910645,
           0.3466820085474679,
           0.34566945919618186,
           0.34485833348496375,
           0.34424820473077483,
           0.3438441082707166,
           0.3436491341426092,
           0.34367778409650324,
           0.3439223334344175,
           0.3443855024941329,
           0.3450613044610271,
           0.3459579907614346,
           0.34707754167317034,
           0.34841451569090687,
           0.34997868345264993,
           0.3517618779567574,
           0.3537630300851687,
           0.3559870870745003,
           0.35842329973263354,
           0.36106652765072983,
           0.363913611226627,
           0.3669708708641982,
           0.37023332127592007,
           0.37369383389926486,
           0.3773476705090799,
           0.3811891546318243,
           0.3852087847801742,
           0.389406152798526,
           0.39378622736107494,
           0.398334751718515,
           0.4030461522550807,
           0.40791027387818696,
           0.4129280528100329,
           0.41808632952652053,
           0.4233807430728149,
           0.42880496512441274,
           0.43435517890221,
           0.44002522845984304,
           0.44581189512540403,
           0.45169905211531,
           0.45768588206229094,
           0.46376609905400296,
           0.46993863083035825
          ],
          [
           0.35467749342057736,
           0.3528493746568583,
           0.3511924279365,
           0.34971745914101343,
           0.3484298478556411,
           0.3473294039709617,
           0.3464308799552968,
           0.34574096817389466,
           0.34526223554758867,
           0.34499292646288465,
           0.34493889901647645,
           0.34510368705038375,
           0.3454796990428427,
           0.3460802402830403,
           0.34689870014502466,
           0.34794448305430237,
           0.3492141706264565,
           0.3507056602986337,
           0.3524202902269259,
           0.3543531917744236,
           0.35650895478102357,
           0.3588915350973586,
           0.36149078007306784,
           0.36430201121682687,
           0.3673166494299027,
           0.3705309766607699,
           0.3739534915231636,
           0.3775699885016756,
           0.38138055598420145,
           0.3853816605040924,
           0.38956266907679565,
           0.3939166617010504,
           0.39844138947626706,
           0.4031345225843273,
           0.4079940296874606,
           0.4130130460020235,
           0.41819498588328197,
           0.4235197430797298,
           0.42898479569330605,
           0.43457355283750676,
           0.4402887326033244,
           0.4461203659054218,
           0.4520651985814671,
           0.45811508321502425,
           0.46427181866308526,
           0.4705195563637318,
           0.4768651095323344,
           0.4832928474778657,
           0.48980274424268966,
           0.49638849048347095
          ],
          [
           0.353324712132295,
           0.35178347106921015,
           0.3504287877558689,
           0.3492596331396286,
           0.34828148030221684,
           0.34750351068726737,
           0.3469309796019694,
           0.3465740418984519,
           0.34643456833252945,
           0.34651694977919856,
           0.34681762315283454,
           0.3473423172633334,
           0.34808845656952536,
           0.34904785455086185,
           0.35023187381583926,
           0.3516428961486631,
           0.353283368525676,
           0.3551508771269261,
           0.3572358861742007,
           0.35954595728853195,
           0.3620768650773628,
           0.36482944583012467,
           0.36779854030905473,
           0.37096939010892666,
           0.37434831259851464,
           0.37792497577736556,
           0.3817072697902843,
           0.38568249977046687,
           0.3898395652775735,
           0.3941730535075785,
           0.39868842432776375,
           0.4033765961397058,
           0.40822139498331134,
           0.4132245960596651,
           0.41839031101540836,
           0.42370918468395186,
           0.42917364779908357,
           0.43479078893507406,
           0.44054103551824403,
           0.4464164234960873,
           0.4524082072029167,
           0.4585068349016816,
           0.46471294197463525,
           0.4710271677566533,
           0.4774353757287428,
           0.4839405141542222,
           0.49053637256852906,
           0.49720535991918413,
           0.5039494813812128,
           0.51077317094642
          ],
          [
           0.350363020303906,
           0.34951111675422714,
           0.3488549985711487,
           0.3484124307209959,
           0.34818598218267593,
           0.34817488699852506,
           0.34837992496109493,
           0.34881619030398653,
           0.3494805039874365,
           0.35036461519903056,
           0.3514742740554145,
           0.3528078803173053,
           0.3543667111444994,
           0.3561485204551584,
           0.3581579581335528,
           0.3603947517957571,
           0.36285484063619095,
           0.3655362233360644,
           0.3684315001021039,
           0.3715451957901796,
           0.3748699002289513,
           0.3784046589141166,
           0.3821404650075983,
           0.3860709033166986,
           0.39019456035966565,
           0.39451257264901174,
           0.39901028395308935,
           0.403682776780646,
           0.40852737325239624,
           0.4135316288624252,
           0.4186938404742616,
           0.42400361747930426,
           0.4294650976112742,
           0.43507198565729455,
           0.44081988252239357,
           0.4467086822613487,
           0.452728410340877,
           0.45886772783773194,
           0.46511928822824783,
           0.4714803017580176,
           0.47794164370604586,
           0.4845052667002825,
           0.4911595160262924,
           0.49790330201199656,
           0.504734010000073,
           0.5116457413868863,
           0.5186160063902753,
           0.5256660902130621,
           0.5327803504171479,
           0.5399473364192681
          ],
          [
           0.3510083175160041,
           0.35048628429440226,
           0.35017089928857936,
           0.35007177706826276,
           0.3501910799263236,
           0.3505317199777338,
           0.3510954191255641,
           0.35188669515589993,
           0.35291421430959996,
           0.35417486863830244,
           0.35565050948755567,
           0.35735030578150784,
           0.3592794747482521,
           0.36143630186908415,
           0.3638118232874105,
           0.36641561256273264,
           0.3692380383038472,
           0.3722792111586483,
           0.3755408201925863,
           0.3790113362363237,
           0.38268885269935243,
           0.38657486290617504,
           0.3906634502560571,
           0.3949414000320868,
           0.399401097915021,
           0.4040365625009045,
           0.40885397026235476,
           0.41385236842298223,
           0.4190131712689213,
           0.42433528177750957,
           0.4298119624818051,
           0.435421348239365,
           0.44117361031568114,
           0.4470564173867664,
           0.45307933643056897,
           0.459232458070323,
           0.4655099950766288,
           0.47189900924536576,
           0.47840229171479914,
           0.48501106768200686,
           0.4917169925693444,
           0.4985157274426354,
           0.5054060919248456,
           0.5123848983560495,
           0.5194380540364028,
           0.5265726456386359,
           0.53377292914354,
           0.5410284047734726,
           0.548359463783145,
           0.5557516930640579
          ],
          [
           0.3522260972733105,
           0.3524725367791387,
           0.3529425343728123,
           0.35364079235381213,
           0.3545661828024476,
           0.3557217085667613,
           0.35711381487609817,
           0.3587367153034064,
           0.3605929344241414,
           0.36266662533507976,
           0.3649592868098407,
           0.3674752548541291,
           0.3702194354457568,
           0.3731848576390997,
           0.3763642331271179,
           0.37976541151501014,
           0.3833759404255788,
           0.387197237023188,
           0.39122476310505855,
           0.39545562776628707,
           0.3998789797933946,
           0.40449093570266864,
           0.4092796585938679,
           0.41423641007462264,
           0.41935880302840184,
           0.42465807259101346,
           0.43011966127088375,
           0.43574126143893566,
           0.44151794235777486,
           0.44742909405151365,
           0.45345902463484106,
           0.45961364463990007,
           0.46589770363955935,
           0.47230409476552443,
           0.4788320468338041,
           0.4854719446357686,
           0.4922191518869479,
           0.4990701522909299,
           0.5060080232530719,
           0.5130373731035031,
           0.5201546506894369,
           0.5273508989767881,
           0.5346176611517255,
           0.541959194519449,
           0.5493735321858558,
           0.5568507015608507,
           0.5643840338320858,
           0.5719786826192873,
           0.5796300525424504,
           0.5873363835186657
          ],
          [
           0.3550268297735355,
           0.35562721325499036,
           0.3564510815297271,
           0.3575066637871974,
           0.3587973970079572,
           0.36032087820854863,
           0.36207462213980235,
           0.36405456436087363,
           0.3662697503229557,
           0.36871705150495937,
           0.37138465722289515,
           0.374264850842915,
           0.3773621430268069,
           0.38068047258638743,
           0.3842156638215028,
           0.38796816432138975,
           0.3919229686770315,
           0.39608338472245747,
           0.40044882746751176,
           0.4050054008512307,
           0.40974925602164,
           0.414675079510408,
           0.41977433562492833,
           0.42504754852330184,
           0.43047911809768896,
           0.4360789312279837,
           0.4418316032325911,
           0.4477320741678526,
           0.453777731003392,
           0.4599653920081458,
           0.4662759020465243,
           0.47270438839759943,
           0.4792411753180798,
           0.485896642997342,
           0.4926662084974594,
           0.49954679930884055,
           0.506531140476356,
           0.5136055268926873,
           0.5207760461455122,
           0.5280333636988219,
           0.5353623153569704,
           0.5427685649882361,
           0.5502454437611438,
           0.5577927561880126,
           0.5654067856757582,
           0.5730846910019151,
           0.5808192184718095,
           0.5886057309641958,
           0.5964530851679757,
           0.6043579741390499
          ],
          [
           0.3607145512625757,
           0.36213153495593675,
           0.3637801200810483,
           0.3656653854693383,
           0.3677779381264423,
           0.3701176504972677,
           0.3726912196164223,
           0.3754904043784965,
           0.37851017966747996,
           0.3817497019451204,
           0.3852080497960721,
           0.3888711274817765,
           0.39275189250050585,
           0.3968380820757781,
           0.40113099659746365,
           0.4056269012018681,
           0.4103144022889503,
           0.4151885358139134,
           0.42024287884503536,
           0.42546346161715154,
           0.43085871512257873,
           0.4364277096780649,
           0.44217014885279066,
           0.4480629689419953,
           0.45409788724991224,
           0.4602742514999277,
           0.46657723083543273,
           0.47301905870752275,
           0.4795951188934729,
           0.48628458341376884,
           0.4930809177523038,
           0.49998341473252017,
           0.506990589221916,
           0.514097813144122,
           0.521303038197161,
           0.5286067390706554,
           0.5360010259586451,
           0.5434757582461744,
           0.5510210367486249,
           0.5586259205764283,
           0.5662989547653832,
           0.5740413781082031,
           0.5818447864035007,
           0.5897099172579472,
           0.5976395199497272,
           0.60562478792799,
           0.6136583274545446,
           0.6217421260330551,
           0.6298741539648347,
           0.6380607644385492
          ],
          [
           0.36571330528375323,
           0.36749080549143376,
           0.3694954433392488,
           0.37173571021572305,
           0.3742040890109377,
           0.3769035109052038,
           0.3798251071436403,
           0.3829659524206097,
           0.3863268513750117,
           0.3899108270949902,
           0.3937167267137671,
           0.3977270711551502,
           0.40194037503409635,
           0.40635322213114067,
           0.41097111365052147,
           0.4157852645445109,
           0.4207853444123679,
           0.4259612026882289,
           0.4313117107521777,
           0.4368296494364392,
           0.44251318351589586,
           0.448365919534339,
           0.45438099129149295,
           0.4605541574874649,
           0.4668644493064988,
           0.47331176573795763,
           0.47988053889157134,
           0.48657251062305673,
           0.4933901882138892,
           0.5003350148802796,
           0.5073853970778341,
           0.5145236882946647,
           0.5217619596480582,
           0.5290952066044683,
           0.5365186737593394,
           0.5440349676187162,
           0.5516397805687612,
           0.5593171936939695,
           0.5670689093665774,
           0.5748816316507857,
           0.5827488923326175,
           0.5906828160724352,
           0.5986834904438584,
           0.6067305184479711,
           0.6148448134610626,
           0.6230233167062961,
           0.6312330574179207,
           0.6394907050721118,
           0.6478000633050688,
           0.6561645951782982
          ],
          [
           0.3759219835968476,
           0.3785152384123191,
           0.3813352106581396,
           0.38437832544020273,
           0.38764959108967534,
           0.39113162565608434,
           0.3948240798621602,
           0.39873471114167147,
           0.40286489641620854,
           0.40721060815382176,
           0.4117538401002511,
           0.41648598170645856,
           0.4214064150347756,
           0.4265180913983335,
           0.43181278713634735,
           0.4372857795502001,
           0.4429241682758888,
           0.4487230468401875,
           0.4546908748802965,
           0.4608242413013077,
           0.4671078846944848,
           0.4735383716300227,
           0.4801114001742731,
           0.48681755410138466,
           0.49364882712238867,
           0.5005952450961936,
           0.5076523454914597,
           0.5148293396202203,
           0.5221098388596751,
           0.5294872659407363,
           0.5369447490516733,
           0.5444949812557097,
           0.552133968718293,
           0.559859382566581,
           0.567667090524809,
           0.5755460540860907,
           0.583495404231091,
           0.5915075923306653,
           0.5995772909222697,
           0.6077008358093259,
           0.6158892582349484,
           0.6241362325007865,
           0.6324205008592574,
           0.6407628027477462,
           0.6491545883037712,
           0.6575904507664162,
           0.6660720935498252,
           0.6746041735618116,
           0.6831790647201459,
           0.6917961228300342
          ],
          [
           0.3830393294342604,
           0.3859752675160108,
           0.3891352857350944,
           0.3925241271882776,
           0.3961332485812358,
           0.3999476890333147,
           0.4039731964470975,
           0.4082068666715571,
           0.41264669815326965,
           0.4172944842545142,
           0.42214106187883604,
           0.4271779556436046,
           0.4324018920030409,
           0.43780908565564913,
           0.4433902948159638,
           0.4491418689784209,
           0.4550574629517562,
           0.4611375665480203,
           0.46737741737424127,
           0.47377444637001137,
           0.4803215204457836,
           0.48700415875227754,
           0.49382473343823785,
           0.5007713745381304,
           0.5078508802728741,
           0.5150463730109162,
           0.5223422191892987,
           0.5297406577834286,
           0.5372397247279751,
           0.544834225623045,
           0.552520953380903,
           0.5602833995932112,
           0.5681242046623413,
           0.5760401688384391,
           0.5840436210050794,
           0.5921271129809628,
           0.6002788223677445,
           0.6084830529902134,
           0.6167436766437526,
           0.6250610321763088,
           0.6334265096620919,
           0.6418454477477263,
           0.6503199404318805,
           0.6588359925750146,
           0.6674038243746906,
           0.6760116581264234,
           0.6846595956260176,
           0.6933542815545201,
           0.7020954435720896,
           0.7108685805901392
          ],
          [
           0.39759837405780896,
           0.4013140566667499,
           0.4052374398663688,
           0.40937201593490813,
           0.41372078164301485,
           0.41827429539424654,
           0.4230260863264095,
           0.4279667993607622,
           0.4330956975099142,
           0.4384152511857098,
           0.44391905962499156,
           0.4496067859034889,
           0.4554688409507491,
           0.4614953851427764,
           0.46768686214119576,
           0.4740358191508934,
           0.48053892910161383,
           0.487185859334849,
           0.4939821464105808,
           0.5009084733345713,
           0.5079659156872784,
           0.5151513264831241,
           0.5224617360902191,
           0.5298837315136272,
           0.5374148523177125,
           0.5450379442864978,
           0.5527558339405033,
           0.5605595550697933,
           0.5684504485162849,
           0.576418574907954,
           0.5844622541759189,
           0.5925779570225356,
           0.6007697591687241,
           0.6090375259234992,
           0.6173778916295284,
           0.625777238125746,
           0.634226714030409,
           0.6427159726777533,
           0.6512571181788749,
           0.6598552717485192,
           0.6685066511241294,
           0.677201647080403,
           0.6859480072815596,
           0.6947352123821269,
           0.7035612660228017,
           0.7124174036704973,
           0.7213130943825407,
           0.73025019839035,
           0.7392160864963253,
           0.7482199207279702
          ],
          [
           0.40669015734800845,
           0.4107218702427491,
           0.41495364039362104,
           0.41939874044610304,
           0.4240494427114953,
           0.42889692230365545,
           0.43394375326845014,
           0.439179517553728,
           0.44459073652534686,
           0.4501841909892554,
           0.4559522427952704,
           0.46190009388358,
           0.4680282599514174,
           0.47432343774444863,
           0.4807760914899905,
           0.4873827028989076,
           0.49413500092815255,
           0.5010264410876542,
           0.5080542649117779,
           0.5152210907745542,
           0.5225147825641365,
           0.5299303550216052,
           0.5374592976351383,
           0.5450979515735611,
           0.552842631707568,
           0.5606871638711091,
           0.5686193965988819,
           0.5766288367672402,
           0.584720645007888,
           0.5928910467126473,
           0.6011319539458568,
           0.609447279335939,
           0.6178283261793502,
           0.6262820684099196,
           0.6348070806024279,
           0.6433715791361188,
           0.6519919948978699,
           0.6606642895638781,
           0.6693880495567834,
           0.6781643869238737,
           0.6869915903012593,
           0.6958656896465492,
           0.704781171235876,
           0.7137421421480294,
           0.7227419828130579,
           0.7317730280253848,
           0.7408295103588808,
           0.7499215959257729,
           0.7590464348190346,
           0.7682030150709148
          ],
          [
           0.42525849054775966,
           0.43000230527969574,
           0.43494412921140696,
           0.44006924989169727,
           0.4453877168007415,
           0.4508971827163296,
           0.45658709470913833,
           0.46244794062864175,
           0.468477933129887,
           0.4746807499971313,
           0.4810516729039697,
           0.4875907898993777,
           0.49429055152153517,
           0.5011473842235549,
           0.5081443289333254,
           0.5152746513074202,
           0.522537539561812,
           0.5299313673080039,
           0.5374479856385379,
           0.5450802918006025,
           0.5528264322891903,
           0.5606780480215441,
           0.5686318180415939,
           0.5766792520305537,
           0.5848148271735126,
           0.5930253676573883,
           0.6013117676411185,
           0.6096752356347134,
           0.6181111727441798,
           0.6266141551502502,
           0.6351869094787334,
           0.6438315321391591,
           0.6525273093358563,
           0.6612670176214589,
           0.6700603019565154,
           0.678904948875313,
           0.687815767078535,
           0.6967692384736289,
           0.705765956656386,
           0.7148108969888326,
           0.7238997200124436,
           0.7330187997215619,
           0.7421789068427289,
           0.7513837764407021,
           0.7606101551973863,
           0.7698570375126168,
           0.7791360866101184,
           0.7884516854055238,
           0.7978077833288008,
           0.8071959941327002
          ],
          [
           0.4361110847551428,
           0.44113539090758835,
           0.4463535654545418,
           0.4517566144888595,
           0.4573482652916335,
           0.4631184045679782,
           0.469060604185661,
           0.475178224606786,
           0.4814637124528516,
           0.4879138937930251,
           0.49452393633359404,
           0.5012887201551043,
           0.5082189254005147,
           0.5153120420510574,
           0.5225454672054252,
           0.5299088434784779,
           0.5373976055465297,
           0.5450113147908452,
           0.5527364777973197,
           0.5605791727258217,
           0.5685345356867824,
           0.576591468228041,
           0.5847493395579417,
           0.5929957417613432,
           0.6013285442051982,
           0.6097349913072737,
           0.6182173574895024,
           0.6267694221959568,
           0.6353830709070496,
           0.6440664291447076,
           0.65282189668765,
           0.6616401022119514,
           0.6705160592180673,
           0.6794407275988825,
           0.688409355616847,
           0.6974232385980355,
           0.7064980662009629,
           0.7156258562241142,
           0.7247977615967137,
           0.7340149910120958,
           0.7432715680315956,
           0.7525570116593008,
           0.7618775813471286,
           0.7712315012167784,
           0.7806237571834692,
           0.7900340453791367,
           0.7994693709942416,
           0.8089407208654213,
           0.8184487014126326,
           0.8279975937057397
          ],
          [
           0.45826351291422496,
           0.46393287595129856,
           0.46977755454183273,
           0.4757973203153062,
           0.4819868187853071,
           0.4883451648842277,
           0.4948705627047834,
           0.501554397565098,
           0.5083999463768637,
           0.5154045674171616,
           0.5225595826760026,
           0.5298647209928886,
           0.537317852828246,
           0.5449007365184139,
           0.5526073835628642,
           0.560429258335093,
           0.5683688657826843,
           0.5764046408966098,
           0.584551150246548,
           0.5928084788892403,
           0.6011636823922584,
           0.6096078232282605,
           0.618132507579482,
           0.626734520184255,
           0.6354044120940975,
           0.644131715804301,
           0.6529227331431873,
           0.6617833237740486,
           0.6707140851111194,
           0.6797136104435557,
           0.6887696420184584,
           0.6978690691037758,
           0.7070202062597867,
           0.7162104814422379,
           0.725444507805933,
           0.7347297623200765,
           0.7440659693317047,
           0.7534489405873732,
           0.7628794116999451,
           0.7723313716056232,
           0.7818110930673887,
           0.79132345355818,
           0.8008694111745281,
           0.8104392106582475,
           0.8200389951063459,
           0.8296731117854421,
           0.8393373603931239,
           0.8490291324105933,
           0.8587593300769263,
           0.8685279658508742
          ],
          [
           0.4706439855629151,
           0.4765595920661633,
           0.4826532496306281,
           0.4889119766694844,
           0.4953419402846735,
           0.501936945673024,
           0.5086885964456439,
           0.5155961866709057,
           0.5226686154030377,
           0.5298956830450882,
           0.5372749766902839,
           0.5447938283241619,
           0.552444381935126,
           0.5602339293010419,
           0.5681473641352973,
           0.5761750043363775,
           0.5843129844194281,
           0.5925491386269546,
           0.600882753049582,
           0.6093169698227466,
           0.6178585219426912,
           0.6264895808151921,
           0.6352148960342107,
           0.6440038893312684,
           0.6528488077135134,
           0.6617547044590408,
           0.670715084869092,
           0.6797507245704237,
           0.6888543789967717,
           0.6980337832290008,
           0.7072667103907285,
           0.7165385932111862,
           0.7258595172905343,
           0.7352298468662238,
           0.7446412332483758,
           0.7540846302312054,
           0.7635708324973474,
           0.7731079401278813,
           0.7826911223036146,
           0.7923154723805349,
           0.8019718901923505,
           0.8116551187961429,
           0.8213558283280856,
           0.8310843797482881,
           0.8408449459565756,
           0.8506313797979872,
           0.8604475091266284,
           0.8702955138160001,
           0.880165757423003,
           0.8900826794013852
          ]
         ]
        }
       ],
       "layout": {
        "autosize": false,
        "height": 500,
        "margin": {
         "b": 65,
         "l": 65,
         "r": 50,
         "t": 90
        },
        "scene": {
         "xaxis": {
          "title": {
           "text": "dir_one"
          }
         },
         "yaxis": {
          "title": {
           "text": "dir_two"
          }
         }
        },
        "template": {
         "data": {
          "bar": [
           {
            "error_x": {
             "color": "#2a3f5f"
            },
            "error_y": {
             "color": "#2a3f5f"
            },
            "marker": {
             "line": {
              "color": "#E5ECF6",
              "width": 0.5
             },
             "pattern": {
              "fillmode": "overlay",
              "size": 10,
              "solidity": 0.2
             }
            },
            "type": "bar"
           }
          ],
          "barpolar": [
           {
            "marker": {
             "line": {
              "color": "#E5ECF6",
              "width": 0.5
             },
             "pattern": {
              "fillmode": "overlay",
              "size": 10,
              "solidity": 0.2
             }
            },
            "type": "barpolar"
           }
          ],
          "carpet": [
           {
            "aaxis": {
             "endlinecolor": "#2a3f5f",
             "gridcolor": "white",
             "linecolor": "white",
             "minorgridcolor": "white",
             "startlinecolor": "#2a3f5f"
            },
            "baxis": {
             "endlinecolor": "#2a3f5f",
             "gridcolor": "white",
             "linecolor": "white",
             "minorgridcolor": "white",
             "startlinecolor": "#2a3f5f"
            },
            "type": "carpet"
           }
          ],
          "choropleth": [
           {
            "colorbar": {
             "outlinewidth": 0,
             "ticks": ""
            },
            "type": "choropleth"
           }
          ],
          "contour": [
           {
            "colorbar": {
             "outlinewidth": 0,
             "ticks": ""
            },
            "colorscale": [
             [
              0,
              "#0d0887"
             ],
             [
              0.1111111111111111,
              "#46039f"
             ],
             [
              0.2222222222222222,
              "#7201a8"
             ],
             [
              0.3333333333333333,
              "#9c179e"
             ],
             [
              0.4444444444444444,
              "#bd3786"
             ],
             [
              0.5555555555555556,
              "#d8576b"
             ],
             [
              0.6666666666666666,
              "#ed7953"
             ],
             [
              0.7777777777777778,
              "#fb9f3a"
             ],
             [
              0.8888888888888888,
              "#fdca26"
             ],
             [
              1,
              "#f0f921"
             ]
            ],
            "type": "contour"
           }
          ],
          "contourcarpet": [
           {
            "colorbar": {
             "outlinewidth": 0,
             "ticks": ""
            },
            "type": "contourcarpet"
           }
          ],
          "heatmap": [
           {
            "colorbar": {
             "outlinewidth": 0,
             "ticks": ""
            },
            "colorscale": [
             [
              0,
              "#0d0887"
             ],
             [
              0.1111111111111111,
              "#46039f"
             ],
             [
              0.2222222222222222,
              "#7201a8"
             ],
             [
              0.3333333333333333,
              "#9c179e"
             ],
             [
              0.4444444444444444,
              "#bd3786"
             ],
             [
              0.5555555555555556,
              "#d8576b"
             ],
             [
              0.6666666666666666,
              "#ed7953"
             ],
             [
              0.7777777777777778,
              "#fb9f3a"
             ],
             [
              0.8888888888888888,
              "#fdca26"
             ],
             [
              1,
              "#f0f921"
             ]
            ],
            "type": "heatmap"
           }
          ],
          "heatmapgl": [
           {
            "colorbar": {
             "outlinewidth": 0,
             "ticks": ""
            },
            "colorscale": [
             [
              0,
              "#0d0887"
             ],
             [
              0.1111111111111111,
              "#46039f"
             ],
             [
              0.2222222222222222,
              "#7201a8"
             ],
             [
              0.3333333333333333,
              "#9c179e"
             ],
             [
              0.4444444444444444,
              "#bd3786"
             ],
             [
              0.5555555555555556,
              "#d8576b"
             ],
             [
              0.6666666666666666,
              "#ed7953"
             ],
             [
              0.7777777777777778,
              "#fb9f3a"
             ],
             [
              0.8888888888888888,
              "#fdca26"
             ],
             [
              1,
              "#f0f921"
             ]
            ],
            "type": "heatmapgl"
           }
          ],
          "histogram": [
           {
            "marker": {
             "pattern": {
              "fillmode": "overlay",
              "size": 10,
              "solidity": 0.2
             }
            },
            "type": "histogram"
           }
          ],
          "histogram2d": [
           {
            "colorbar": {
             "outlinewidth": 0,
             "ticks": ""
            },
            "colorscale": [
             [
              0,
              "#0d0887"
             ],
             [
              0.1111111111111111,
              "#46039f"
             ],
             [
              0.2222222222222222,
              "#7201a8"
             ],
             [
              0.3333333333333333,
              "#9c179e"
             ],
             [
              0.4444444444444444,
              "#bd3786"
             ],
             [
              0.5555555555555556,
              "#d8576b"
             ],
             [
              0.6666666666666666,
              "#ed7953"
             ],
             [
              0.7777777777777778,
              "#fb9f3a"
             ],
             [
              0.8888888888888888,
              "#fdca26"
             ],
             [
              1,
              "#f0f921"
             ]
            ],
            "type": "histogram2d"
           }
          ],
          "histogram2dcontour": [
           {
            "colorbar": {
             "outlinewidth": 0,
             "ticks": ""
            },
            "colorscale": [
             [
              0,
              "#0d0887"
             ],
             [
              0.1111111111111111,
              "#46039f"
             ],
             [
              0.2222222222222222,
              "#7201a8"
             ],
             [
              0.3333333333333333,
              "#9c179e"
             ],
             [
              0.4444444444444444,
              "#bd3786"
             ],
             [
              0.5555555555555556,
              "#d8576b"
             ],
             [
              0.6666666666666666,
              "#ed7953"
             ],
             [
              0.7777777777777778,
              "#fb9f3a"
             ],
             [
              0.8888888888888888,
              "#fdca26"
             ],
             [
              1,
              "#f0f921"
             ]
            ],
            "type": "histogram2dcontour"
           }
          ],
          "mesh3d": [
           {
            "colorbar": {
             "outlinewidth": 0,
             "ticks": ""
            },
            "type": "mesh3d"
           }
          ],
          "parcoords": [
           {
            "line": {
             "colorbar": {
              "outlinewidth": 0,
              "ticks": ""
             }
            },
            "type": "parcoords"
           }
          ],
          "pie": [
           {
            "automargin": true,
            "type": "pie"
           }
          ],
          "scatter": [
           {
            "fillpattern": {
             "fillmode": "overlay",
             "size": 10,
             "solidity": 0.2
            },
            "type": "scatter"
           }
          ],
          "scatter3d": [
           {
            "line": {
             "colorbar": {
              "outlinewidth": 0,
              "ticks": ""
             }
            },
            "marker": {
             "colorbar": {
              "outlinewidth": 0,
              "ticks": ""
             }
            },
            "type": "scatter3d"
           }
          ],
          "scattercarpet": [
           {
            "marker": {
             "colorbar": {
              "outlinewidth": 0,
              "ticks": ""
             }
            },
            "type": "scattercarpet"
           }
          ],
          "scattergeo": [
           {
            "marker": {
             "colorbar": {
              "outlinewidth": 0,
              "ticks": ""
             }
            },
            "type": "scattergeo"
           }
          ],
          "scattergl": [
           {
            "marker": {
             "colorbar": {
              "outlinewidth": 0,
              "ticks": ""
             }
            },
            "type": "scattergl"
           }
          ],
          "scattermapbox": [
           {
            "marker": {
             "colorbar": {
              "outlinewidth": 0,
              "ticks": ""
             }
            },
            "type": "scattermapbox"
           }
          ],
          "scatterpolar": [
           {
            "marker": {
             "colorbar": {
              "outlinewidth": 0,
              "ticks": ""
             }
            },
            "type": "scatterpolar"
           }
          ],
          "scatterpolargl": [
           {
            "marker": {
             "colorbar": {
              "outlinewidth": 0,
              "ticks": ""
             }
            },
            "type": "scatterpolargl"
           }
          ],
          "scatterternary": [
           {
            "marker": {
             "colorbar": {
              "outlinewidth": 0,
              "ticks": ""
             }
            },
            "type": "scatterternary"
           }
          ],
          "surface": [
           {
            "colorbar": {
             "outlinewidth": 0,
             "ticks": ""
            },
            "colorscale": [
             [
              0,
              "#0d0887"
             ],
             [
              0.1111111111111111,
              "#46039f"
             ],
             [
              0.2222222222222222,
              "#7201a8"
             ],
             [
              0.3333333333333333,
              "#9c179e"
             ],
             [
              0.4444444444444444,
              "#bd3786"
             ],
             [
              0.5555555555555556,
              "#d8576b"
             ],
             [
              0.6666666666666666,
              "#ed7953"
             ],
             [
              0.7777777777777778,
              "#fb9f3a"
             ],
             [
              0.8888888888888888,
              "#fdca26"
             ],
             [
              1,
              "#f0f921"
             ]
            ],
            "type": "surface"
           }
          ],
          "table": [
           {
            "cells": {
             "fill": {
              "color": "#EBF0F8"
             },
             "line": {
              "color": "white"
             }
            },
            "header": {
             "fill": {
              "color": "#C8D4E3"
             },
             "line": {
              "color": "white"
             }
            },
            "type": "table"
           }
          ]
         },
         "layout": {
          "annotationdefaults": {
           "arrowcolor": "#2a3f5f",
           "arrowhead": 0,
           "arrowwidth": 1
          },
          "autotypenumbers": "strict",
          "coloraxis": {
           "colorbar": {
            "outlinewidth": 0,
            "ticks": ""
           }
          },
          "colorscale": {
           "diverging": [
            [
             0,
             "#8e0152"
            ],
            [
             0.1,
             "#c51b7d"
            ],
            [
             0.2,
             "#de77ae"
            ],
            [
             0.3,
             "#f1b6da"
            ],
            [
             0.4,
             "#fde0ef"
            ],
            [
             0.5,
             "#f7f7f7"
            ],
            [
             0.6,
             "#e6f5d0"
            ],
            [
             0.7,
             "#b8e186"
            ],
            [
             0.8,
             "#7fbc41"
            ],
            [
             0.9,
             "#4d9221"
            ],
            [
             1,
             "#276419"
            ]
           ],
           "sequential": [
            [
             0,
             "#0d0887"
            ],
            [
             0.1111111111111111,
             "#46039f"
            ],
            [
             0.2222222222222222,
             "#7201a8"
            ],
            [
             0.3333333333333333,
             "#9c179e"
            ],
            [
             0.4444444444444444,
             "#bd3786"
            ],
            [
             0.5555555555555556,
             "#d8576b"
            ],
            [
             0.6666666666666666,
             "#ed7953"
            ],
            [
             0.7777777777777778,
             "#fb9f3a"
            ],
            [
             0.8888888888888888,
             "#fdca26"
            ],
            [
             1,
             "#f0f921"
            ]
           ],
           "sequentialminus": [
            [
             0,
             "#0d0887"
            ],
            [
             0.1111111111111111,
             "#46039f"
            ],
            [
             0.2222222222222222,
             "#7201a8"
            ],
            [
             0.3333333333333333,
             "#9c179e"
            ],
            [
             0.4444444444444444,
             "#bd3786"
            ],
            [
             0.5555555555555556,
             "#d8576b"
            ],
            [
             0.6666666666666666,
             "#ed7953"
            ],
            [
             0.7777777777777778,
             "#fb9f3a"
            ],
            [
             0.8888888888888888,
             "#fdca26"
            ],
            [
             1,
             "#f0f921"
            ]
           ]
          },
          "colorway": [
           "#636efa",
           "#EF553B",
           "#00cc96",
           "#ab63fa",
           "#FFA15A",
           "#19d3f3",
           "#FF6692",
           "#B6E880",
           "#FF97FF",
           "#FECB52"
          ],
          "font": {
           "color": "#2a3f5f"
          },
          "geo": {
           "bgcolor": "white",
           "lakecolor": "white",
           "landcolor": "#E5ECF6",
           "showlakes": true,
           "showland": true,
           "subunitcolor": "white"
          },
          "hoverlabel": {
           "align": "left"
          },
          "hovermode": "closest",
          "mapbox": {
           "style": "light"
          },
          "paper_bgcolor": "white",
          "plot_bgcolor": "#E5ECF6",
          "polar": {
           "angularaxis": {
            "gridcolor": "white",
            "linecolor": "white",
            "ticks": ""
           },
           "bgcolor": "#E5ECF6",
           "radialaxis": {
            "gridcolor": "white",
            "linecolor": "white",
            "ticks": ""
           }
          },
          "scene": {
           "xaxis": {
            "backgroundcolor": "#E5ECF6",
            "gridcolor": "white",
            "gridwidth": 2,
            "linecolor": "white",
            "showbackground": true,
            "ticks": "",
            "zerolinecolor": "white"
           },
           "yaxis": {
            "backgroundcolor": "#E5ECF6",
            "gridcolor": "white",
            "gridwidth": 2,
            "linecolor": "white",
            "showbackground": true,
            "ticks": "",
            "zerolinecolor": "white"
           },
           "zaxis": {
            "backgroundcolor": "#E5ECF6",
            "gridcolor": "white",
            "gridwidth": 2,
            "linecolor": "white",
            "showbackground": true,
            "ticks": "",
            "zerolinecolor": "white"
           }
          },
          "shapedefaults": {
           "line": {
            "color": "#2a3f5f"
           }
          },
          "ternary": {
           "aaxis": {
            "gridcolor": "white",
            "linecolor": "white",
            "ticks": ""
           },
           "baxis": {
            "gridcolor": "white",
            "linecolor": "white",
            "ticks": ""
           },
           "bgcolor": "#E5ECF6",
           "caxis": {
            "gridcolor": "white",
            "linecolor": "white",
            "ticks": ""
           }
          },
          "title": {
           "x": 0.05
          },
          "xaxis": {
           "automargin": true,
           "gridcolor": "white",
           "linecolor": "white",
           "ticks": "",
           "title": {
            "standoff": 15
           },
           "zerolinecolor": "white",
           "zerolinewidth": 2
          },
          "yaxis": {
           "automargin": true,
           "gridcolor": "white",
           "linecolor": "white",
           "ticks": "",
           "title": {
            "standoff": 15
           },
           "zerolinecolor": "white",
           "zerolinewidth": 2
          }
         }
        },
        "title": {
         "text": "train"
        },
        "width": 500
       }
      }
     },
     "metadata": {},
     "output_type": "display_data"
    }
   ],
   "source": [
    "DATASET = 'california'\n",
    "path_to_config = '/Users/timgritsaev/Desktop/tabular/tabular-hpo/exp/mlp/' + DATASET + '/0-tuning/checkpoint.pt'\n",
    "path_to_model = '/Users/timgritsaev/Desktop/tabular/tabular-hpo/saved_models/optuna_' + DATASET + '_0.pt'\n",
    "create_all(path_to_config, path_to_model, steps=50, distance=0.1)"
   ]
  },
  {
   "cell_type": "code",
   "execution_count": 8,
   "metadata": {},
   "outputs": [
    {
     "name": "stderr",
     "output_type": "stream",
     "text": [
      "0:37:59 | Using cached features: build_dataset__california__quantile__None__standard__0__f7706b82c7264c3b33fedc53664ebacf.pickle\n"
     ]
    },
    {
     "name": "stdout",
     "output_type": "stream",
     "text": [
      "----------------------------------------------------------------------------------------------------\n",
      "{'seed': 0,\n",
      " 'data': {'seed': 0,\n",
      "          'cache': True,\n",
      "          'path': ':data/california',\n",
      "          'num_policy': 'quantile',\n",
      "          'cat_policy': None,\n",
      "          'y_policy': 'standard'},\n",
      " 'model': {'num_embeddings': None,\n",
      "           'backbone': {'type': 'MLP',\n",
      "                        'n_blocks': 2,\n",
      "                        'd_layer': 238,\n",
      "                        'dropout': 0.23395140372463127,\n",
      "                        'activation': 'ReLU'}},\n",
      " 'optimizer': {'type': 'AdamW', 'lr': 0.0009213130217887258, 'weight_decay': 3.911847192982179e-05},\n",
      " 'batch_size': 256,\n",
      " 'patience': 16,\n",
      " 'n_epochs': inf}\n",
      "----------------------------------------------------------------------------------------------------\n"
     ]
    }
   ],
   "source": [
    "DATASET = 'california'\n",
    "path_to_config = '/Users/timgritsaev/Desktop/tabular/tabular-hpo/exp/mlp/' + DATASET + '/0-tuning/checkpoint.pt'\n",
    "path_to_model = '/Users/timgritsaev/Desktop/tabular/tabular-hpo/saved_models/optuna_' + DATASET + '_0.pt'\n",
    "create_all(path_to_config, path_to_model, steps=50, distance=0.01)"
   ]
  },
  {
   "cell_type": "code",
   "execution_count": 22,
   "metadata": {},
   "outputs": [
    {
     "name": "stderr",
     "output_type": "stream",
     "text": [
      "/Users/timgritsaev/Desktop/tabular/tabular-hpo/lib/util.py:237: UserWarning:\n",
      "\n",
      "The key \"function\" will be missing in the report. Reason: '/private/var/folders/65/1vwp97n52f5bhqv1kd377bw40000gn/T/ipykernel_33734/486199965.py' is not in the subpath of '/Users/timgritsaev/Desktop/tabular/tabular-hpo' OR one path is relative and the other is absolute.\n",
      "\n",
      "0:15:08 | Using cached features: build_dataset__churn__quantile__ordinal__None__0__cfd36cf52f69e9043707914b6ce4682a.pickle\n"
     ]
    },
    {
     "name": "stdout",
     "output_type": "stream",
     "text": [
      "----------------------------------------------------------------------------------------------------\n",
      "{'seed': 0,\n",
      " 'data': {'seed': 0,\n",
      "          'cache': True,\n",
      "          'path': ':data/churn',\n",
      "          'num_policy': 'quantile',\n",
      "          'cat_policy': 'ordinal',\n",
      "          'y_policy': None},\n",
      " 'model': {'num_embeddings': None,\n",
      "           'backbone': {'type': 'MLP',\n",
      "                        'n_blocks': 3,\n",
      "                        'd_layer': 544,\n",
      "                        'dropout': 0.4323534887560793,\n",
      "                        'activation': 'ReLU'}},\n",
      " 'optimizer': {'type': 'AdamW', 'lr': 0.0004580779164922931, 'weight_decay': 3.617216368553555e-06},\n",
      " 'batch_size': 256,\n",
      " 'patience': 16,\n",
      " 'n_epochs': inf}\n",
      "----------------------------------------------------------------------------------------------------\n",
      "tensor([0., 1., 0., 0., 0., 0., 0., 0., 0., 1.])\n",
      "tensor([0., 0., 0., 0., 0., 0., 0., 1., 0., 1.])\n",
      "tensor([1., 0., 0., 1., 1., 1., 0., 0., 1., 0.])\n",
      "dir_one 8\n",
      "dir_one tensor([[0.4963, 0.7682, 0.0885, 0.1320, 0.3074],\n",
      "        [0.1689, 0.2939, 0.5185, 0.6977, 0.8000],\n",
      "        [0.9527, 0.0362, 0.1852, 0.3734, 0.3051],\n",
      "        [0.7423, 0.5263, 0.2437, 0.5846, 0.0332],\n",
      "        [0.6984, 0.5675, 0.8352, 0.2056, 0.5932]])\n",
      "start_point tensor([[ 0.0437, -0.1050,  0.0338,  0.0183,  0.1566],\n",
      "        [ 0.2694, -0.0394,  0.0907,  0.0956, -0.2019],\n",
      "        [-0.0149, -0.1505, -0.0901, -0.1015, -0.2592],\n",
      "        [-0.0986, -0.1164, -0.2241,  0.1059,  0.1387],\n",
      "        [ 0.1654,  0.1146, -0.0235, -0.0177, -0.0557]])\n",
      "dir_one 8\n",
      "dir_one tensor([[0.4963, 0.7682, 0.0885, 0.1320, 0.3074],\n",
      "        [0.1689, 0.2939, 0.5185, 0.6977, 0.8000],\n",
      "        [0.9527, 0.0362, 0.1852, 0.3734, 0.3051],\n",
      "        [0.7423, 0.5263, 0.2437, 0.5846, 0.0332],\n",
      "        [0.6984, 0.5675, 0.8352, 0.2056, 0.5932]])\n",
      "start_point tensor([[ 0.0437, -0.1050,  0.0338,  0.0183,  0.1566],\n",
      "        [ 0.2694, -0.0394,  0.0907,  0.0956, -0.2019],\n",
      "        [-0.0149, -0.1505, -0.0901, -0.1015, -0.2592],\n",
      "        [-0.0986, -0.1164, -0.2241,  0.1059,  0.1387],\n",
      "        [ 0.1654,  0.1146, -0.0235, -0.0177, -0.0557]])\n",
      "dir_one 8\n",
      "dir_one tensor([[0.4963, 0.7682, 0.0885, 0.1320, 0.3074],\n",
      "        [0.1689, 0.2939, 0.5185, 0.6977, 0.8000],\n",
      "        [0.9527, 0.0362, 0.1852, 0.3734, 0.3051],\n",
      "        [0.7423, 0.5263, 0.2437, 0.5846, 0.0332],\n",
      "        [0.6984, 0.5675, 0.8352, 0.2056, 0.5932]])\n",
      "start_point tensor([[ 0.0437, -0.1050,  0.0338,  0.0183,  0.1566],\n",
      "        [ 0.2694, -0.0394,  0.0907,  0.0956, -0.2019],\n",
      "        [-0.0149, -0.1505, -0.0901, -0.1015, -0.2592],\n",
      "        [-0.0986, -0.1164, -0.2241,  0.1059,  0.1387],\n",
      "        [ 0.1654,  0.1146, -0.0235, -0.0177, -0.0557]])\n"
     ]
    },
    {
     "data": {
      "application/vnd.plotly.v1+json": {
       "config": {
        "plotlyServerURL": "https://plot.ly"
       },
       "data": [
        {
         "type": "surface",
         "z": [
          [
           0.279001384973526,
           0.27896571159362793,
           0.2789301574230194,
           0.27889496088027954,
           0.2788599729537964,
           0.2788252532482147,
           0.27879083156585693,
           0.278756707906723,
           0.2787228524684906,
           0.27868932485580444
          ],
          [
           0.2789393663406372,
           0.27890393137931824,
           0.27886876463890076,
           0.2788338363170624,
           0.2787991762161255,
           0.27876484394073486,
           0.2787307798862457,
           0.27869701385498047,
           0.2786635458469391,
           0.27863043546676636
          ],
          [
           0.27880802750587463,
           0.2787734568119049,
           0.27873918414115906,
           0.2787052392959595,
           0.27867159247398376,
           0.27863821387290955,
           0.2786051034927368,
           0.2785723805427551,
           0.2785399258136749,
           0.278507798910141
          ],
          [
           0.278748095035553,
           0.2787139117717743,
           0.2786799967288971,
           0.27864646911621094,
           0.2786131799221039,
           0.2785801291465759,
           0.278547465801239,
           0.2785150408744812,
           0.27848294377326965,
           0.278451144695282
          ],
          [
           0.2786215841770172,
           0.2785883843898773,
           0.27855542302131653,
           0.278522789478302,
           0.27849045395851135,
           0.2784584164619446,
           0.2784266769886017,
           0.27839532494544983,
           0.27836424112319946,
           0.2783333659172058
          ],
          [
           0.2785639464855194,
           0.2785310745239258,
           0.27849847078323364,
           0.278466135263443,
           0.278434157371521,
           0.27840253710746765,
           0.27837127447128296,
           0.27834025025367737,
           0.27830952405929565,
           0.2782790958881378
          ],
          [
           0.27844226360321045,
           0.2784103453159332,
           0.27837878465652466,
           0.27834755182266235,
           0.2783166468143463,
           0.278285950422287,
           0.2782556116580963,
           0.27822554111480713,
           0.2781957685947418,
           0.27816638350486755
          ],
          [
           0.2783868908882141,
           0.2783554196357727,
           0.2783242166042328,
           0.27829334139823914,
           0.27826279401779175,
           0.27823248505592346,
           0.27820247411727905,
           0.2781728506088257,
           0.2781434953212738,
           0.27811455726623535
          ],
          [
           0.278270423412323,
           0.278239905834198,
           0.27820971608161926,
           0.27817976474761963,
           0.2781502306461334,
           0.2781209945678711,
           0.27809199690818787,
           0.27806341648101807,
           0.278035044670105,
           0.2780069410800934
          ],
          [
           0.2782173752784729,
           0.27818724513053894,
           0.27815738320350647,
           0.27812790870666504,
           0.2780987024307251,
           0.2780698239803314,
           0.278041273355484,
           0.2780130207538605,
           0.27798500657081604,
           0.27795735001564026
          ]
         ]
        }
       ],
       "layout": {
        "autosize": false,
        "height": 500,
        "margin": {
         "b": 65,
         "l": 65,
         "r": 50,
         "t": 90
        },
        "template": {
         "data": {
          "bar": [
           {
            "error_x": {
             "color": "#2a3f5f"
            },
            "error_y": {
             "color": "#2a3f5f"
            },
            "marker": {
             "line": {
              "color": "#E5ECF6",
              "width": 0.5
             },
             "pattern": {
              "fillmode": "overlay",
              "size": 10,
              "solidity": 0.2
             }
            },
            "type": "bar"
           }
          ],
          "barpolar": [
           {
            "marker": {
             "line": {
              "color": "#E5ECF6",
              "width": 0.5
             },
             "pattern": {
              "fillmode": "overlay",
              "size": 10,
              "solidity": 0.2
             }
            },
            "type": "barpolar"
           }
          ],
          "carpet": [
           {
            "aaxis": {
             "endlinecolor": "#2a3f5f",
             "gridcolor": "white",
             "linecolor": "white",
             "minorgridcolor": "white",
             "startlinecolor": "#2a3f5f"
            },
            "baxis": {
             "endlinecolor": "#2a3f5f",
             "gridcolor": "white",
             "linecolor": "white",
             "minorgridcolor": "white",
             "startlinecolor": "#2a3f5f"
            },
            "type": "carpet"
           }
          ],
          "choropleth": [
           {
            "colorbar": {
             "outlinewidth": 0,
             "ticks": ""
            },
            "type": "choropleth"
           }
          ],
          "contour": [
           {
            "colorbar": {
             "outlinewidth": 0,
             "ticks": ""
            },
            "colorscale": [
             [
              0,
              "#0d0887"
             ],
             [
              0.1111111111111111,
              "#46039f"
             ],
             [
              0.2222222222222222,
              "#7201a8"
             ],
             [
              0.3333333333333333,
              "#9c179e"
             ],
             [
              0.4444444444444444,
              "#bd3786"
             ],
             [
              0.5555555555555556,
              "#d8576b"
             ],
             [
              0.6666666666666666,
              "#ed7953"
             ],
             [
              0.7777777777777778,
              "#fb9f3a"
             ],
             [
              0.8888888888888888,
              "#fdca26"
             ],
             [
              1,
              "#f0f921"
             ]
            ],
            "type": "contour"
           }
          ],
          "contourcarpet": [
           {
            "colorbar": {
             "outlinewidth": 0,
             "ticks": ""
            },
            "type": "contourcarpet"
           }
          ],
          "heatmap": [
           {
            "colorbar": {
             "outlinewidth": 0,
             "ticks": ""
            },
            "colorscale": [
             [
              0,
              "#0d0887"
             ],
             [
              0.1111111111111111,
              "#46039f"
             ],
             [
              0.2222222222222222,
              "#7201a8"
             ],
             [
              0.3333333333333333,
              "#9c179e"
             ],
             [
              0.4444444444444444,
              "#bd3786"
             ],
             [
              0.5555555555555556,
              "#d8576b"
             ],
             [
              0.6666666666666666,
              "#ed7953"
             ],
             [
              0.7777777777777778,
              "#fb9f3a"
             ],
             [
              0.8888888888888888,
              "#fdca26"
             ],
             [
              1,
              "#f0f921"
             ]
            ],
            "type": "heatmap"
           }
          ],
          "heatmapgl": [
           {
            "colorbar": {
             "outlinewidth": 0,
             "ticks": ""
            },
            "colorscale": [
             [
              0,
              "#0d0887"
             ],
             [
              0.1111111111111111,
              "#46039f"
             ],
             [
              0.2222222222222222,
              "#7201a8"
             ],
             [
              0.3333333333333333,
              "#9c179e"
             ],
             [
              0.4444444444444444,
              "#bd3786"
             ],
             [
              0.5555555555555556,
              "#d8576b"
             ],
             [
              0.6666666666666666,
              "#ed7953"
             ],
             [
              0.7777777777777778,
              "#fb9f3a"
             ],
             [
              0.8888888888888888,
              "#fdca26"
             ],
             [
              1,
              "#f0f921"
             ]
            ],
            "type": "heatmapgl"
           }
          ],
          "histogram": [
           {
            "marker": {
             "pattern": {
              "fillmode": "overlay",
              "size": 10,
              "solidity": 0.2
             }
            },
            "type": "histogram"
           }
          ],
          "histogram2d": [
           {
            "colorbar": {
             "outlinewidth": 0,
             "ticks": ""
            },
            "colorscale": [
             [
              0,
              "#0d0887"
             ],
             [
              0.1111111111111111,
              "#46039f"
             ],
             [
              0.2222222222222222,
              "#7201a8"
             ],
             [
              0.3333333333333333,
              "#9c179e"
             ],
             [
              0.4444444444444444,
              "#bd3786"
             ],
             [
              0.5555555555555556,
              "#d8576b"
             ],
             [
              0.6666666666666666,
              "#ed7953"
             ],
             [
              0.7777777777777778,
              "#fb9f3a"
             ],
             [
              0.8888888888888888,
              "#fdca26"
             ],
             [
              1,
              "#f0f921"
             ]
            ],
            "type": "histogram2d"
           }
          ],
          "histogram2dcontour": [
           {
            "colorbar": {
             "outlinewidth": 0,
             "ticks": ""
            },
            "colorscale": [
             [
              0,
              "#0d0887"
             ],
             [
              0.1111111111111111,
              "#46039f"
             ],
             [
              0.2222222222222222,
              "#7201a8"
             ],
             [
              0.3333333333333333,
              "#9c179e"
             ],
             [
              0.4444444444444444,
              "#bd3786"
             ],
             [
              0.5555555555555556,
              "#d8576b"
             ],
             [
              0.6666666666666666,
              "#ed7953"
             ],
             [
              0.7777777777777778,
              "#fb9f3a"
             ],
             [
              0.8888888888888888,
              "#fdca26"
             ],
             [
              1,
              "#f0f921"
             ]
            ],
            "type": "histogram2dcontour"
           }
          ],
          "mesh3d": [
           {
            "colorbar": {
             "outlinewidth": 0,
             "ticks": ""
            },
            "type": "mesh3d"
           }
          ],
          "parcoords": [
           {
            "line": {
             "colorbar": {
              "outlinewidth": 0,
              "ticks": ""
             }
            },
            "type": "parcoords"
           }
          ],
          "pie": [
           {
            "automargin": true,
            "type": "pie"
           }
          ],
          "scatter": [
           {
            "fillpattern": {
             "fillmode": "overlay",
             "size": 10,
             "solidity": 0.2
            },
            "type": "scatter"
           }
          ],
          "scatter3d": [
           {
            "line": {
             "colorbar": {
              "outlinewidth": 0,
              "ticks": ""
             }
            },
            "marker": {
             "colorbar": {
              "outlinewidth": 0,
              "ticks": ""
             }
            },
            "type": "scatter3d"
           }
          ],
          "scattercarpet": [
           {
            "marker": {
             "colorbar": {
              "outlinewidth": 0,
              "ticks": ""
             }
            },
            "type": "scattercarpet"
           }
          ],
          "scattergeo": [
           {
            "marker": {
             "colorbar": {
              "outlinewidth": 0,
              "ticks": ""
             }
            },
            "type": "scattergeo"
           }
          ],
          "scattergl": [
           {
            "marker": {
             "colorbar": {
              "outlinewidth": 0,
              "ticks": ""
             }
            },
            "type": "scattergl"
           }
          ],
          "scattermapbox": [
           {
            "marker": {
             "colorbar": {
              "outlinewidth": 0,
              "ticks": ""
             }
            },
            "type": "scattermapbox"
           }
          ],
          "scatterpolar": [
           {
            "marker": {
             "colorbar": {
              "outlinewidth": 0,
              "ticks": ""
             }
            },
            "type": "scatterpolar"
           }
          ],
          "scatterpolargl": [
           {
            "marker": {
             "colorbar": {
              "outlinewidth": 0,
              "ticks": ""
             }
            },
            "type": "scatterpolargl"
           }
          ],
          "scatterternary": [
           {
            "marker": {
             "colorbar": {
              "outlinewidth": 0,
              "ticks": ""
             }
            },
            "type": "scatterternary"
           }
          ],
          "surface": [
           {
            "colorbar": {
             "outlinewidth": 0,
             "ticks": ""
            },
            "colorscale": [
             [
              0,
              "#0d0887"
             ],
             [
              0.1111111111111111,
              "#46039f"
             ],
             [
              0.2222222222222222,
              "#7201a8"
             ],
             [
              0.3333333333333333,
              "#9c179e"
             ],
             [
              0.4444444444444444,
              "#bd3786"
             ],
             [
              0.5555555555555556,
              "#d8576b"
             ],
             [
              0.6666666666666666,
              "#ed7953"
             ],
             [
              0.7777777777777778,
              "#fb9f3a"
             ],
             [
              0.8888888888888888,
              "#fdca26"
             ],
             [
              1,
              "#f0f921"
             ]
            ],
            "type": "surface"
           }
          ],
          "table": [
           {
            "cells": {
             "fill": {
              "color": "#EBF0F8"
             },
             "line": {
              "color": "white"
             }
            },
            "header": {
             "fill": {
              "color": "#C8D4E3"
             },
             "line": {
              "color": "white"
             }
            },
            "type": "table"
           }
          ]
         },
         "layout": {
          "annotationdefaults": {
           "arrowcolor": "#2a3f5f",
           "arrowhead": 0,
           "arrowwidth": 1
          },
          "autotypenumbers": "strict",
          "coloraxis": {
           "colorbar": {
            "outlinewidth": 0,
            "ticks": ""
           }
          },
          "colorscale": {
           "diverging": [
            [
             0,
             "#8e0152"
            ],
            [
             0.1,
             "#c51b7d"
            ],
            [
             0.2,
             "#de77ae"
            ],
            [
             0.3,
             "#f1b6da"
            ],
            [
             0.4,
             "#fde0ef"
            ],
            [
             0.5,
             "#f7f7f7"
            ],
            [
             0.6,
             "#e6f5d0"
            ],
            [
             0.7,
             "#b8e186"
            ],
            [
             0.8,
             "#7fbc41"
            ],
            [
             0.9,
             "#4d9221"
            ],
            [
             1,
             "#276419"
            ]
           ],
           "sequential": [
            [
             0,
             "#0d0887"
            ],
            [
             0.1111111111111111,
             "#46039f"
            ],
            [
             0.2222222222222222,
             "#7201a8"
            ],
            [
             0.3333333333333333,
             "#9c179e"
            ],
            [
             0.4444444444444444,
             "#bd3786"
            ],
            [
             0.5555555555555556,
             "#d8576b"
            ],
            [
             0.6666666666666666,
             "#ed7953"
            ],
            [
             0.7777777777777778,
             "#fb9f3a"
            ],
            [
             0.8888888888888888,
             "#fdca26"
            ],
            [
             1,
             "#f0f921"
            ]
           ],
           "sequentialminus": [
            [
             0,
             "#0d0887"
            ],
            [
             0.1111111111111111,
             "#46039f"
            ],
            [
             0.2222222222222222,
             "#7201a8"
            ],
            [
             0.3333333333333333,
             "#9c179e"
            ],
            [
             0.4444444444444444,
             "#bd3786"
            ],
            [
             0.5555555555555556,
             "#d8576b"
            ],
            [
             0.6666666666666666,
             "#ed7953"
            ],
            [
             0.7777777777777778,
             "#fb9f3a"
            ],
            [
             0.8888888888888888,
             "#fdca26"
            ],
            [
             1,
             "#f0f921"
            ]
           ]
          },
          "colorway": [
           "#636efa",
           "#EF553B",
           "#00cc96",
           "#ab63fa",
           "#FFA15A",
           "#19d3f3",
           "#FF6692",
           "#B6E880",
           "#FF97FF",
           "#FECB52"
          ],
          "font": {
           "color": "#2a3f5f"
          },
          "geo": {
           "bgcolor": "white",
           "lakecolor": "white",
           "landcolor": "#E5ECF6",
           "showlakes": true,
           "showland": true,
           "subunitcolor": "white"
          },
          "hoverlabel": {
           "align": "left"
          },
          "hovermode": "closest",
          "mapbox": {
           "style": "light"
          },
          "paper_bgcolor": "white",
          "plot_bgcolor": "#E5ECF6",
          "polar": {
           "angularaxis": {
            "gridcolor": "white",
            "linecolor": "white",
            "ticks": ""
           },
           "bgcolor": "#E5ECF6",
           "radialaxis": {
            "gridcolor": "white",
            "linecolor": "white",
            "ticks": ""
           }
          },
          "scene": {
           "xaxis": {
            "backgroundcolor": "#E5ECF6",
            "gridcolor": "white",
            "gridwidth": 2,
            "linecolor": "white",
            "showbackground": true,
            "ticks": "",
            "zerolinecolor": "white"
           },
           "yaxis": {
            "backgroundcolor": "#E5ECF6",
            "gridcolor": "white",
            "gridwidth": 2,
            "linecolor": "white",
            "showbackground": true,
            "ticks": "",
            "zerolinecolor": "white"
           },
           "zaxis": {
            "backgroundcolor": "#E5ECF6",
            "gridcolor": "white",
            "gridwidth": 2,
            "linecolor": "white",
            "showbackground": true,
            "ticks": "",
            "zerolinecolor": "white"
           }
          },
          "shapedefaults": {
           "line": {
            "color": "#2a3f5f"
           }
          },
          "ternary": {
           "aaxis": {
            "gridcolor": "white",
            "linecolor": "white",
            "ticks": ""
           },
           "baxis": {
            "gridcolor": "white",
            "linecolor": "white",
            "ticks": ""
           },
           "bgcolor": "#E5ECF6",
           "caxis": {
            "gridcolor": "white",
            "linecolor": "white",
            "ticks": ""
           }
          },
          "title": {
           "x": 0.05
          },
          "xaxis": {
           "automargin": true,
           "gridcolor": "white",
           "linecolor": "white",
           "ticks": "",
           "title": {
            "standoff": 15
           },
           "zerolinecolor": "white",
           "zerolinewidth": 2
          },
          "yaxis": {
           "automargin": true,
           "gridcolor": "white",
           "linecolor": "white",
           "ticks": "",
           "title": {
            "standoff": 15
           },
           "zerolinecolor": "white",
           "zerolinewidth": 2
          }
         }
        },
        "title": {
         "text": "train"
        },
        "width": 500
       }
      }
     },
     "metadata": {},
     "output_type": "display_data"
    },
    {
     "data": {
      "application/vnd.plotly.v1+json": {
       "config": {
        "plotlyServerURL": "https://plot.ly"
       },
       "data": [
        {
         "type": "surface",
         "z": [
          [
           0.279001384973526,
           0.27896571159362793,
           0.2789301574230194,
           0.27889496088027954,
           0.2788599729537964,
           0.2788252532482147,
           0.27879083156585693,
           0.278756707906723,
           0.2787228524684906,
           0.27868932485580444
          ],
          [
           0.2789393663406372,
           0.27890393137931824,
           0.27886876463890076,
           0.2788338363170624,
           0.2787991762161255,
           0.27876484394073486,
           0.2787307798862457,
           0.27869701385498047,
           0.2786635458469391,
           0.27863043546676636
          ],
          [
           0.27880802750587463,
           0.2787734568119049,
           0.27873918414115906,
           0.2787052392959595,
           0.27867159247398376,
           0.27863821387290955,
           0.2786051034927368,
           0.2785723805427551,
           0.2785399258136749,
           0.278507798910141
          ],
          [
           0.278748095035553,
           0.2787139117717743,
           0.2786799967288971,
           0.27864646911621094,
           0.2786131799221039,
           0.2785801291465759,
           0.278547465801239,
           0.2785150408744812,
           0.27848294377326965,
           0.278451144695282
          ],
          [
           0.2786215841770172,
           0.2785883843898773,
           0.27855542302131653,
           0.278522789478302,
           0.27849045395851135,
           0.2784584164619446,
           0.2784266769886017,
           0.27839532494544983,
           0.27836424112319946,
           0.2783333659172058
          ],
          [
           0.2785639464855194,
           0.2785310745239258,
           0.27849847078323364,
           0.278466135263443,
           0.278434157371521,
           0.27840253710746765,
           0.27837127447128296,
           0.27834025025367737,
           0.27830952405929565,
           0.2782790958881378
          ],
          [
           0.27844226360321045,
           0.2784103453159332,
           0.27837878465652466,
           0.27834755182266235,
           0.2783166468143463,
           0.278285950422287,
           0.2782556116580963,
           0.27822554111480713,
           0.2781957685947418,
           0.27816638350486755
          ],
          [
           0.2783868908882141,
           0.2783554196357727,
           0.2783242166042328,
           0.27829334139823914,
           0.27826279401779175,
           0.27823248505592346,
           0.27820247411727905,
           0.2781728506088257,
           0.2781434953212738,
           0.27811455726623535
          ],
          [
           0.278270423412323,
           0.278239905834198,
           0.27820971608161926,
           0.27817976474761963,
           0.2781502306461334,
           0.2781209945678711,
           0.27809199690818787,
           0.27806341648101807,
           0.278035044670105,
           0.2780069410800934
          ],
          [
           0.2782173752784729,
           0.27818724513053894,
           0.27815738320350647,
           0.27812790870666504,
           0.2780987024307251,
           0.2780698239803314,
           0.278041273355484,
           0.2780130207538605,
           0.27798500657081604,
           0.27795735001564026
          ]
         ]
        }
       ],
       "layout": {
        "autosize": false,
        "height": 500,
        "margin": {
         "b": 65,
         "l": 65,
         "r": 50,
         "t": 90
        },
        "template": {
         "data": {
          "bar": [
           {
            "error_x": {
             "color": "#2a3f5f"
            },
            "error_y": {
             "color": "#2a3f5f"
            },
            "marker": {
             "line": {
              "color": "#E5ECF6",
              "width": 0.5
             },
             "pattern": {
              "fillmode": "overlay",
              "size": 10,
              "solidity": 0.2
             }
            },
            "type": "bar"
           }
          ],
          "barpolar": [
           {
            "marker": {
             "line": {
              "color": "#E5ECF6",
              "width": 0.5
             },
             "pattern": {
              "fillmode": "overlay",
              "size": 10,
              "solidity": 0.2
             }
            },
            "type": "barpolar"
           }
          ],
          "carpet": [
           {
            "aaxis": {
             "endlinecolor": "#2a3f5f",
             "gridcolor": "white",
             "linecolor": "white",
             "minorgridcolor": "white",
             "startlinecolor": "#2a3f5f"
            },
            "baxis": {
             "endlinecolor": "#2a3f5f",
             "gridcolor": "white",
             "linecolor": "white",
             "minorgridcolor": "white",
             "startlinecolor": "#2a3f5f"
            },
            "type": "carpet"
           }
          ],
          "choropleth": [
           {
            "colorbar": {
             "outlinewidth": 0,
             "ticks": ""
            },
            "type": "choropleth"
           }
          ],
          "contour": [
           {
            "colorbar": {
             "outlinewidth": 0,
             "ticks": ""
            },
            "colorscale": [
             [
              0,
              "#0d0887"
             ],
             [
              0.1111111111111111,
              "#46039f"
             ],
             [
              0.2222222222222222,
              "#7201a8"
             ],
             [
              0.3333333333333333,
              "#9c179e"
             ],
             [
              0.4444444444444444,
              "#bd3786"
             ],
             [
              0.5555555555555556,
              "#d8576b"
             ],
             [
              0.6666666666666666,
              "#ed7953"
             ],
             [
              0.7777777777777778,
              "#fb9f3a"
             ],
             [
              0.8888888888888888,
              "#fdca26"
             ],
             [
              1,
              "#f0f921"
             ]
            ],
            "type": "contour"
           }
          ],
          "contourcarpet": [
           {
            "colorbar": {
             "outlinewidth": 0,
             "ticks": ""
            },
            "type": "contourcarpet"
           }
          ],
          "heatmap": [
           {
            "colorbar": {
             "outlinewidth": 0,
             "ticks": ""
            },
            "colorscale": [
             [
              0,
              "#0d0887"
             ],
             [
              0.1111111111111111,
              "#46039f"
             ],
             [
              0.2222222222222222,
              "#7201a8"
             ],
             [
              0.3333333333333333,
              "#9c179e"
             ],
             [
              0.4444444444444444,
              "#bd3786"
             ],
             [
              0.5555555555555556,
              "#d8576b"
             ],
             [
              0.6666666666666666,
              "#ed7953"
             ],
             [
              0.7777777777777778,
              "#fb9f3a"
             ],
             [
              0.8888888888888888,
              "#fdca26"
             ],
             [
              1,
              "#f0f921"
             ]
            ],
            "type": "heatmap"
           }
          ],
          "heatmapgl": [
           {
            "colorbar": {
             "outlinewidth": 0,
             "ticks": ""
            },
            "colorscale": [
             [
              0,
              "#0d0887"
             ],
             [
              0.1111111111111111,
              "#46039f"
             ],
             [
              0.2222222222222222,
              "#7201a8"
             ],
             [
              0.3333333333333333,
              "#9c179e"
             ],
             [
              0.4444444444444444,
              "#bd3786"
             ],
             [
              0.5555555555555556,
              "#d8576b"
             ],
             [
              0.6666666666666666,
              "#ed7953"
             ],
             [
              0.7777777777777778,
              "#fb9f3a"
             ],
             [
              0.8888888888888888,
              "#fdca26"
             ],
             [
              1,
              "#f0f921"
             ]
            ],
            "type": "heatmapgl"
           }
          ],
          "histogram": [
           {
            "marker": {
             "pattern": {
              "fillmode": "overlay",
              "size": 10,
              "solidity": 0.2
             }
            },
            "type": "histogram"
           }
          ],
          "histogram2d": [
           {
            "colorbar": {
             "outlinewidth": 0,
             "ticks": ""
            },
            "colorscale": [
             [
              0,
              "#0d0887"
             ],
             [
              0.1111111111111111,
              "#46039f"
             ],
             [
              0.2222222222222222,
              "#7201a8"
             ],
             [
              0.3333333333333333,
              "#9c179e"
             ],
             [
              0.4444444444444444,
              "#bd3786"
             ],
             [
              0.5555555555555556,
              "#d8576b"
             ],
             [
              0.6666666666666666,
              "#ed7953"
             ],
             [
              0.7777777777777778,
              "#fb9f3a"
             ],
             [
              0.8888888888888888,
              "#fdca26"
             ],
             [
              1,
              "#f0f921"
             ]
            ],
            "type": "histogram2d"
           }
          ],
          "histogram2dcontour": [
           {
            "colorbar": {
             "outlinewidth": 0,
             "ticks": ""
            },
            "colorscale": [
             [
              0,
              "#0d0887"
             ],
             [
              0.1111111111111111,
              "#46039f"
             ],
             [
              0.2222222222222222,
              "#7201a8"
             ],
             [
              0.3333333333333333,
              "#9c179e"
             ],
             [
              0.4444444444444444,
              "#bd3786"
             ],
             [
              0.5555555555555556,
              "#d8576b"
             ],
             [
              0.6666666666666666,
              "#ed7953"
             ],
             [
              0.7777777777777778,
              "#fb9f3a"
             ],
             [
              0.8888888888888888,
              "#fdca26"
             ],
             [
              1,
              "#f0f921"
             ]
            ],
            "type": "histogram2dcontour"
           }
          ],
          "mesh3d": [
           {
            "colorbar": {
             "outlinewidth": 0,
             "ticks": ""
            },
            "type": "mesh3d"
           }
          ],
          "parcoords": [
           {
            "line": {
             "colorbar": {
              "outlinewidth": 0,
              "ticks": ""
             }
            },
            "type": "parcoords"
           }
          ],
          "pie": [
           {
            "automargin": true,
            "type": "pie"
           }
          ],
          "scatter": [
           {
            "fillpattern": {
             "fillmode": "overlay",
             "size": 10,
             "solidity": 0.2
            },
            "type": "scatter"
           }
          ],
          "scatter3d": [
           {
            "line": {
             "colorbar": {
              "outlinewidth": 0,
              "ticks": ""
             }
            },
            "marker": {
             "colorbar": {
              "outlinewidth": 0,
              "ticks": ""
             }
            },
            "type": "scatter3d"
           }
          ],
          "scattercarpet": [
           {
            "marker": {
             "colorbar": {
              "outlinewidth": 0,
              "ticks": ""
             }
            },
            "type": "scattercarpet"
           }
          ],
          "scattergeo": [
           {
            "marker": {
             "colorbar": {
              "outlinewidth": 0,
              "ticks": ""
             }
            },
            "type": "scattergeo"
           }
          ],
          "scattergl": [
           {
            "marker": {
             "colorbar": {
              "outlinewidth": 0,
              "ticks": ""
             }
            },
            "type": "scattergl"
           }
          ],
          "scattermapbox": [
           {
            "marker": {
             "colorbar": {
              "outlinewidth": 0,
              "ticks": ""
             }
            },
            "type": "scattermapbox"
           }
          ],
          "scatterpolar": [
           {
            "marker": {
             "colorbar": {
              "outlinewidth": 0,
              "ticks": ""
             }
            },
            "type": "scatterpolar"
           }
          ],
          "scatterpolargl": [
           {
            "marker": {
             "colorbar": {
              "outlinewidth": 0,
              "ticks": ""
             }
            },
            "type": "scatterpolargl"
           }
          ],
          "scatterternary": [
           {
            "marker": {
             "colorbar": {
              "outlinewidth": 0,
              "ticks": ""
             }
            },
            "type": "scatterternary"
           }
          ],
          "surface": [
           {
            "colorbar": {
             "outlinewidth": 0,
             "ticks": ""
            },
            "colorscale": [
             [
              0,
              "#0d0887"
             ],
             [
              0.1111111111111111,
              "#46039f"
             ],
             [
              0.2222222222222222,
              "#7201a8"
             ],
             [
              0.3333333333333333,
              "#9c179e"
             ],
             [
              0.4444444444444444,
              "#bd3786"
             ],
             [
              0.5555555555555556,
              "#d8576b"
             ],
             [
              0.6666666666666666,
              "#ed7953"
             ],
             [
              0.7777777777777778,
              "#fb9f3a"
             ],
             [
              0.8888888888888888,
              "#fdca26"
             ],
             [
              1,
              "#f0f921"
             ]
            ],
            "type": "surface"
           }
          ],
          "table": [
           {
            "cells": {
             "fill": {
              "color": "#EBF0F8"
             },
             "line": {
              "color": "white"
             }
            },
            "header": {
             "fill": {
              "color": "#C8D4E3"
             },
             "line": {
              "color": "white"
             }
            },
            "type": "table"
           }
          ]
         },
         "layout": {
          "annotationdefaults": {
           "arrowcolor": "#2a3f5f",
           "arrowhead": 0,
           "arrowwidth": 1
          },
          "autotypenumbers": "strict",
          "coloraxis": {
           "colorbar": {
            "outlinewidth": 0,
            "ticks": ""
           }
          },
          "colorscale": {
           "diverging": [
            [
             0,
             "#8e0152"
            ],
            [
             0.1,
             "#c51b7d"
            ],
            [
             0.2,
             "#de77ae"
            ],
            [
             0.3,
             "#f1b6da"
            ],
            [
             0.4,
             "#fde0ef"
            ],
            [
             0.5,
             "#f7f7f7"
            ],
            [
             0.6,
             "#e6f5d0"
            ],
            [
             0.7,
             "#b8e186"
            ],
            [
             0.8,
             "#7fbc41"
            ],
            [
             0.9,
             "#4d9221"
            ],
            [
             1,
             "#276419"
            ]
           ],
           "sequential": [
            [
             0,
             "#0d0887"
            ],
            [
             0.1111111111111111,
             "#46039f"
            ],
            [
             0.2222222222222222,
             "#7201a8"
            ],
            [
             0.3333333333333333,
             "#9c179e"
            ],
            [
             0.4444444444444444,
             "#bd3786"
            ],
            [
             0.5555555555555556,
             "#d8576b"
            ],
            [
             0.6666666666666666,
             "#ed7953"
            ],
            [
             0.7777777777777778,
             "#fb9f3a"
            ],
            [
             0.8888888888888888,
             "#fdca26"
            ],
            [
             1,
             "#f0f921"
            ]
           ],
           "sequentialminus": [
            [
             0,
             "#0d0887"
            ],
            [
             0.1111111111111111,
             "#46039f"
            ],
            [
             0.2222222222222222,
             "#7201a8"
            ],
            [
             0.3333333333333333,
             "#9c179e"
            ],
            [
             0.4444444444444444,
             "#bd3786"
            ],
            [
             0.5555555555555556,
             "#d8576b"
            ],
            [
             0.6666666666666666,
             "#ed7953"
            ],
            [
             0.7777777777777778,
             "#fb9f3a"
            ],
            [
             0.8888888888888888,
             "#fdca26"
            ],
            [
             1,
             "#f0f921"
            ]
           ]
          },
          "colorway": [
           "#636efa",
           "#EF553B",
           "#00cc96",
           "#ab63fa",
           "#FFA15A",
           "#19d3f3",
           "#FF6692",
           "#B6E880",
           "#FF97FF",
           "#FECB52"
          ],
          "font": {
           "color": "#2a3f5f"
          },
          "geo": {
           "bgcolor": "white",
           "lakecolor": "white",
           "landcolor": "#E5ECF6",
           "showlakes": true,
           "showland": true,
           "subunitcolor": "white"
          },
          "hoverlabel": {
           "align": "left"
          },
          "hovermode": "closest",
          "mapbox": {
           "style": "light"
          },
          "paper_bgcolor": "white",
          "plot_bgcolor": "#E5ECF6",
          "polar": {
           "angularaxis": {
            "gridcolor": "white",
            "linecolor": "white",
            "ticks": ""
           },
           "bgcolor": "#E5ECF6",
           "radialaxis": {
            "gridcolor": "white",
            "linecolor": "white",
            "ticks": ""
           }
          },
          "scene": {
           "xaxis": {
            "backgroundcolor": "#E5ECF6",
            "gridcolor": "white",
            "gridwidth": 2,
            "linecolor": "white",
            "showbackground": true,
            "ticks": "",
            "zerolinecolor": "white"
           },
           "yaxis": {
            "backgroundcolor": "#E5ECF6",
            "gridcolor": "white",
            "gridwidth": 2,
            "linecolor": "white",
            "showbackground": true,
            "ticks": "",
            "zerolinecolor": "white"
           },
           "zaxis": {
            "backgroundcolor": "#E5ECF6",
            "gridcolor": "white",
            "gridwidth": 2,
            "linecolor": "white",
            "showbackground": true,
            "ticks": "",
            "zerolinecolor": "white"
           }
          },
          "shapedefaults": {
           "line": {
            "color": "#2a3f5f"
           }
          },
          "ternary": {
           "aaxis": {
            "gridcolor": "white",
            "linecolor": "white",
            "ticks": ""
           },
           "baxis": {
            "gridcolor": "white",
            "linecolor": "white",
            "ticks": ""
           },
           "bgcolor": "#E5ECF6",
           "caxis": {
            "gridcolor": "white",
            "linecolor": "white",
            "ticks": ""
           }
          },
          "title": {
           "x": 0.05
          },
          "xaxis": {
           "automargin": true,
           "gridcolor": "white",
           "linecolor": "white",
           "ticks": "",
           "title": {
            "standoff": 15
           },
           "zerolinecolor": "white",
           "zerolinewidth": 2
          },
          "yaxis": {
           "automargin": true,
           "gridcolor": "white",
           "linecolor": "white",
           "ticks": "",
           "title": {
            "standoff": 15
           },
           "zerolinecolor": "white",
           "zerolinewidth": 2
          }
         }
        },
        "title": {
         "text": "val"
        },
        "width": 500
       }
      }
     },
     "metadata": {},
     "output_type": "display_data"
    },
    {
     "data": {
      "application/vnd.plotly.v1+json": {
       "config": {
        "plotlyServerURL": "https://plot.ly"
       },
       "data": [
        {
         "type": "surface",
         "z": [
          [
           0.279001384973526,
           0.27896571159362793,
           0.2789301574230194,
           0.27889496088027954,
           0.2788599729537964,
           0.2788252532482147,
           0.27879083156585693,
           0.278756707906723,
           0.2787228524684906,
           0.27868932485580444
          ],
          [
           0.2789393663406372,
           0.27890393137931824,
           0.27886876463890076,
           0.2788338363170624,
           0.2787991762161255,
           0.27876484394073486,
           0.2787307798862457,
           0.27869701385498047,
           0.2786635458469391,
           0.27863043546676636
          ],
          [
           0.27880802750587463,
           0.2787734568119049,
           0.27873918414115906,
           0.2787052392959595,
           0.27867159247398376,
           0.27863821387290955,
           0.2786051034927368,
           0.2785723805427551,
           0.2785399258136749,
           0.278507798910141
          ],
          [
           0.278748095035553,
           0.2787139117717743,
           0.2786799967288971,
           0.27864646911621094,
           0.2786131799221039,
           0.2785801291465759,
           0.278547465801239,
           0.2785150408744812,
           0.27848294377326965,
           0.278451144695282
          ],
          [
           0.2786215841770172,
           0.2785883843898773,
           0.27855542302131653,
           0.278522789478302,
           0.27849045395851135,
           0.2784584164619446,
           0.2784266769886017,
           0.27839532494544983,
           0.27836424112319946,
           0.2783333659172058
          ],
          [
           0.2785639464855194,
           0.2785310745239258,
           0.27849847078323364,
           0.278466135263443,
           0.278434157371521,
           0.27840253710746765,
           0.27837127447128296,
           0.27834025025367737,
           0.27830952405929565,
           0.2782790958881378
          ],
          [
           0.27844226360321045,
           0.2784103453159332,
           0.27837878465652466,
           0.27834755182266235,
           0.2783166468143463,
           0.278285950422287,
           0.2782556116580963,
           0.27822554111480713,
           0.2781957685947418,
           0.27816638350486755
          ],
          [
           0.2783868908882141,
           0.2783554196357727,
           0.2783242166042328,
           0.27829334139823914,
           0.27826279401779175,
           0.27823248505592346,
           0.27820247411727905,
           0.2781728506088257,
           0.2781434953212738,
           0.27811455726623535
          ],
          [
           0.278270423412323,
           0.278239905834198,
           0.27820971608161926,
           0.27817976474761963,
           0.2781502306461334,
           0.2781209945678711,
           0.27809199690818787,
           0.27806341648101807,
           0.278035044670105,
           0.2780069410800934
          ],
          [
           0.2782173752784729,
           0.27818724513053894,
           0.27815738320350647,
           0.27812790870666504,
           0.2780987024307251,
           0.2780698239803314,
           0.278041273355484,
           0.2780130207538605,
           0.27798500657081604,
           0.27795735001564026
          ]
         ]
        }
       ],
       "layout": {
        "autosize": false,
        "height": 500,
        "margin": {
         "b": 65,
         "l": 65,
         "r": 50,
         "t": 90
        },
        "template": {
         "data": {
          "bar": [
           {
            "error_x": {
             "color": "#2a3f5f"
            },
            "error_y": {
             "color": "#2a3f5f"
            },
            "marker": {
             "line": {
              "color": "#E5ECF6",
              "width": 0.5
             },
             "pattern": {
              "fillmode": "overlay",
              "size": 10,
              "solidity": 0.2
             }
            },
            "type": "bar"
           }
          ],
          "barpolar": [
           {
            "marker": {
             "line": {
              "color": "#E5ECF6",
              "width": 0.5
             },
             "pattern": {
              "fillmode": "overlay",
              "size": 10,
              "solidity": 0.2
             }
            },
            "type": "barpolar"
           }
          ],
          "carpet": [
           {
            "aaxis": {
             "endlinecolor": "#2a3f5f",
             "gridcolor": "white",
             "linecolor": "white",
             "minorgridcolor": "white",
             "startlinecolor": "#2a3f5f"
            },
            "baxis": {
             "endlinecolor": "#2a3f5f",
             "gridcolor": "white",
             "linecolor": "white",
             "minorgridcolor": "white",
             "startlinecolor": "#2a3f5f"
            },
            "type": "carpet"
           }
          ],
          "choropleth": [
           {
            "colorbar": {
             "outlinewidth": 0,
             "ticks": ""
            },
            "type": "choropleth"
           }
          ],
          "contour": [
           {
            "colorbar": {
             "outlinewidth": 0,
             "ticks": ""
            },
            "colorscale": [
             [
              0,
              "#0d0887"
             ],
             [
              0.1111111111111111,
              "#46039f"
             ],
             [
              0.2222222222222222,
              "#7201a8"
             ],
             [
              0.3333333333333333,
              "#9c179e"
             ],
             [
              0.4444444444444444,
              "#bd3786"
             ],
             [
              0.5555555555555556,
              "#d8576b"
             ],
             [
              0.6666666666666666,
              "#ed7953"
             ],
             [
              0.7777777777777778,
              "#fb9f3a"
             ],
             [
              0.8888888888888888,
              "#fdca26"
             ],
             [
              1,
              "#f0f921"
             ]
            ],
            "type": "contour"
           }
          ],
          "contourcarpet": [
           {
            "colorbar": {
             "outlinewidth": 0,
             "ticks": ""
            },
            "type": "contourcarpet"
           }
          ],
          "heatmap": [
           {
            "colorbar": {
             "outlinewidth": 0,
             "ticks": ""
            },
            "colorscale": [
             [
              0,
              "#0d0887"
             ],
             [
              0.1111111111111111,
              "#46039f"
             ],
             [
              0.2222222222222222,
              "#7201a8"
             ],
             [
              0.3333333333333333,
              "#9c179e"
             ],
             [
              0.4444444444444444,
              "#bd3786"
             ],
             [
              0.5555555555555556,
              "#d8576b"
             ],
             [
              0.6666666666666666,
              "#ed7953"
             ],
             [
              0.7777777777777778,
              "#fb9f3a"
             ],
             [
              0.8888888888888888,
              "#fdca26"
             ],
             [
              1,
              "#f0f921"
             ]
            ],
            "type": "heatmap"
           }
          ],
          "heatmapgl": [
           {
            "colorbar": {
             "outlinewidth": 0,
             "ticks": ""
            },
            "colorscale": [
             [
              0,
              "#0d0887"
             ],
             [
              0.1111111111111111,
              "#46039f"
             ],
             [
              0.2222222222222222,
              "#7201a8"
             ],
             [
              0.3333333333333333,
              "#9c179e"
             ],
             [
              0.4444444444444444,
              "#bd3786"
             ],
             [
              0.5555555555555556,
              "#d8576b"
             ],
             [
              0.6666666666666666,
              "#ed7953"
             ],
             [
              0.7777777777777778,
              "#fb9f3a"
             ],
             [
              0.8888888888888888,
              "#fdca26"
             ],
             [
              1,
              "#f0f921"
             ]
            ],
            "type": "heatmapgl"
           }
          ],
          "histogram": [
           {
            "marker": {
             "pattern": {
              "fillmode": "overlay",
              "size": 10,
              "solidity": 0.2
             }
            },
            "type": "histogram"
           }
          ],
          "histogram2d": [
           {
            "colorbar": {
             "outlinewidth": 0,
             "ticks": ""
            },
            "colorscale": [
             [
              0,
              "#0d0887"
             ],
             [
              0.1111111111111111,
              "#46039f"
             ],
             [
              0.2222222222222222,
              "#7201a8"
             ],
             [
              0.3333333333333333,
              "#9c179e"
             ],
             [
              0.4444444444444444,
              "#bd3786"
             ],
             [
              0.5555555555555556,
              "#d8576b"
             ],
             [
              0.6666666666666666,
              "#ed7953"
             ],
             [
              0.7777777777777778,
              "#fb9f3a"
             ],
             [
              0.8888888888888888,
              "#fdca26"
             ],
             [
              1,
              "#f0f921"
             ]
            ],
            "type": "histogram2d"
           }
          ],
          "histogram2dcontour": [
           {
            "colorbar": {
             "outlinewidth": 0,
             "ticks": ""
            },
            "colorscale": [
             [
              0,
              "#0d0887"
             ],
             [
              0.1111111111111111,
              "#46039f"
             ],
             [
              0.2222222222222222,
              "#7201a8"
             ],
             [
              0.3333333333333333,
              "#9c179e"
             ],
             [
              0.4444444444444444,
              "#bd3786"
             ],
             [
              0.5555555555555556,
              "#d8576b"
             ],
             [
              0.6666666666666666,
              "#ed7953"
             ],
             [
              0.7777777777777778,
              "#fb9f3a"
             ],
             [
              0.8888888888888888,
              "#fdca26"
             ],
             [
              1,
              "#f0f921"
             ]
            ],
            "type": "histogram2dcontour"
           }
          ],
          "mesh3d": [
           {
            "colorbar": {
             "outlinewidth": 0,
             "ticks": ""
            },
            "type": "mesh3d"
           }
          ],
          "parcoords": [
           {
            "line": {
             "colorbar": {
              "outlinewidth": 0,
              "ticks": ""
             }
            },
            "type": "parcoords"
           }
          ],
          "pie": [
           {
            "automargin": true,
            "type": "pie"
           }
          ],
          "scatter": [
           {
            "fillpattern": {
             "fillmode": "overlay",
             "size": 10,
             "solidity": 0.2
            },
            "type": "scatter"
           }
          ],
          "scatter3d": [
           {
            "line": {
             "colorbar": {
              "outlinewidth": 0,
              "ticks": ""
             }
            },
            "marker": {
             "colorbar": {
              "outlinewidth": 0,
              "ticks": ""
             }
            },
            "type": "scatter3d"
           }
          ],
          "scattercarpet": [
           {
            "marker": {
             "colorbar": {
              "outlinewidth": 0,
              "ticks": ""
             }
            },
            "type": "scattercarpet"
           }
          ],
          "scattergeo": [
           {
            "marker": {
             "colorbar": {
              "outlinewidth": 0,
              "ticks": ""
             }
            },
            "type": "scattergeo"
           }
          ],
          "scattergl": [
           {
            "marker": {
             "colorbar": {
              "outlinewidth": 0,
              "ticks": ""
             }
            },
            "type": "scattergl"
           }
          ],
          "scattermapbox": [
           {
            "marker": {
             "colorbar": {
              "outlinewidth": 0,
              "ticks": ""
             }
            },
            "type": "scattermapbox"
           }
          ],
          "scatterpolar": [
           {
            "marker": {
             "colorbar": {
              "outlinewidth": 0,
              "ticks": ""
             }
            },
            "type": "scatterpolar"
           }
          ],
          "scatterpolargl": [
           {
            "marker": {
             "colorbar": {
              "outlinewidth": 0,
              "ticks": ""
             }
            },
            "type": "scatterpolargl"
           }
          ],
          "scatterternary": [
           {
            "marker": {
             "colorbar": {
              "outlinewidth": 0,
              "ticks": ""
             }
            },
            "type": "scatterternary"
           }
          ],
          "surface": [
           {
            "colorbar": {
             "outlinewidth": 0,
             "ticks": ""
            },
            "colorscale": [
             [
              0,
              "#0d0887"
             ],
             [
              0.1111111111111111,
              "#46039f"
             ],
             [
              0.2222222222222222,
              "#7201a8"
             ],
             [
              0.3333333333333333,
              "#9c179e"
             ],
             [
              0.4444444444444444,
              "#bd3786"
             ],
             [
              0.5555555555555556,
              "#d8576b"
             ],
             [
              0.6666666666666666,
              "#ed7953"
             ],
             [
              0.7777777777777778,
              "#fb9f3a"
             ],
             [
              0.8888888888888888,
              "#fdca26"
             ],
             [
              1,
              "#f0f921"
             ]
            ],
            "type": "surface"
           }
          ],
          "table": [
           {
            "cells": {
             "fill": {
              "color": "#EBF0F8"
             },
             "line": {
              "color": "white"
             }
            },
            "header": {
             "fill": {
              "color": "#C8D4E3"
             },
             "line": {
              "color": "white"
             }
            },
            "type": "table"
           }
          ]
         },
         "layout": {
          "annotationdefaults": {
           "arrowcolor": "#2a3f5f",
           "arrowhead": 0,
           "arrowwidth": 1
          },
          "autotypenumbers": "strict",
          "coloraxis": {
           "colorbar": {
            "outlinewidth": 0,
            "ticks": ""
           }
          },
          "colorscale": {
           "diverging": [
            [
             0,
             "#8e0152"
            ],
            [
             0.1,
             "#c51b7d"
            ],
            [
             0.2,
             "#de77ae"
            ],
            [
             0.3,
             "#f1b6da"
            ],
            [
             0.4,
             "#fde0ef"
            ],
            [
             0.5,
             "#f7f7f7"
            ],
            [
             0.6,
             "#e6f5d0"
            ],
            [
             0.7,
             "#b8e186"
            ],
            [
             0.8,
             "#7fbc41"
            ],
            [
             0.9,
             "#4d9221"
            ],
            [
             1,
             "#276419"
            ]
           ],
           "sequential": [
            [
             0,
             "#0d0887"
            ],
            [
             0.1111111111111111,
             "#46039f"
            ],
            [
             0.2222222222222222,
             "#7201a8"
            ],
            [
             0.3333333333333333,
             "#9c179e"
            ],
            [
             0.4444444444444444,
             "#bd3786"
            ],
            [
             0.5555555555555556,
             "#d8576b"
            ],
            [
             0.6666666666666666,
             "#ed7953"
            ],
            [
             0.7777777777777778,
             "#fb9f3a"
            ],
            [
             0.8888888888888888,
             "#fdca26"
            ],
            [
             1,
             "#f0f921"
            ]
           ],
           "sequentialminus": [
            [
             0,
             "#0d0887"
            ],
            [
             0.1111111111111111,
             "#46039f"
            ],
            [
             0.2222222222222222,
             "#7201a8"
            ],
            [
             0.3333333333333333,
             "#9c179e"
            ],
            [
             0.4444444444444444,
             "#bd3786"
            ],
            [
             0.5555555555555556,
             "#d8576b"
            ],
            [
             0.6666666666666666,
             "#ed7953"
            ],
            [
             0.7777777777777778,
             "#fb9f3a"
            ],
            [
             0.8888888888888888,
             "#fdca26"
            ],
            [
             1,
             "#f0f921"
            ]
           ]
          },
          "colorway": [
           "#636efa",
           "#EF553B",
           "#00cc96",
           "#ab63fa",
           "#FFA15A",
           "#19d3f3",
           "#FF6692",
           "#B6E880",
           "#FF97FF",
           "#FECB52"
          ],
          "font": {
           "color": "#2a3f5f"
          },
          "geo": {
           "bgcolor": "white",
           "lakecolor": "white",
           "landcolor": "#E5ECF6",
           "showlakes": true,
           "showland": true,
           "subunitcolor": "white"
          },
          "hoverlabel": {
           "align": "left"
          },
          "hovermode": "closest",
          "mapbox": {
           "style": "light"
          },
          "paper_bgcolor": "white",
          "plot_bgcolor": "#E5ECF6",
          "polar": {
           "angularaxis": {
            "gridcolor": "white",
            "linecolor": "white",
            "ticks": ""
           },
           "bgcolor": "#E5ECF6",
           "radialaxis": {
            "gridcolor": "white",
            "linecolor": "white",
            "ticks": ""
           }
          },
          "scene": {
           "xaxis": {
            "backgroundcolor": "#E5ECF6",
            "gridcolor": "white",
            "gridwidth": 2,
            "linecolor": "white",
            "showbackground": true,
            "ticks": "",
            "zerolinecolor": "white"
           },
           "yaxis": {
            "backgroundcolor": "#E5ECF6",
            "gridcolor": "white",
            "gridwidth": 2,
            "linecolor": "white",
            "showbackground": true,
            "ticks": "",
            "zerolinecolor": "white"
           },
           "zaxis": {
            "backgroundcolor": "#E5ECF6",
            "gridcolor": "white",
            "gridwidth": 2,
            "linecolor": "white",
            "showbackground": true,
            "ticks": "",
            "zerolinecolor": "white"
           }
          },
          "shapedefaults": {
           "line": {
            "color": "#2a3f5f"
           }
          },
          "ternary": {
           "aaxis": {
            "gridcolor": "white",
            "linecolor": "white",
            "ticks": ""
           },
           "baxis": {
            "gridcolor": "white",
            "linecolor": "white",
            "ticks": ""
           },
           "bgcolor": "#E5ECF6",
           "caxis": {
            "gridcolor": "white",
            "linecolor": "white",
            "ticks": ""
           }
          },
          "title": {
           "x": 0.05
          },
          "xaxis": {
           "automargin": true,
           "gridcolor": "white",
           "linecolor": "white",
           "ticks": "",
           "title": {
            "standoff": 15
           },
           "zerolinecolor": "white",
           "zerolinewidth": 2
          },
          "yaxis": {
           "automargin": true,
           "gridcolor": "white",
           "linecolor": "white",
           "ticks": "",
           "title": {
            "standoff": 15
           },
           "zerolinecolor": "white",
           "zerolinewidth": 2
          }
         }
        },
        "title": {
         "text": "test"
        },
        "width": 500
       }
      }
     },
     "metadata": {},
     "output_type": "display_data"
    }
   ],
   "source": [
    "DATASET = 'churn'\n",
    "path_to_config = '/Users/timgritsaev/Desktop/tabular/tabular-hpo/exp/mlp/' + DATASET + '/0-tuning/checkpoint.pt'\n",
    "path_to_model = '/Users/timgritsaev/Desktop/tabular/tabular-hpo/saved_models/optuna_' + DATASET + '_0.pt'\n",
    "create_all(path_to_config, path_to_model)"
   ]
  },
  {
   "cell_type": "code",
   "execution_count": 5,
   "metadata": {},
   "outputs": [
    {
     "name": "stderr",
     "output_type": "stream",
     "text": [
      "/Users/timgritsaev/Desktop/tabular/tabular-hpo/lib/util.py:237: UserWarning:\n",
      "\n",
      "The key \"function\" will be missing in the report. Reason: '/private/var/folders/65/1vwp97n52f5bhqv1kd377bw40000gn/T/ipykernel_2797/2891418144.py' is not in the subpath of '/Users/timgritsaev/Desktop/tabular/tabular-hpo' OR one path is relative and the other is absolute.\n",
      "\n",
      "0:05:57 | Using cached features: build_dataset__gesture__quantile__None__None__0__a4b7fd283c9b282df4cc1225d2489303.pickle\n"
     ]
    },
    {
     "name": "stdout",
     "output_type": "stream",
     "text": [
      "----------------------------------------------------------------------------------------------------\n",
      "{'seed': 0,\n",
      " 'data': {'seed': 0,\n",
      "          'cache': True,\n",
      "          'path': ':data/gesture',\n",
      "          'num_policy': 'quantile',\n",
      "          'cat_policy': None,\n",
      "          'y_policy': None},\n",
      " 'model': {'num_embeddings': None,\n",
      "           'backbone': {'type': 'MLP',\n",
      "                        'n_blocks': 6,\n",
      "                        'd_layer': 939,\n",
      "                        'dropout': 0.0819818600292229,\n",
      "                        'activation': 'ReLU'}},\n",
      " 'optimizer': {'type': 'AdamW',\n",
      "               'lr': 0.00032048018345648356,\n",
      "               'weight_decay': 2.178217166538039e-05},\n",
      " 'batch_size': 128,\n",
      " 'patience': 16,\n",
      " 'n_epochs': inf}\n",
      "----------------------------------------------------------------------------------------------------\n",
      "tensor([4, 2, 4, 1, 0, 2, 2, 0, 3, 2])\n",
      "tensor([4, 2, 0, 4, 0, 4, 4, 2, 4, 2])\n",
      "tensor([0, 0, 2, 0, 4, 0, 2, 2, 2, 4])\n",
      "dir_one 14\n",
      "dir_one tensor([[0.4963, 0.7682, 0.0885, 0.1320, 0.3074],\n",
      "        [0.1759, 0.2698, 0.1507, 0.0317, 0.2081],\n",
      "        [0.7745, 0.4369, 0.5191, 0.6159, 0.8102],\n",
      "        [0.7497, 0.6047, 0.1100, 0.2121, 0.9704],\n",
      "        [0.3251, 0.0902, 0.3936, 0.6069, 0.1743]])\n",
      "start_point tensor([[ 0.1272, -0.1148,  0.0763, -0.0264,  0.1141],\n",
      "        [ 0.1143,  0.1448,  0.0041, -0.0219,  0.0224],\n",
      "        [ 0.0966,  0.1201, -0.2113, -0.2412, -0.1076],\n",
      "        [-0.1224, -0.1632, -0.2002, -0.0644, -0.0916],\n",
      "        [-0.1718, -0.1549, -0.1198,  0.0551, -0.0722]])\n",
      "dir_one 14\n",
      "dir_one tensor([[0.4963, 0.7682, 0.0885, 0.1320, 0.3074],\n",
      "        [0.1759, 0.2698, 0.1507, 0.0317, 0.2081],\n",
      "        [0.7745, 0.4369, 0.5191, 0.6159, 0.8102],\n",
      "        [0.7497, 0.6047, 0.1100, 0.2121, 0.9704],\n",
      "        [0.3251, 0.0902, 0.3936, 0.6069, 0.1743]])\n",
      "start_point tensor([[ 0.1272, -0.1148,  0.0763, -0.0264,  0.1141],\n",
      "        [ 0.1143,  0.1448,  0.0041, -0.0219,  0.0224],\n",
      "        [ 0.0966,  0.1201, -0.2113, -0.2412, -0.1076],\n",
      "        [-0.1224, -0.1632, -0.2002, -0.0644, -0.0916],\n",
      "        [-0.1718, -0.1549, -0.1198,  0.0551, -0.0722]])\n",
      "dir_one 14\n",
      "dir_one tensor([[0.4963, 0.7682, 0.0885, 0.1320, 0.3074],\n",
      "        [0.1759, 0.2698, 0.1507, 0.0317, 0.2081],\n",
      "        [0.7745, 0.4369, 0.5191, 0.6159, 0.8102],\n",
      "        [0.7497, 0.6047, 0.1100, 0.2121, 0.9704],\n",
      "        [0.3251, 0.0902, 0.3936, 0.6069, 0.1743]])\n",
      "start_point tensor([[ 0.1272, -0.1148,  0.0763, -0.0264,  0.1141],\n",
      "        [ 0.1143,  0.1448,  0.0041, -0.0219,  0.0224],\n",
      "        [ 0.0966,  0.1201, -0.2113, -0.2412, -0.1076],\n",
      "        [-0.1224, -0.1632, -0.2002, -0.0644, -0.0916],\n",
      "        [-0.1718, -0.1549, -0.1198,  0.0551, -0.0722]])\n"
     ]
    },
    {
     "data": {
      "application/vnd.plotly.v1+json": {
       "config": {
        "plotlyServerURL": "https://plot.ly"
       },
       "data": [
        {
         "type": "surface",
         "z": [
          [
           1.0269978046417236,
           0.9248624444007874,
           0.8276904821395874,
           0.734738826751709,
           0.6476495862007141,
           0.5685693025588989,
           0.49879100918769836,
           0.43793371319770813,
           0.38493698835372925,
           0.3405347168445587
          ],
          [
           0.8962838053703308,
           0.7934005856513977,
           0.6944602131843567,
           0.6014377474784851,
           0.5162674784660339,
           0.4405730962753296,
           0.3739614486694336,
           0.31585514545440674,
           0.2679954469203949,
           0.23044821619987488
          ],
          [
           0.5745663642883301,
           0.48353278636932373,
           0.4017685651779175,
           0.32920172810554504,
           0.2659725546836853,
           0.2146379053592682,
           0.17581312358379364,
           0.1482114940881729,
           0.12971840798854828,
           0.11886724084615707
          ],
          [
           0.46987184882164,
           0.38255348801612854,
           0.30507782101631165,
           0.23743899166584015,
           0.18208882212638855,
           0.14113567769527435,
           0.1132463663816452,
           0.09597336500883102,
           0.08636412769556046,
           0.08248855173587799
          ],
          [
           0.22894743084907532,
           0.16868066787719727,
           0.12433594465255737,
           0.09604272246360779,
           0.07959453761577606,
           0.070985347032547,
           0.06763727217912674,
           0.06849995255470276,
           0.07312113046646118,
           0.08131122589111328
          ],
          [
           0.17347374558448792,
           0.12378765642642975,
           0.09263597428798676,
           0.07512502372264862,
           0.06638704240322113,
           0.06301839649677277,
           0.0639309510588646,
           0.06896311044692993,
           0.07785293459892273,
           0.09048917144536972
          ],
          [
           0.08016608655452728,
           0.06980014592409134,
           0.06604094058275223,
           0.06710357964038849,
           0.07249685376882553,
           0.08167862892150879,
           0.0955057218670845,
           0.11419299989938736,
           0.13808482885360718,
           0.16897685825824738
          ],
          [
           0.08112268894910812,
           0.07563275843858719,
           0.07595252990722656,
           0.08152786642313004,
           0.09234011173248291,
           0.10809767991304398,
           0.1298241913318634,
           0.1592826247215271,
           0.19830381870269775,
           0.24824433028697968
          ],
          [
           0.09690099954605103,
           0.1095694974064827,
           0.12870623171329498,
           0.15485037863254547,
           0.19035260379314423,
           0.23799139261245728,
           0.2995574176311493,
           0.3762507140636444,
           0.4721544086933136,
           0.589140772819519
          ],
          [
           0.13310103118419647,
           0.15627232193946838,
           0.18899768590927124,
           0.23291723430156708,
           0.2900362014770508,
           0.3622951805591583,
           0.45347943902015686,
           0.5652161240577698,
           0.6988816857337952,
           0.8597736358642578
          ]
         ]
        }
       ],
       "layout": {
        "autosize": false,
        "height": 500,
        "margin": {
         "b": 65,
         "l": 65,
         "r": 50,
         "t": 90
        },
        "template": {
         "data": {
          "bar": [
           {
            "error_x": {
             "color": "#2a3f5f"
            },
            "error_y": {
             "color": "#2a3f5f"
            },
            "marker": {
             "line": {
              "color": "#E5ECF6",
              "width": 0.5
             },
             "pattern": {
              "fillmode": "overlay",
              "size": 10,
              "solidity": 0.2
             }
            },
            "type": "bar"
           }
          ],
          "barpolar": [
           {
            "marker": {
             "line": {
              "color": "#E5ECF6",
              "width": 0.5
             },
             "pattern": {
              "fillmode": "overlay",
              "size": 10,
              "solidity": 0.2
             }
            },
            "type": "barpolar"
           }
          ],
          "carpet": [
           {
            "aaxis": {
             "endlinecolor": "#2a3f5f",
             "gridcolor": "white",
             "linecolor": "white",
             "minorgridcolor": "white",
             "startlinecolor": "#2a3f5f"
            },
            "baxis": {
             "endlinecolor": "#2a3f5f",
             "gridcolor": "white",
             "linecolor": "white",
             "minorgridcolor": "white",
             "startlinecolor": "#2a3f5f"
            },
            "type": "carpet"
           }
          ],
          "choropleth": [
           {
            "colorbar": {
             "outlinewidth": 0,
             "ticks": ""
            },
            "type": "choropleth"
           }
          ],
          "contour": [
           {
            "colorbar": {
             "outlinewidth": 0,
             "ticks": ""
            },
            "colorscale": [
             [
              0,
              "#0d0887"
             ],
             [
              0.1111111111111111,
              "#46039f"
             ],
             [
              0.2222222222222222,
              "#7201a8"
             ],
             [
              0.3333333333333333,
              "#9c179e"
             ],
             [
              0.4444444444444444,
              "#bd3786"
             ],
             [
              0.5555555555555556,
              "#d8576b"
             ],
             [
              0.6666666666666666,
              "#ed7953"
             ],
             [
              0.7777777777777778,
              "#fb9f3a"
             ],
             [
              0.8888888888888888,
              "#fdca26"
             ],
             [
              1,
              "#f0f921"
             ]
            ],
            "type": "contour"
           }
          ],
          "contourcarpet": [
           {
            "colorbar": {
             "outlinewidth": 0,
             "ticks": ""
            },
            "type": "contourcarpet"
           }
          ],
          "heatmap": [
           {
            "colorbar": {
             "outlinewidth": 0,
             "ticks": ""
            },
            "colorscale": [
             [
              0,
              "#0d0887"
             ],
             [
              0.1111111111111111,
              "#46039f"
             ],
             [
              0.2222222222222222,
              "#7201a8"
             ],
             [
              0.3333333333333333,
              "#9c179e"
             ],
             [
              0.4444444444444444,
              "#bd3786"
             ],
             [
              0.5555555555555556,
              "#d8576b"
             ],
             [
              0.6666666666666666,
              "#ed7953"
             ],
             [
              0.7777777777777778,
              "#fb9f3a"
             ],
             [
              0.8888888888888888,
              "#fdca26"
             ],
             [
              1,
              "#f0f921"
             ]
            ],
            "type": "heatmap"
           }
          ],
          "heatmapgl": [
           {
            "colorbar": {
             "outlinewidth": 0,
             "ticks": ""
            },
            "colorscale": [
             [
              0,
              "#0d0887"
             ],
             [
              0.1111111111111111,
              "#46039f"
             ],
             [
              0.2222222222222222,
              "#7201a8"
             ],
             [
              0.3333333333333333,
              "#9c179e"
             ],
             [
              0.4444444444444444,
              "#bd3786"
             ],
             [
              0.5555555555555556,
              "#d8576b"
             ],
             [
              0.6666666666666666,
              "#ed7953"
             ],
             [
              0.7777777777777778,
              "#fb9f3a"
             ],
             [
              0.8888888888888888,
              "#fdca26"
             ],
             [
              1,
              "#f0f921"
             ]
            ],
            "type": "heatmapgl"
           }
          ],
          "histogram": [
           {
            "marker": {
             "pattern": {
              "fillmode": "overlay",
              "size": 10,
              "solidity": 0.2
             }
            },
            "type": "histogram"
           }
          ],
          "histogram2d": [
           {
            "colorbar": {
             "outlinewidth": 0,
             "ticks": ""
            },
            "colorscale": [
             [
              0,
              "#0d0887"
             ],
             [
              0.1111111111111111,
              "#46039f"
             ],
             [
              0.2222222222222222,
              "#7201a8"
             ],
             [
              0.3333333333333333,
              "#9c179e"
             ],
             [
              0.4444444444444444,
              "#bd3786"
             ],
             [
              0.5555555555555556,
              "#d8576b"
             ],
             [
              0.6666666666666666,
              "#ed7953"
             ],
             [
              0.7777777777777778,
              "#fb9f3a"
             ],
             [
              0.8888888888888888,
              "#fdca26"
             ],
             [
              1,
              "#f0f921"
             ]
            ],
            "type": "histogram2d"
           }
          ],
          "histogram2dcontour": [
           {
            "colorbar": {
             "outlinewidth": 0,
             "ticks": ""
            },
            "colorscale": [
             [
              0,
              "#0d0887"
             ],
             [
              0.1111111111111111,
              "#46039f"
             ],
             [
              0.2222222222222222,
              "#7201a8"
             ],
             [
              0.3333333333333333,
              "#9c179e"
             ],
             [
              0.4444444444444444,
              "#bd3786"
             ],
             [
              0.5555555555555556,
              "#d8576b"
             ],
             [
              0.6666666666666666,
              "#ed7953"
             ],
             [
              0.7777777777777778,
              "#fb9f3a"
             ],
             [
              0.8888888888888888,
              "#fdca26"
             ],
             [
              1,
              "#f0f921"
             ]
            ],
            "type": "histogram2dcontour"
           }
          ],
          "mesh3d": [
           {
            "colorbar": {
             "outlinewidth": 0,
             "ticks": ""
            },
            "type": "mesh3d"
           }
          ],
          "parcoords": [
           {
            "line": {
             "colorbar": {
              "outlinewidth": 0,
              "ticks": ""
             }
            },
            "type": "parcoords"
           }
          ],
          "pie": [
           {
            "automargin": true,
            "type": "pie"
           }
          ],
          "scatter": [
           {
            "fillpattern": {
             "fillmode": "overlay",
             "size": 10,
             "solidity": 0.2
            },
            "type": "scatter"
           }
          ],
          "scatter3d": [
           {
            "line": {
             "colorbar": {
              "outlinewidth": 0,
              "ticks": ""
             }
            },
            "marker": {
             "colorbar": {
              "outlinewidth": 0,
              "ticks": ""
             }
            },
            "type": "scatter3d"
           }
          ],
          "scattercarpet": [
           {
            "marker": {
             "colorbar": {
              "outlinewidth": 0,
              "ticks": ""
             }
            },
            "type": "scattercarpet"
           }
          ],
          "scattergeo": [
           {
            "marker": {
             "colorbar": {
              "outlinewidth": 0,
              "ticks": ""
             }
            },
            "type": "scattergeo"
           }
          ],
          "scattergl": [
           {
            "marker": {
             "colorbar": {
              "outlinewidth": 0,
              "ticks": ""
             }
            },
            "type": "scattergl"
           }
          ],
          "scattermapbox": [
           {
            "marker": {
             "colorbar": {
              "outlinewidth": 0,
              "ticks": ""
             }
            },
            "type": "scattermapbox"
           }
          ],
          "scatterpolar": [
           {
            "marker": {
             "colorbar": {
              "outlinewidth": 0,
              "ticks": ""
             }
            },
            "type": "scatterpolar"
           }
          ],
          "scatterpolargl": [
           {
            "marker": {
             "colorbar": {
              "outlinewidth": 0,
              "ticks": ""
             }
            },
            "type": "scatterpolargl"
           }
          ],
          "scatterternary": [
           {
            "marker": {
             "colorbar": {
              "outlinewidth": 0,
              "ticks": ""
             }
            },
            "type": "scatterternary"
           }
          ],
          "surface": [
           {
            "colorbar": {
             "outlinewidth": 0,
             "ticks": ""
            },
            "colorscale": [
             [
              0,
              "#0d0887"
             ],
             [
              0.1111111111111111,
              "#46039f"
             ],
             [
              0.2222222222222222,
              "#7201a8"
             ],
             [
              0.3333333333333333,
              "#9c179e"
             ],
             [
              0.4444444444444444,
              "#bd3786"
             ],
             [
              0.5555555555555556,
              "#d8576b"
             ],
             [
              0.6666666666666666,
              "#ed7953"
             ],
             [
              0.7777777777777778,
              "#fb9f3a"
             ],
             [
              0.8888888888888888,
              "#fdca26"
             ],
             [
              1,
              "#f0f921"
             ]
            ],
            "type": "surface"
           }
          ],
          "table": [
           {
            "cells": {
             "fill": {
              "color": "#EBF0F8"
             },
             "line": {
              "color": "white"
             }
            },
            "header": {
             "fill": {
              "color": "#C8D4E3"
             },
             "line": {
              "color": "white"
             }
            },
            "type": "table"
           }
          ]
         },
         "layout": {
          "annotationdefaults": {
           "arrowcolor": "#2a3f5f",
           "arrowhead": 0,
           "arrowwidth": 1
          },
          "autotypenumbers": "strict",
          "coloraxis": {
           "colorbar": {
            "outlinewidth": 0,
            "ticks": ""
           }
          },
          "colorscale": {
           "diverging": [
            [
             0,
             "#8e0152"
            ],
            [
             0.1,
             "#c51b7d"
            ],
            [
             0.2,
             "#de77ae"
            ],
            [
             0.3,
             "#f1b6da"
            ],
            [
             0.4,
             "#fde0ef"
            ],
            [
             0.5,
             "#f7f7f7"
            ],
            [
             0.6,
             "#e6f5d0"
            ],
            [
             0.7,
             "#b8e186"
            ],
            [
             0.8,
             "#7fbc41"
            ],
            [
             0.9,
             "#4d9221"
            ],
            [
             1,
             "#276419"
            ]
           ],
           "sequential": [
            [
             0,
             "#0d0887"
            ],
            [
             0.1111111111111111,
             "#46039f"
            ],
            [
             0.2222222222222222,
             "#7201a8"
            ],
            [
             0.3333333333333333,
             "#9c179e"
            ],
            [
             0.4444444444444444,
             "#bd3786"
            ],
            [
             0.5555555555555556,
             "#d8576b"
            ],
            [
             0.6666666666666666,
             "#ed7953"
            ],
            [
             0.7777777777777778,
             "#fb9f3a"
            ],
            [
             0.8888888888888888,
             "#fdca26"
            ],
            [
             1,
             "#f0f921"
            ]
           ],
           "sequentialminus": [
            [
             0,
             "#0d0887"
            ],
            [
             0.1111111111111111,
             "#46039f"
            ],
            [
             0.2222222222222222,
             "#7201a8"
            ],
            [
             0.3333333333333333,
             "#9c179e"
            ],
            [
             0.4444444444444444,
             "#bd3786"
            ],
            [
             0.5555555555555556,
             "#d8576b"
            ],
            [
             0.6666666666666666,
             "#ed7953"
            ],
            [
             0.7777777777777778,
             "#fb9f3a"
            ],
            [
             0.8888888888888888,
             "#fdca26"
            ],
            [
             1,
             "#f0f921"
            ]
           ]
          },
          "colorway": [
           "#636efa",
           "#EF553B",
           "#00cc96",
           "#ab63fa",
           "#FFA15A",
           "#19d3f3",
           "#FF6692",
           "#B6E880",
           "#FF97FF",
           "#FECB52"
          ],
          "font": {
           "color": "#2a3f5f"
          },
          "geo": {
           "bgcolor": "white",
           "lakecolor": "white",
           "landcolor": "#E5ECF6",
           "showlakes": true,
           "showland": true,
           "subunitcolor": "white"
          },
          "hoverlabel": {
           "align": "left"
          },
          "hovermode": "closest",
          "mapbox": {
           "style": "light"
          },
          "paper_bgcolor": "white",
          "plot_bgcolor": "#E5ECF6",
          "polar": {
           "angularaxis": {
            "gridcolor": "white",
            "linecolor": "white",
            "ticks": ""
           },
           "bgcolor": "#E5ECF6",
           "radialaxis": {
            "gridcolor": "white",
            "linecolor": "white",
            "ticks": ""
           }
          },
          "scene": {
           "xaxis": {
            "backgroundcolor": "#E5ECF6",
            "gridcolor": "white",
            "gridwidth": 2,
            "linecolor": "white",
            "showbackground": true,
            "ticks": "",
            "zerolinecolor": "white"
           },
           "yaxis": {
            "backgroundcolor": "#E5ECF6",
            "gridcolor": "white",
            "gridwidth": 2,
            "linecolor": "white",
            "showbackground": true,
            "ticks": "",
            "zerolinecolor": "white"
           },
           "zaxis": {
            "backgroundcolor": "#E5ECF6",
            "gridcolor": "white",
            "gridwidth": 2,
            "linecolor": "white",
            "showbackground": true,
            "ticks": "",
            "zerolinecolor": "white"
           }
          },
          "shapedefaults": {
           "line": {
            "color": "#2a3f5f"
           }
          },
          "ternary": {
           "aaxis": {
            "gridcolor": "white",
            "linecolor": "white",
            "ticks": ""
           },
           "baxis": {
            "gridcolor": "white",
            "linecolor": "white",
            "ticks": ""
           },
           "bgcolor": "#E5ECF6",
           "caxis": {
            "gridcolor": "white",
            "linecolor": "white",
            "ticks": ""
           }
          },
          "title": {
           "x": 0.05
          },
          "xaxis": {
           "automargin": true,
           "gridcolor": "white",
           "linecolor": "white",
           "ticks": "",
           "title": {
            "standoff": 15
           },
           "zerolinecolor": "white",
           "zerolinewidth": 2
          },
          "yaxis": {
           "automargin": true,
           "gridcolor": "white",
           "linecolor": "white",
           "ticks": "",
           "title": {
            "standoff": 15
           },
           "zerolinecolor": "white",
           "zerolinewidth": 2
          }
         }
        },
        "title": {
         "text": "train"
        },
        "width": 500
       }
      }
     },
     "metadata": {},
     "output_type": "display_data"
    },
    {
     "data": {
      "application/vnd.plotly.v1+json": {
       "config": {
        "plotlyServerURL": "https://plot.ly"
       },
       "data": [
        {
         "type": "surface",
         "z": [
          [
           1.0269978046417236,
           0.9248624444007874,
           0.8276904821395874,
           0.734738826751709,
           0.6476495862007141,
           0.5685693025588989,
           0.49879100918769836,
           0.43793371319770813,
           0.38493698835372925,
           0.3405347168445587
          ],
          [
           0.8962838053703308,
           0.7934005856513977,
           0.6944602131843567,
           0.6014377474784851,
           0.5162674784660339,
           0.4405730962753296,
           0.3739614486694336,
           0.31585514545440674,
           0.2679954469203949,
           0.23044821619987488
          ],
          [
           0.5745663642883301,
           0.48353278636932373,
           0.4017685651779175,
           0.32920172810554504,
           0.2659725546836853,
           0.2146379053592682,
           0.17581312358379364,
           0.1482114940881729,
           0.12971840798854828,
           0.11886724084615707
          ],
          [
           0.46987184882164,
           0.38255348801612854,
           0.30507782101631165,
           0.23743899166584015,
           0.18208882212638855,
           0.14113567769527435,
           0.1132463663816452,
           0.09597336500883102,
           0.08636412769556046,
           0.08248855173587799
          ],
          [
           0.22894743084907532,
           0.16868066787719727,
           0.12433594465255737,
           0.09604272246360779,
           0.07959453761577606,
           0.070985347032547,
           0.06763727217912674,
           0.06849995255470276,
           0.07312113046646118,
           0.08131122589111328
          ],
          [
           0.17347374558448792,
           0.12378765642642975,
           0.09263597428798676,
           0.07512502372264862,
           0.06638704240322113,
           0.06301839649677277,
           0.0639309510588646,
           0.06896311044692993,
           0.07785293459892273,
           0.09048917144536972
          ],
          [
           0.08016608655452728,
           0.06980014592409134,
           0.06604094058275223,
           0.06710357964038849,
           0.07249685376882553,
           0.08167862892150879,
           0.0955057218670845,
           0.11419299989938736,
           0.13808482885360718,
           0.16897685825824738
          ],
          [
           0.08112268894910812,
           0.07563275843858719,
           0.07595252990722656,
           0.08152786642313004,
           0.09234011173248291,
           0.10809767991304398,
           0.1298241913318634,
           0.1592826247215271,
           0.19830381870269775,
           0.24824433028697968
          ],
          [
           0.09690099954605103,
           0.1095694974064827,
           0.12870623171329498,
           0.15485037863254547,
           0.19035260379314423,
           0.23799139261245728,
           0.2995574176311493,
           0.3762507140636444,
           0.4721544086933136,
           0.589140772819519
          ],
          [
           0.13310103118419647,
           0.15627232193946838,
           0.18899768590927124,
           0.23291723430156708,
           0.2900362014770508,
           0.3622951805591583,
           0.45347943902015686,
           0.5652161240577698,
           0.6988816857337952,
           0.8597736358642578
          ]
         ]
        }
       ],
       "layout": {
        "autosize": false,
        "height": 500,
        "margin": {
         "b": 65,
         "l": 65,
         "r": 50,
         "t": 90
        },
        "template": {
         "data": {
          "bar": [
           {
            "error_x": {
             "color": "#2a3f5f"
            },
            "error_y": {
             "color": "#2a3f5f"
            },
            "marker": {
             "line": {
              "color": "#E5ECF6",
              "width": 0.5
             },
             "pattern": {
              "fillmode": "overlay",
              "size": 10,
              "solidity": 0.2
             }
            },
            "type": "bar"
           }
          ],
          "barpolar": [
           {
            "marker": {
             "line": {
              "color": "#E5ECF6",
              "width": 0.5
             },
             "pattern": {
              "fillmode": "overlay",
              "size": 10,
              "solidity": 0.2
             }
            },
            "type": "barpolar"
           }
          ],
          "carpet": [
           {
            "aaxis": {
             "endlinecolor": "#2a3f5f",
             "gridcolor": "white",
             "linecolor": "white",
             "minorgridcolor": "white",
             "startlinecolor": "#2a3f5f"
            },
            "baxis": {
             "endlinecolor": "#2a3f5f",
             "gridcolor": "white",
             "linecolor": "white",
             "minorgridcolor": "white",
             "startlinecolor": "#2a3f5f"
            },
            "type": "carpet"
           }
          ],
          "choropleth": [
           {
            "colorbar": {
             "outlinewidth": 0,
             "ticks": ""
            },
            "type": "choropleth"
           }
          ],
          "contour": [
           {
            "colorbar": {
             "outlinewidth": 0,
             "ticks": ""
            },
            "colorscale": [
             [
              0,
              "#0d0887"
             ],
             [
              0.1111111111111111,
              "#46039f"
             ],
             [
              0.2222222222222222,
              "#7201a8"
             ],
             [
              0.3333333333333333,
              "#9c179e"
             ],
             [
              0.4444444444444444,
              "#bd3786"
             ],
             [
              0.5555555555555556,
              "#d8576b"
             ],
             [
              0.6666666666666666,
              "#ed7953"
             ],
             [
              0.7777777777777778,
              "#fb9f3a"
             ],
             [
              0.8888888888888888,
              "#fdca26"
             ],
             [
              1,
              "#f0f921"
             ]
            ],
            "type": "contour"
           }
          ],
          "contourcarpet": [
           {
            "colorbar": {
             "outlinewidth": 0,
             "ticks": ""
            },
            "type": "contourcarpet"
           }
          ],
          "heatmap": [
           {
            "colorbar": {
             "outlinewidth": 0,
             "ticks": ""
            },
            "colorscale": [
             [
              0,
              "#0d0887"
             ],
             [
              0.1111111111111111,
              "#46039f"
             ],
             [
              0.2222222222222222,
              "#7201a8"
             ],
             [
              0.3333333333333333,
              "#9c179e"
             ],
             [
              0.4444444444444444,
              "#bd3786"
             ],
             [
              0.5555555555555556,
              "#d8576b"
             ],
             [
              0.6666666666666666,
              "#ed7953"
             ],
             [
              0.7777777777777778,
              "#fb9f3a"
             ],
             [
              0.8888888888888888,
              "#fdca26"
             ],
             [
              1,
              "#f0f921"
             ]
            ],
            "type": "heatmap"
           }
          ],
          "heatmapgl": [
           {
            "colorbar": {
             "outlinewidth": 0,
             "ticks": ""
            },
            "colorscale": [
             [
              0,
              "#0d0887"
             ],
             [
              0.1111111111111111,
              "#46039f"
             ],
             [
              0.2222222222222222,
              "#7201a8"
             ],
             [
              0.3333333333333333,
              "#9c179e"
             ],
             [
              0.4444444444444444,
              "#bd3786"
             ],
             [
              0.5555555555555556,
              "#d8576b"
             ],
             [
              0.6666666666666666,
              "#ed7953"
             ],
             [
              0.7777777777777778,
              "#fb9f3a"
             ],
             [
              0.8888888888888888,
              "#fdca26"
             ],
             [
              1,
              "#f0f921"
             ]
            ],
            "type": "heatmapgl"
           }
          ],
          "histogram": [
           {
            "marker": {
             "pattern": {
              "fillmode": "overlay",
              "size": 10,
              "solidity": 0.2
             }
            },
            "type": "histogram"
           }
          ],
          "histogram2d": [
           {
            "colorbar": {
             "outlinewidth": 0,
             "ticks": ""
            },
            "colorscale": [
             [
              0,
              "#0d0887"
             ],
             [
              0.1111111111111111,
              "#46039f"
             ],
             [
              0.2222222222222222,
              "#7201a8"
             ],
             [
              0.3333333333333333,
              "#9c179e"
             ],
             [
              0.4444444444444444,
              "#bd3786"
             ],
             [
              0.5555555555555556,
              "#d8576b"
             ],
             [
              0.6666666666666666,
              "#ed7953"
             ],
             [
              0.7777777777777778,
              "#fb9f3a"
             ],
             [
              0.8888888888888888,
              "#fdca26"
             ],
             [
              1,
              "#f0f921"
             ]
            ],
            "type": "histogram2d"
           }
          ],
          "histogram2dcontour": [
           {
            "colorbar": {
             "outlinewidth": 0,
             "ticks": ""
            },
            "colorscale": [
             [
              0,
              "#0d0887"
             ],
             [
              0.1111111111111111,
              "#46039f"
             ],
             [
              0.2222222222222222,
              "#7201a8"
             ],
             [
              0.3333333333333333,
              "#9c179e"
             ],
             [
              0.4444444444444444,
              "#bd3786"
             ],
             [
              0.5555555555555556,
              "#d8576b"
             ],
             [
              0.6666666666666666,
              "#ed7953"
             ],
             [
              0.7777777777777778,
              "#fb9f3a"
             ],
             [
              0.8888888888888888,
              "#fdca26"
             ],
             [
              1,
              "#f0f921"
             ]
            ],
            "type": "histogram2dcontour"
           }
          ],
          "mesh3d": [
           {
            "colorbar": {
             "outlinewidth": 0,
             "ticks": ""
            },
            "type": "mesh3d"
           }
          ],
          "parcoords": [
           {
            "line": {
             "colorbar": {
              "outlinewidth": 0,
              "ticks": ""
             }
            },
            "type": "parcoords"
           }
          ],
          "pie": [
           {
            "automargin": true,
            "type": "pie"
           }
          ],
          "scatter": [
           {
            "fillpattern": {
             "fillmode": "overlay",
             "size": 10,
             "solidity": 0.2
            },
            "type": "scatter"
           }
          ],
          "scatter3d": [
           {
            "line": {
             "colorbar": {
              "outlinewidth": 0,
              "ticks": ""
             }
            },
            "marker": {
             "colorbar": {
              "outlinewidth": 0,
              "ticks": ""
             }
            },
            "type": "scatter3d"
           }
          ],
          "scattercarpet": [
           {
            "marker": {
             "colorbar": {
              "outlinewidth": 0,
              "ticks": ""
             }
            },
            "type": "scattercarpet"
           }
          ],
          "scattergeo": [
           {
            "marker": {
             "colorbar": {
              "outlinewidth": 0,
              "ticks": ""
             }
            },
            "type": "scattergeo"
           }
          ],
          "scattergl": [
           {
            "marker": {
             "colorbar": {
              "outlinewidth": 0,
              "ticks": ""
             }
            },
            "type": "scattergl"
           }
          ],
          "scattermapbox": [
           {
            "marker": {
             "colorbar": {
              "outlinewidth": 0,
              "ticks": ""
             }
            },
            "type": "scattermapbox"
           }
          ],
          "scatterpolar": [
           {
            "marker": {
             "colorbar": {
              "outlinewidth": 0,
              "ticks": ""
             }
            },
            "type": "scatterpolar"
           }
          ],
          "scatterpolargl": [
           {
            "marker": {
             "colorbar": {
              "outlinewidth": 0,
              "ticks": ""
             }
            },
            "type": "scatterpolargl"
           }
          ],
          "scatterternary": [
           {
            "marker": {
             "colorbar": {
              "outlinewidth": 0,
              "ticks": ""
             }
            },
            "type": "scatterternary"
           }
          ],
          "surface": [
           {
            "colorbar": {
             "outlinewidth": 0,
             "ticks": ""
            },
            "colorscale": [
             [
              0,
              "#0d0887"
             ],
             [
              0.1111111111111111,
              "#46039f"
             ],
             [
              0.2222222222222222,
              "#7201a8"
             ],
             [
              0.3333333333333333,
              "#9c179e"
             ],
             [
              0.4444444444444444,
              "#bd3786"
             ],
             [
              0.5555555555555556,
              "#d8576b"
             ],
             [
              0.6666666666666666,
              "#ed7953"
             ],
             [
              0.7777777777777778,
              "#fb9f3a"
             ],
             [
              0.8888888888888888,
              "#fdca26"
             ],
             [
              1,
              "#f0f921"
             ]
            ],
            "type": "surface"
           }
          ],
          "table": [
           {
            "cells": {
             "fill": {
              "color": "#EBF0F8"
             },
             "line": {
              "color": "white"
             }
            },
            "header": {
             "fill": {
              "color": "#C8D4E3"
             },
             "line": {
              "color": "white"
             }
            },
            "type": "table"
           }
          ]
         },
         "layout": {
          "annotationdefaults": {
           "arrowcolor": "#2a3f5f",
           "arrowhead": 0,
           "arrowwidth": 1
          },
          "autotypenumbers": "strict",
          "coloraxis": {
           "colorbar": {
            "outlinewidth": 0,
            "ticks": ""
           }
          },
          "colorscale": {
           "diverging": [
            [
             0,
             "#8e0152"
            ],
            [
             0.1,
             "#c51b7d"
            ],
            [
             0.2,
             "#de77ae"
            ],
            [
             0.3,
             "#f1b6da"
            ],
            [
             0.4,
             "#fde0ef"
            ],
            [
             0.5,
             "#f7f7f7"
            ],
            [
             0.6,
             "#e6f5d0"
            ],
            [
             0.7,
             "#b8e186"
            ],
            [
             0.8,
             "#7fbc41"
            ],
            [
             0.9,
             "#4d9221"
            ],
            [
             1,
             "#276419"
            ]
           ],
           "sequential": [
            [
             0,
             "#0d0887"
            ],
            [
             0.1111111111111111,
             "#46039f"
            ],
            [
             0.2222222222222222,
             "#7201a8"
            ],
            [
             0.3333333333333333,
             "#9c179e"
            ],
            [
             0.4444444444444444,
             "#bd3786"
            ],
            [
             0.5555555555555556,
             "#d8576b"
            ],
            [
             0.6666666666666666,
             "#ed7953"
            ],
            [
             0.7777777777777778,
             "#fb9f3a"
            ],
            [
             0.8888888888888888,
             "#fdca26"
            ],
            [
             1,
             "#f0f921"
            ]
           ],
           "sequentialminus": [
            [
             0,
             "#0d0887"
            ],
            [
             0.1111111111111111,
             "#46039f"
            ],
            [
             0.2222222222222222,
             "#7201a8"
            ],
            [
             0.3333333333333333,
             "#9c179e"
            ],
            [
             0.4444444444444444,
             "#bd3786"
            ],
            [
             0.5555555555555556,
             "#d8576b"
            ],
            [
             0.6666666666666666,
             "#ed7953"
            ],
            [
             0.7777777777777778,
             "#fb9f3a"
            ],
            [
             0.8888888888888888,
             "#fdca26"
            ],
            [
             1,
             "#f0f921"
            ]
           ]
          },
          "colorway": [
           "#636efa",
           "#EF553B",
           "#00cc96",
           "#ab63fa",
           "#FFA15A",
           "#19d3f3",
           "#FF6692",
           "#B6E880",
           "#FF97FF",
           "#FECB52"
          ],
          "font": {
           "color": "#2a3f5f"
          },
          "geo": {
           "bgcolor": "white",
           "lakecolor": "white",
           "landcolor": "#E5ECF6",
           "showlakes": true,
           "showland": true,
           "subunitcolor": "white"
          },
          "hoverlabel": {
           "align": "left"
          },
          "hovermode": "closest",
          "mapbox": {
           "style": "light"
          },
          "paper_bgcolor": "white",
          "plot_bgcolor": "#E5ECF6",
          "polar": {
           "angularaxis": {
            "gridcolor": "white",
            "linecolor": "white",
            "ticks": ""
           },
           "bgcolor": "#E5ECF6",
           "radialaxis": {
            "gridcolor": "white",
            "linecolor": "white",
            "ticks": ""
           }
          },
          "scene": {
           "xaxis": {
            "backgroundcolor": "#E5ECF6",
            "gridcolor": "white",
            "gridwidth": 2,
            "linecolor": "white",
            "showbackground": true,
            "ticks": "",
            "zerolinecolor": "white"
           },
           "yaxis": {
            "backgroundcolor": "#E5ECF6",
            "gridcolor": "white",
            "gridwidth": 2,
            "linecolor": "white",
            "showbackground": true,
            "ticks": "",
            "zerolinecolor": "white"
           },
           "zaxis": {
            "backgroundcolor": "#E5ECF6",
            "gridcolor": "white",
            "gridwidth": 2,
            "linecolor": "white",
            "showbackground": true,
            "ticks": "",
            "zerolinecolor": "white"
           }
          },
          "shapedefaults": {
           "line": {
            "color": "#2a3f5f"
           }
          },
          "ternary": {
           "aaxis": {
            "gridcolor": "white",
            "linecolor": "white",
            "ticks": ""
           },
           "baxis": {
            "gridcolor": "white",
            "linecolor": "white",
            "ticks": ""
           },
           "bgcolor": "#E5ECF6",
           "caxis": {
            "gridcolor": "white",
            "linecolor": "white",
            "ticks": ""
           }
          },
          "title": {
           "x": 0.05
          },
          "xaxis": {
           "automargin": true,
           "gridcolor": "white",
           "linecolor": "white",
           "ticks": "",
           "title": {
            "standoff": 15
           },
           "zerolinecolor": "white",
           "zerolinewidth": 2
          },
          "yaxis": {
           "automargin": true,
           "gridcolor": "white",
           "linecolor": "white",
           "ticks": "",
           "title": {
            "standoff": 15
           },
           "zerolinecolor": "white",
           "zerolinewidth": 2
          }
         }
        },
        "title": {
         "text": "val"
        },
        "width": 500
       }
      }
     },
     "metadata": {},
     "output_type": "display_data"
    },
    {
     "data": {
      "application/vnd.plotly.v1+json": {
       "config": {
        "plotlyServerURL": "https://plot.ly"
       },
       "data": [
        {
         "type": "surface",
         "z": [
          [
           1.0269978046417236,
           0.9248624444007874,
           0.8276904821395874,
           0.734738826751709,
           0.6476495862007141,
           0.5685693025588989,
           0.49879100918769836,
           0.43793371319770813,
           0.38493698835372925,
           0.3405347168445587
          ],
          [
           0.8962838053703308,
           0.7934005856513977,
           0.6944602131843567,
           0.6014377474784851,
           0.5162674784660339,
           0.4405730962753296,
           0.3739614486694336,
           0.31585514545440674,
           0.2679954469203949,
           0.23044821619987488
          ],
          [
           0.5745663642883301,
           0.48353278636932373,
           0.4017685651779175,
           0.32920172810554504,
           0.2659725546836853,
           0.2146379053592682,
           0.17581312358379364,
           0.1482114940881729,
           0.12971840798854828,
           0.11886724084615707
          ],
          [
           0.46987184882164,
           0.38255348801612854,
           0.30507782101631165,
           0.23743899166584015,
           0.18208882212638855,
           0.14113567769527435,
           0.1132463663816452,
           0.09597336500883102,
           0.08636412769556046,
           0.08248855173587799
          ],
          [
           0.22894743084907532,
           0.16868066787719727,
           0.12433594465255737,
           0.09604272246360779,
           0.07959453761577606,
           0.070985347032547,
           0.06763727217912674,
           0.06849995255470276,
           0.07312113046646118,
           0.08131122589111328
          ],
          [
           0.17347374558448792,
           0.12378765642642975,
           0.09263597428798676,
           0.07512502372264862,
           0.06638704240322113,
           0.06301839649677277,
           0.0639309510588646,
           0.06896311044692993,
           0.07785293459892273,
           0.09048917144536972
          ],
          [
           0.08016608655452728,
           0.06980014592409134,
           0.06604094058275223,
           0.06710357964038849,
           0.07249685376882553,
           0.08167862892150879,
           0.0955057218670845,
           0.11419299989938736,
           0.13808482885360718,
           0.16897685825824738
          ],
          [
           0.08112268894910812,
           0.07563275843858719,
           0.07595252990722656,
           0.08152786642313004,
           0.09234011173248291,
           0.10809767991304398,
           0.1298241913318634,
           0.1592826247215271,
           0.19830381870269775,
           0.24824433028697968
          ],
          [
           0.09690099954605103,
           0.1095694974064827,
           0.12870623171329498,
           0.15485037863254547,
           0.19035260379314423,
           0.23799139261245728,
           0.2995574176311493,
           0.3762507140636444,
           0.4721544086933136,
           0.589140772819519
          ],
          [
           0.13310103118419647,
           0.15627232193946838,
           0.18899768590927124,
           0.23291723430156708,
           0.2900362014770508,
           0.3622951805591583,
           0.45347943902015686,
           0.5652161240577698,
           0.6988816857337952,
           0.8597736358642578
          ]
         ]
        }
       ],
       "layout": {
        "autosize": false,
        "height": 500,
        "margin": {
         "b": 65,
         "l": 65,
         "r": 50,
         "t": 90
        },
        "template": {
         "data": {
          "bar": [
           {
            "error_x": {
             "color": "#2a3f5f"
            },
            "error_y": {
             "color": "#2a3f5f"
            },
            "marker": {
             "line": {
              "color": "#E5ECF6",
              "width": 0.5
             },
             "pattern": {
              "fillmode": "overlay",
              "size": 10,
              "solidity": 0.2
             }
            },
            "type": "bar"
           }
          ],
          "barpolar": [
           {
            "marker": {
             "line": {
              "color": "#E5ECF6",
              "width": 0.5
             },
             "pattern": {
              "fillmode": "overlay",
              "size": 10,
              "solidity": 0.2
             }
            },
            "type": "barpolar"
           }
          ],
          "carpet": [
           {
            "aaxis": {
             "endlinecolor": "#2a3f5f",
             "gridcolor": "white",
             "linecolor": "white",
             "minorgridcolor": "white",
             "startlinecolor": "#2a3f5f"
            },
            "baxis": {
             "endlinecolor": "#2a3f5f",
             "gridcolor": "white",
             "linecolor": "white",
             "minorgridcolor": "white",
             "startlinecolor": "#2a3f5f"
            },
            "type": "carpet"
           }
          ],
          "choropleth": [
           {
            "colorbar": {
             "outlinewidth": 0,
             "ticks": ""
            },
            "type": "choropleth"
           }
          ],
          "contour": [
           {
            "colorbar": {
             "outlinewidth": 0,
             "ticks": ""
            },
            "colorscale": [
             [
              0,
              "#0d0887"
             ],
             [
              0.1111111111111111,
              "#46039f"
             ],
             [
              0.2222222222222222,
              "#7201a8"
             ],
             [
              0.3333333333333333,
              "#9c179e"
             ],
             [
              0.4444444444444444,
              "#bd3786"
             ],
             [
              0.5555555555555556,
              "#d8576b"
             ],
             [
              0.6666666666666666,
              "#ed7953"
             ],
             [
              0.7777777777777778,
              "#fb9f3a"
             ],
             [
              0.8888888888888888,
              "#fdca26"
             ],
             [
              1,
              "#f0f921"
             ]
            ],
            "type": "contour"
           }
          ],
          "contourcarpet": [
           {
            "colorbar": {
             "outlinewidth": 0,
             "ticks": ""
            },
            "type": "contourcarpet"
           }
          ],
          "heatmap": [
           {
            "colorbar": {
             "outlinewidth": 0,
             "ticks": ""
            },
            "colorscale": [
             [
              0,
              "#0d0887"
             ],
             [
              0.1111111111111111,
              "#46039f"
             ],
             [
              0.2222222222222222,
              "#7201a8"
             ],
             [
              0.3333333333333333,
              "#9c179e"
             ],
             [
              0.4444444444444444,
              "#bd3786"
             ],
             [
              0.5555555555555556,
              "#d8576b"
             ],
             [
              0.6666666666666666,
              "#ed7953"
             ],
             [
              0.7777777777777778,
              "#fb9f3a"
             ],
             [
              0.8888888888888888,
              "#fdca26"
             ],
             [
              1,
              "#f0f921"
             ]
            ],
            "type": "heatmap"
           }
          ],
          "heatmapgl": [
           {
            "colorbar": {
             "outlinewidth": 0,
             "ticks": ""
            },
            "colorscale": [
             [
              0,
              "#0d0887"
             ],
             [
              0.1111111111111111,
              "#46039f"
             ],
             [
              0.2222222222222222,
              "#7201a8"
             ],
             [
              0.3333333333333333,
              "#9c179e"
             ],
             [
              0.4444444444444444,
              "#bd3786"
             ],
             [
              0.5555555555555556,
              "#d8576b"
             ],
             [
              0.6666666666666666,
              "#ed7953"
             ],
             [
              0.7777777777777778,
              "#fb9f3a"
             ],
             [
              0.8888888888888888,
              "#fdca26"
             ],
             [
              1,
              "#f0f921"
             ]
            ],
            "type": "heatmapgl"
           }
          ],
          "histogram": [
           {
            "marker": {
             "pattern": {
              "fillmode": "overlay",
              "size": 10,
              "solidity": 0.2
             }
            },
            "type": "histogram"
           }
          ],
          "histogram2d": [
           {
            "colorbar": {
             "outlinewidth": 0,
             "ticks": ""
            },
            "colorscale": [
             [
              0,
              "#0d0887"
             ],
             [
              0.1111111111111111,
              "#46039f"
             ],
             [
              0.2222222222222222,
              "#7201a8"
             ],
             [
              0.3333333333333333,
              "#9c179e"
             ],
             [
              0.4444444444444444,
              "#bd3786"
             ],
             [
              0.5555555555555556,
              "#d8576b"
             ],
             [
              0.6666666666666666,
              "#ed7953"
             ],
             [
              0.7777777777777778,
              "#fb9f3a"
             ],
             [
              0.8888888888888888,
              "#fdca26"
             ],
             [
              1,
              "#f0f921"
             ]
            ],
            "type": "histogram2d"
           }
          ],
          "histogram2dcontour": [
           {
            "colorbar": {
             "outlinewidth": 0,
             "ticks": ""
            },
            "colorscale": [
             [
              0,
              "#0d0887"
             ],
             [
              0.1111111111111111,
              "#46039f"
             ],
             [
              0.2222222222222222,
              "#7201a8"
             ],
             [
              0.3333333333333333,
              "#9c179e"
             ],
             [
              0.4444444444444444,
              "#bd3786"
             ],
             [
              0.5555555555555556,
              "#d8576b"
             ],
             [
              0.6666666666666666,
              "#ed7953"
             ],
             [
              0.7777777777777778,
              "#fb9f3a"
             ],
             [
              0.8888888888888888,
              "#fdca26"
             ],
             [
              1,
              "#f0f921"
             ]
            ],
            "type": "histogram2dcontour"
           }
          ],
          "mesh3d": [
           {
            "colorbar": {
             "outlinewidth": 0,
             "ticks": ""
            },
            "type": "mesh3d"
           }
          ],
          "parcoords": [
           {
            "line": {
             "colorbar": {
              "outlinewidth": 0,
              "ticks": ""
             }
            },
            "type": "parcoords"
           }
          ],
          "pie": [
           {
            "automargin": true,
            "type": "pie"
           }
          ],
          "scatter": [
           {
            "fillpattern": {
             "fillmode": "overlay",
             "size": 10,
             "solidity": 0.2
            },
            "type": "scatter"
           }
          ],
          "scatter3d": [
           {
            "line": {
             "colorbar": {
              "outlinewidth": 0,
              "ticks": ""
             }
            },
            "marker": {
             "colorbar": {
              "outlinewidth": 0,
              "ticks": ""
             }
            },
            "type": "scatter3d"
           }
          ],
          "scattercarpet": [
           {
            "marker": {
             "colorbar": {
              "outlinewidth": 0,
              "ticks": ""
             }
            },
            "type": "scattercarpet"
           }
          ],
          "scattergeo": [
           {
            "marker": {
             "colorbar": {
              "outlinewidth": 0,
              "ticks": ""
             }
            },
            "type": "scattergeo"
           }
          ],
          "scattergl": [
           {
            "marker": {
             "colorbar": {
              "outlinewidth": 0,
              "ticks": ""
             }
            },
            "type": "scattergl"
           }
          ],
          "scattermapbox": [
           {
            "marker": {
             "colorbar": {
              "outlinewidth": 0,
              "ticks": ""
             }
            },
            "type": "scattermapbox"
           }
          ],
          "scatterpolar": [
           {
            "marker": {
             "colorbar": {
              "outlinewidth": 0,
              "ticks": ""
             }
            },
            "type": "scatterpolar"
           }
          ],
          "scatterpolargl": [
           {
            "marker": {
             "colorbar": {
              "outlinewidth": 0,
              "ticks": ""
             }
            },
            "type": "scatterpolargl"
           }
          ],
          "scatterternary": [
           {
            "marker": {
             "colorbar": {
              "outlinewidth": 0,
              "ticks": ""
             }
            },
            "type": "scatterternary"
           }
          ],
          "surface": [
           {
            "colorbar": {
             "outlinewidth": 0,
             "ticks": ""
            },
            "colorscale": [
             [
              0,
              "#0d0887"
             ],
             [
              0.1111111111111111,
              "#46039f"
             ],
             [
              0.2222222222222222,
              "#7201a8"
             ],
             [
              0.3333333333333333,
              "#9c179e"
             ],
             [
              0.4444444444444444,
              "#bd3786"
             ],
             [
              0.5555555555555556,
              "#d8576b"
             ],
             [
              0.6666666666666666,
              "#ed7953"
             ],
             [
              0.7777777777777778,
              "#fb9f3a"
             ],
             [
              0.8888888888888888,
              "#fdca26"
             ],
             [
              1,
              "#f0f921"
             ]
            ],
            "type": "surface"
           }
          ],
          "table": [
           {
            "cells": {
             "fill": {
              "color": "#EBF0F8"
             },
             "line": {
              "color": "white"
             }
            },
            "header": {
             "fill": {
              "color": "#C8D4E3"
             },
             "line": {
              "color": "white"
             }
            },
            "type": "table"
           }
          ]
         },
         "layout": {
          "annotationdefaults": {
           "arrowcolor": "#2a3f5f",
           "arrowhead": 0,
           "arrowwidth": 1
          },
          "autotypenumbers": "strict",
          "coloraxis": {
           "colorbar": {
            "outlinewidth": 0,
            "ticks": ""
           }
          },
          "colorscale": {
           "diverging": [
            [
             0,
             "#8e0152"
            ],
            [
             0.1,
             "#c51b7d"
            ],
            [
             0.2,
             "#de77ae"
            ],
            [
             0.3,
             "#f1b6da"
            ],
            [
             0.4,
             "#fde0ef"
            ],
            [
             0.5,
             "#f7f7f7"
            ],
            [
             0.6,
             "#e6f5d0"
            ],
            [
             0.7,
             "#b8e186"
            ],
            [
             0.8,
             "#7fbc41"
            ],
            [
             0.9,
             "#4d9221"
            ],
            [
             1,
             "#276419"
            ]
           ],
           "sequential": [
            [
             0,
             "#0d0887"
            ],
            [
             0.1111111111111111,
             "#46039f"
            ],
            [
             0.2222222222222222,
             "#7201a8"
            ],
            [
             0.3333333333333333,
             "#9c179e"
            ],
            [
             0.4444444444444444,
             "#bd3786"
            ],
            [
             0.5555555555555556,
             "#d8576b"
            ],
            [
             0.6666666666666666,
             "#ed7953"
            ],
            [
             0.7777777777777778,
             "#fb9f3a"
            ],
            [
             0.8888888888888888,
             "#fdca26"
            ],
            [
             1,
             "#f0f921"
            ]
           ],
           "sequentialminus": [
            [
             0,
             "#0d0887"
            ],
            [
             0.1111111111111111,
             "#46039f"
            ],
            [
             0.2222222222222222,
             "#7201a8"
            ],
            [
             0.3333333333333333,
             "#9c179e"
            ],
            [
             0.4444444444444444,
             "#bd3786"
            ],
            [
             0.5555555555555556,
             "#d8576b"
            ],
            [
             0.6666666666666666,
             "#ed7953"
            ],
            [
             0.7777777777777778,
             "#fb9f3a"
            ],
            [
             0.8888888888888888,
             "#fdca26"
            ],
            [
             1,
             "#f0f921"
            ]
           ]
          },
          "colorway": [
           "#636efa",
           "#EF553B",
           "#00cc96",
           "#ab63fa",
           "#FFA15A",
           "#19d3f3",
           "#FF6692",
           "#B6E880",
           "#FF97FF",
           "#FECB52"
          ],
          "font": {
           "color": "#2a3f5f"
          },
          "geo": {
           "bgcolor": "white",
           "lakecolor": "white",
           "landcolor": "#E5ECF6",
           "showlakes": true,
           "showland": true,
           "subunitcolor": "white"
          },
          "hoverlabel": {
           "align": "left"
          },
          "hovermode": "closest",
          "mapbox": {
           "style": "light"
          },
          "paper_bgcolor": "white",
          "plot_bgcolor": "#E5ECF6",
          "polar": {
           "angularaxis": {
            "gridcolor": "white",
            "linecolor": "white",
            "ticks": ""
           },
           "bgcolor": "#E5ECF6",
           "radialaxis": {
            "gridcolor": "white",
            "linecolor": "white",
            "ticks": ""
           }
          },
          "scene": {
           "xaxis": {
            "backgroundcolor": "#E5ECF6",
            "gridcolor": "white",
            "gridwidth": 2,
            "linecolor": "white",
            "showbackground": true,
            "ticks": "",
            "zerolinecolor": "white"
           },
           "yaxis": {
            "backgroundcolor": "#E5ECF6",
            "gridcolor": "white",
            "gridwidth": 2,
            "linecolor": "white",
            "showbackground": true,
            "ticks": "",
            "zerolinecolor": "white"
           },
           "zaxis": {
            "backgroundcolor": "#E5ECF6",
            "gridcolor": "white",
            "gridwidth": 2,
            "linecolor": "white",
            "showbackground": true,
            "ticks": "",
            "zerolinecolor": "white"
           }
          },
          "shapedefaults": {
           "line": {
            "color": "#2a3f5f"
           }
          },
          "ternary": {
           "aaxis": {
            "gridcolor": "white",
            "linecolor": "white",
            "ticks": ""
           },
           "baxis": {
            "gridcolor": "white",
            "linecolor": "white",
            "ticks": ""
           },
           "bgcolor": "#E5ECF6",
           "caxis": {
            "gridcolor": "white",
            "linecolor": "white",
            "ticks": ""
           }
          },
          "title": {
           "x": 0.05
          },
          "xaxis": {
           "automargin": true,
           "gridcolor": "white",
           "linecolor": "white",
           "ticks": "",
           "title": {
            "standoff": 15
           },
           "zerolinecolor": "white",
           "zerolinewidth": 2
          },
          "yaxis": {
           "automargin": true,
           "gridcolor": "white",
           "linecolor": "white",
           "ticks": "",
           "title": {
            "standoff": 15
           },
           "zerolinecolor": "white",
           "zerolinewidth": 2
          }
         }
        },
        "title": {
         "text": "test"
        },
        "width": 500
       }
      }
     },
     "metadata": {},
     "output_type": "display_data"
    }
   ],
   "source": [
    "DATASET = 'gesture'\n",
    "path_to_config = '/Users/timgritsaev/Desktop/tabular/tabular-hpo/exp/mlp/' + DATASET + '/0-tuning/checkpoint.pt'\n",
    "path_to_model = '/Users/timgritsaev/Desktop/tabular/tabular-hpo/saved_models/optuna_' + DATASET + '_0.pt'\n",
    "create_all(path_to_config, path_to_model, distance=0.1)"
   ]
  },
  {
   "cell_type": "code",
   "execution_count": 3,
   "metadata": {},
   "outputs": [
    {
     "name": "stdout",
     "output_type": "stream",
     "text": [
      "----------------------------------------------------------------------------------------------------\n",
      "{'seed': 0,\n",
      " 'data': {'seed': 0,\n",
      "          'cache': True,\n",
      "          'path': ':data/diamond',\n",
      "          'num_policy': 'quantile',\n",
      "          'cat_policy': 'ordinal',\n",
      "          'y_policy': 'standard'},\n",
      " 'model': {'num_embeddings': None,\n",
      "           'backbone': {'type': 'MLP',\n",
      "                        'n_blocks': 3,\n",
      "                        'd_layer': 435,\n",
      "                        'dropout': 0.2785541541043303,\n",
      "                        'activation': 'ReLU'}},\n",
      " 'optimizer': {'type': 'AdamW', 'lr': 0.000689152147641599, 'weight_decay': 0.0},\n",
      " 'batch_size': 512,\n",
      " 'patience': 16,\n",
      " 'n_epochs': inf}\n",
      "----------------------------------------------------------------------------------------------------\n"
     ]
    },
    {
     "name": "stderr",
     "output_type": "stream",
     "text": [
      "/Users/timgritsaev/Desktop/tabular/tabular-hpo/lib/util.py:237: UserWarning: The key \"function\" will be missing in the report. Reason: '/private/var/folders/65/1vwp97n52f5bhqv1kd377bw40000gn/T/ipykernel_2797/2891418144.py' is not in the subpath of '/Users/timgritsaev/Desktop/tabular/tabular-hpo' OR one path is relative and the other is absolute.\n",
      "  warnings.warn(\n",
      "0:00:00 | Using cached features: build_dataset__diamond__quantile__ordinal__standard__0__73eb7ffa61642f295a3ae6df6c4a08ac.pickle\n"
     ]
    },
    {
     "name": "stdout",
     "output_type": "stream",
     "text": [
      "tensor([-0.5621, -0.8780, -0.7785,  1.3097, -0.0312, -0.5247,  2.2776,  0.9024,\n",
      "        -0.8872,  1.7469])\n",
      "tensor([-0.3702, -0.1541, -0.5501, -0.3787,  0.1105, -0.5659, -0.8295,  1.8532,\n",
      "        -0.2184, -0.0114])\n",
      "tensor([ 0.2027,  0.6276,  0.3979,  1.2170,  0.1424, -0.7558, -0.7883, -0.2772,\n",
      "         3.7132, -0.8591])\n",
      "dir_one 8\n",
      "dir_one tensor([[0.4963, 0.7682, 0.0885, 0.1320, 0.3074],\n",
      "        [0.9527, 0.0362, 0.1852, 0.3734, 0.3051],\n",
      "        [0.6984, 0.5675, 0.8352, 0.2056, 0.5932],\n",
      "        [0.5460, 0.1872, 0.0340, 0.9442, 0.8802],\n",
      "        [0.0237, 0.4910, 0.1235, 0.1143, 0.4725]])\n",
      "start_point tensor([[ 0.0456,  0.0140,  0.0463, -0.0101,  0.1177],\n",
      "        [-0.2230, -0.0137, -0.0114, -0.2229, -0.3695],\n",
      "        [ 0.1029, -0.0199,  0.0087, -0.0585, -0.0711],\n",
      "        [-0.0694, -0.0886,  0.1605, -0.0546, -0.2407],\n",
      "        [ 0.1032,  0.0236,  0.1340,  0.1433, -0.1868]])\n",
      "dir_one 8\n",
      "dir_one tensor([[0.4963, 0.7682, 0.0885, 0.1320, 0.3074],\n",
      "        [0.9527, 0.0362, 0.1852, 0.3734, 0.3051],\n",
      "        [0.6984, 0.5675, 0.8352, 0.2056, 0.5932],\n",
      "        [0.5460, 0.1872, 0.0340, 0.9442, 0.8802],\n",
      "        [0.0237, 0.4910, 0.1235, 0.1143, 0.4725]])\n",
      "start_point tensor([[ 0.0456,  0.0140,  0.0463, -0.0101,  0.1177],\n",
      "        [-0.2230, -0.0137, -0.0114, -0.2229, -0.3695],\n",
      "        [ 0.1029, -0.0199,  0.0087, -0.0585, -0.0711],\n",
      "        [-0.0694, -0.0886,  0.1605, -0.0546, -0.2407],\n",
      "        [ 0.1032,  0.0236,  0.1340,  0.1433, -0.1868]])\n",
      "dir_one 8\n",
      "dir_one tensor([[0.4963, 0.7682, 0.0885, 0.1320, 0.3074],\n",
      "        [0.9527, 0.0362, 0.1852, 0.3734, 0.3051],\n",
      "        [0.6984, 0.5675, 0.8352, 0.2056, 0.5932],\n",
      "        [0.5460, 0.1872, 0.0340, 0.9442, 0.8802],\n",
      "        [0.0237, 0.4910, 0.1235, 0.1143, 0.4725]])\n",
      "start_point tensor([[ 0.0456,  0.0140,  0.0463, -0.0101,  0.1177],\n",
      "        [-0.2230, -0.0137, -0.0114, -0.2229, -0.3695],\n",
      "        [ 0.1029, -0.0199,  0.0087, -0.0585, -0.0711],\n",
      "        [-0.0694, -0.0886,  0.1605, -0.0546, -0.2407],\n",
      "        [ 0.1032,  0.0236,  0.1340,  0.1433, -0.1868]])\n"
     ]
    },
    {
     "data": {
      "application/vnd.plotly.v1+json": {
       "config": {
        "plotlyServerURL": "https://plot.ly"
       },
       "data": [
        {
         "type": "surface",
         "z": [
          [
           0.33093552146658783,
           0.32073016964511003,
           0.3105582708990902,
           0.30032194664553385,
           0.2899062626509619,
           0.27922806859276644,
           0.2681921853185398,
           0.2567817282670502,
           0.24499024375398207,
           0.23294764442964133
          ],
          [
           0.3107112233711004,
           0.30033049310217264,
           0.2898210933086698,
           0.27906424164095056,
           0.2679658294607555,
           0.2564765242956222,
           0.24453845607633262,
           0.23211893807313724,
           0.21928010299521802,
           0.2062073905597866
          ],
          [
           0.26852340516047496,
           0.25694139295490076,
           0.2449633202781361,
           0.2325375213136229,
           0.2196002766839136,
           0.20617811294029018,
           0.19242793488340326,
           0.17864438678241062,
           0.165299999335904,
           0.1529456255757053
          ],
          [
           0.24653826032359905,
           0.23393065929781098,
           0.22093262176038167,
           0.2075014084027073,
           0.19363337667728167,
           0.17948625531942256,
           0.16533319796191653,
           0.1517010114850451,
           0.13934386993021486,
           0.12928130035869678
          ],
          [
           0.19649506192882177,
           0.1821269733234341,
           0.1676709784840245,
           0.15351495111720373,
           0.14020619016183616,
           0.12867063606281837,
           0.12018045836965656,
           0.1160884740844874,
           0.11738849727683068,
           0.12441793537549647
          ],
          [
           0.17289964901437319,
           0.1580894438531709,
           0.14403211908374142,
           0.13148897927938344,
           0.12157745812329639,
           0.11574138618549762,
           0.11531834856310479,
           0.12093939480295234,
           0.13224355061657248,
           0.14843485854960814
          ],
          [
           0.12678818625332391,
           0.11893895152579884,
           0.11629894674604047,
           0.11992167246052789,
           0.12984129593523494,
           0.1451804427526688,
           0.16483023371130945,
           0.18784192816320938,
           0.21338897960637684,
           0.240972447353231
          ],
          [
           0.12147272704237974,
           0.12171283640838038,
           0.12874609216759333,
           0.1421615838966111,
           0.16082959400122437,
           0.1835138776199863,
           0.20924923948835678,
           0.23738074163199308,
           0.26743152528558,
           0.29905942305414007
          ],
          [
           0.15661893442332522,
           0.17755903251307562,
           0.20260720095450271,
           0.23075816199765717,
           0.261350158652058,
           0.2938454797473347,
           0.3279435814282148,
           0.3633795779477529,
           0.40008931801887315,
           0.4380430189479692
          ],
          [
           0.19491277799611575,
           0.22146494374826786,
           0.2514252122184948,
           0.2840608433506229,
           0.31885176885268846,
           0.35540041423874363,
           0.39344388476365505,
           0.43276912871274065,
           0.4732845166239402,
           0.5149975918741312
          ]
         ]
        }
       ],
       "layout": {
        "autosize": false,
        "height": 500,
        "margin": {
         "b": 65,
         "l": 65,
         "r": 50,
         "t": 90
        },
        "template": {
         "data": {
          "bar": [
           {
            "error_x": {
             "color": "#2a3f5f"
            },
            "error_y": {
             "color": "#2a3f5f"
            },
            "marker": {
             "line": {
              "color": "#E5ECF6",
              "width": 0.5
             },
             "pattern": {
              "fillmode": "overlay",
              "size": 10,
              "solidity": 0.2
             }
            },
            "type": "bar"
           }
          ],
          "barpolar": [
           {
            "marker": {
             "line": {
              "color": "#E5ECF6",
              "width": 0.5
             },
             "pattern": {
              "fillmode": "overlay",
              "size": 10,
              "solidity": 0.2
             }
            },
            "type": "barpolar"
           }
          ],
          "carpet": [
           {
            "aaxis": {
             "endlinecolor": "#2a3f5f",
             "gridcolor": "white",
             "linecolor": "white",
             "minorgridcolor": "white",
             "startlinecolor": "#2a3f5f"
            },
            "baxis": {
             "endlinecolor": "#2a3f5f",
             "gridcolor": "white",
             "linecolor": "white",
             "minorgridcolor": "white",
             "startlinecolor": "#2a3f5f"
            },
            "type": "carpet"
           }
          ],
          "choropleth": [
           {
            "colorbar": {
             "outlinewidth": 0,
             "ticks": ""
            },
            "type": "choropleth"
           }
          ],
          "contour": [
           {
            "colorbar": {
             "outlinewidth": 0,
             "ticks": ""
            },
            "colorscale": [
             [
              0,
              "#0d0887"
             ],
             [
              0.1111111111111111,
              "#46039f"
             ],
             [
              0.2222222222222222,
              "#7201a8"
             ],
             [
              0.3333333333333333,
              "#9c179e"
             ],
             [
              0.4444444444444444,
              "#bd3786"
             ],
             [
              0.5555555555555556,
              "#d8576b"
             ],
             [
              0.6666666666666666,
              "#ed7953"
             ],
             [
              0.7777777777777778,
              "#fb9f3a"
             ],
             [
              0.8888888888888888,
              "#fdca26"
             ],
             [
              1,
              "#f0f921"
             ]
            ],
            "type": "contour"
           }
          ],
          "contourcarpet": [
           {
            "colorbar": {
             "outlinewidth": 0,
             "ticks": ""
            },
            "type": "contourcarpet"
           }
          ],
          "heatmap": [
           {
            "colorbar": {
             "outlinewidth": 0,
             "ticks": ""
            },
            "colorscale": [
             [
              0,
              "#0d0887"
             ],
             [
              0.1111111111111111,
              "#46039f"
             ],
             [
              0.2222222222222222,
              "#7201a8"
             ],
             [
              0.3333333333333333,
              "#9c179e"
             ],
             [
              0.4444444444444444,
              "#bd3786"
             ],
             [
              0.5555555555555556,
              "#d8576b"
             ],
             [
              0.6666666666666666,
              "#ed7953"
             ],
             [
              0.7777777777777778,
              "#fb9f3a"
             ],
             [
              0.8888888888888888,
              "#fdca26"
             ],
             [
              1,
              "#f0f921"
             ]
            ],
            "type": "heatmap"
           }
          ],
          "heatmapgl": [
           {
            "colorbar": {
             "outlinewidth": 0,
             "ticks": ""
            },
            "colorscale": [
             [
              0,
              "#0d0887"
             ],
             [
              0.1111111111111111,
              "#46039f"
             ],
             [
              0.2222222222222222,
              "#7201a8"
             ],
             [
              0.3333333333333333,
              "#9c179e"
             ],
             [
              0.4444444444444444,
              "#bd3786"
             ],
             [
              0.5555555555555556,
              "#d8576b"
             ],
             [
              0.6666666666666666,
              "#ed7953"
             ],
             [
              0.7777777777777778,
              "#fb9f3a"
             ],
             [
              0.8888888888888888,
              "#fdca26"
             ],
             [
              1,
              "#f0f921"
             ]
            ],
            "type": "heatmapgl"
           }
          ],
          "histogram": [
           {
            "marker": {
             "pattern": {
              "fillmode": "overlay",
              "size": 10,
              "solidity": 0.2
             }
            },
            "type": "histogram"
           }
          ],
          "histogram2d": [
           {
            "colorbar": {
             "outlinewidth": 0,
             "ticks": ""
            },
            "colorscale": [
             [
              0,
              "#0d0887"
             ],
             [
              0.1111111111111111,
              "#46039f"
             ],
             [
              0.2222222222222222,
              "#7201a8"
             ],
             [
              0.3333333333333333,
              "#9c179e"
             ],
             [
              0.4444444444444444,
              "#bd3786"
             ],
             [
              0.5555555555555556,
              "#d8576b"
             ],
             [
              0.6666666666666666,
              "#ed7953"
             ],
             [
              0.7777777777777778,
              "#fb9f3a"
             ],
             [
              0.8888888888888888,
              "#fdca26"
             ],
             [
              1,
              "#f0f921"
             ]
            ],
            "type": "histogram2d"
           }
          ],
          "histogram2dcontour": [
           {
            "colorbar": {
             "outlinewidth": 0,
             "ticks": ""
            },
            "colorscale": [
             [
              0,
              "#0d0887"
             ],
             [
              0.1111111111111111,
              "#46039f"
             ],
             [
              0.2222222222222222,
              "#7201a8"
             ],
             [
              0.3333333333333333,
              "#9c179e"
             ],
             [
              0.4444444444444444,
              "#bd3786"
             ],
             [
              0.5555555555555556,
              "#d8576b"
             ],
             [
              0.6666666666666666,
              "#ed7953"
             ],
             [
              0.7777777777777778,
              "#fb9f3a"
             ],
             [
              0.8888888888888888,
              "#fdca26"
             ],
             [
              1,
              "#f0f921"
             ]
            ],
            "type": "histogram2dcontour"
           }
          ],
          "mesh3d": [
           {
            "colorbar": {
             "outlinewidth": 0,
             "ticks": ""
            },
            "type": "mesh3d"
           }
          ],
          "parcoords": [
           {
            "line": {
             "colorbar": {
              "outlinewidth": 0,
              "ticks": ""
             }
            },
            "type": "parcoords"
           }
          ],
          "pie": [
           {
            "automargin": true,
            "type": "pie"
           }
          ],
          "scatter": [
           {
            "fillpattern": {
             "fillmode": "overlay",
             "size": 10,
             "solidity": 0.2
            },
            "type": "scatter"
           }
          ],
          "scatter3d": [
           {
            "line": {
             "colorbar": {
              "outlinewidth": 0,
              "ticks": ""
             }
            },
            "marker": {
             "colorbar": {
              "outlinewidth": 0,
              "ticks": ""
             }
            },
            "type": "scatter3d"
           }
          ],
          "scattercarpet": [
           {
            "marker": {
             "colorbar": {
              "outlinewidth": 0,
              "ticks": ""
             }
            },
            "type": "scattercarpet"
           }
          ],
          "scattergeo": [
           {
            "marker": {
             "colorbar": {
              "outlinewidth": 0,
              "ticks": ""
             }
            },
            "type": "scattergeo"
           }
          ],
          "scattergl": [
           {
            "marker": {
             "colorbar": {
              "outlinewidth": 0,
              "ticks": ""
             }
            },
            "type": "scattergl"
           }
          ],
          "scattermapbox": [
           {
            "marker": {
             "colorbar": {
              "outlinewidth": 0,
              "ticks": ""
             }
            },
            "type": "scattermapbox"
           }
          ],
          "scatterpolar": [
           {
            "marker": {
             "colorbar": {
              "outlinewidth": 0,
              "ticks": ""
             }
            },
            "type": "scatterpolar"
           }
          ],
          "scatterpolargl": [
           {
            "marker": {
             "colorbar": {
              "outlinewidth": 0,
              "ticks": ""
             }
            },
            "type": "scatterpolargl"
           }
          ],
          "scatterternary": [
           {
            "marker": {
             "colorbar": {
              "outlinewidth": 0,
              "ticks": ""
             }
            },
            "type": "scatterternary"
           }
          ],
          "surface": [
           {
            "colorbar": {
             "outlinewidth": 0,
             "ticks": ""
            },
            "colorscale": [
             [
              0,
              "#0d0887"
             ],
             [
              0.1111111111111111,
              "#46039f"
             ],
             [
              0.2222222222222222,
              "#7201a8"
             ],
             [
              0.3333333333333333,
              "#9c179e"
             ],
             [
              0.4444444444444444,
              "#bd3786"
             ],
             [
              0.5555555555555556,
              "#d8576b"
             ],
             [
              0.6666666666666666,
              "#ed7953"
             ],
             [
              0.7777777777777778,
              "#fb9f3a"
             ],
             [
              0.8888888888888888,
              "#fdca26"
             ],
             [
              1,
              "#f0f921"
             ]
            ],
            "type": "surface"
           }
          ],
          "table": [
           {
            "cells": {
             "fill": {
              "color": "#EBF0F8"
             },
             "line": {
              "color": "white"
             }
            },
            "header": {
             "fill": {
              "color": "#C8D4E3"
             },
             "line": {
              "color": "white"
             }
            },
            "type": "table"
           }
          ]
         },
         "layout": {
          "annotationdefaults": {
           "arrowcolor": "#2a3f5f",
           "arrowhead": 0,
           "arrowwidth": 1
          },
          "autotypenumbers": "strict",
          "coloraxis": {
           "colorbar": {
            "outlinewidth": 0,
            "ticks": ""
           }
          },
          "colorscale": {
           "diverging": [
            [
             0,
             "#8e0152"
            ],
            [
             0.1,
             "#c51b7d"
            ],
            [
             0.2,
             "#de77ae"
            ],
            [
             0.3,
             "#f1b6da"
            ],
            [
             0.4,
             "#fde0ef"
            ],
            [
             0.5,
             "#f7f7f7"
            ],
            [
             0.6,
             "#e6f5d0"
            ],
            [
             0.7,
             "#b8e186"
            ],
            [
             0.8,
             "#7fbc41"
            ],
            [
             0.9,
             "#4d9221"
            ],
            [
             1,
             "#276419"
            ]
           ],
           "sequential": [
            [
             0,
             "#0d0887"
            ],
            [
             0.1111111111111111,
             "#46039f"
            ],
            [
             0.2222222222222222,
             "#7201a8"
            ],
            [
             0.3333333333333333,
             "#9c179e"
            ],
            [
             0.4444444444444444,
             "#bd3786"
            ],
            [
             0.5555555555555556,
             "#d8576b"
            ],
            [
             0.6666666666666666,
             "#ed7953"
            ],
            [
             0.7777777777777778,
             "#fb9f3a"
            ],
            [
             0.8888888888888888,
             "#fdca26"
            ],
            [
             1,
             "#f0f921"
            ]
           ],
           "sequentialminus": [
            [
             0,
             "#0d0887"
            ],
            [
             0.1111111111111111,
             "#46039f"
            ],
            [
             0.2222222222222222,
             "#7201a8"
            ],
            [
             0.3333333333333333,
             "#9c179e"
            ],
            [
             0.4444444444444444,
             "#bd3786"
            ],
            [
             0.5555555555555556,
             "#d8576b"
            ],
            [
             0.6666666666666666,
             "#ed7953"
            ],
            [
             0.7777777777777778,
             "#fb9f3a"
            ],
            [
             0.8888888888888888,
             "#fdca26"
            ],
            [
             1,
             "#f0f921"
            ]
           ]
          },
          "colorway": [
           "#636efa",
           "#EF553B",
           "#00cc96",
           "#ab63fa",
           "#FFA15A",
           "#19d3f3",
           "#FF6692",
           "#B6E880",
           "#FF97FF",
           "#FECB52"
          ],
          "font": {
           "color": "#2a3f5f"
          },
          "geo": {
           "bgcolor": "white",
           "lakecolor": "white",
           "landcolor": "#E5ECF6",
           "showlakes": true,
           "showland": true,
           "subunitcolor": "white"
          },
          "hoverlabel": {
           "align": "left"
          },
          "hovermode": "closest",
          "mapbox": {
           "style": "light"
          },
          "paper_bgcolor": "white",
          "plot_bgcolor": "#E5ECF6",
          "polar": {
           "angularaxis": {
            "gridcolor": "white",
            "linecolor": "white",
            "ticks": ""
           },
           "bgcolor": "#E5ECF6",
           "radialaxis": {
            "gridcolor": "white",
            "linecolor": "white",
            "ticks": ""
           }
          },
          "scene": {
           "xaxis": {
            "backgroundcolor": "#E5ECF6",
            "gridcolor": "white",
            "gridwidth": 2,
            "linecolor": "white",
            "showbackground": true,
            "ticks": "",
            "zerolinecolor": "white"
           },
           "yaxis": {
            "backgroundcolor": "#E5ECF6",
            "gridcolor": "white",
            "gridwidth": 2,
            "linecolor": "white",
            "showbackground": true,
            "ticks": "",
            "zerolinecolor": "white"
           },
           "zaxis": {
            "backgroundcolor": "#E5ECF6",
            "gridcolor": "white",
            "gridwidth": 2,
            "linecolor": "white",
            "showbackground": true,
            "ticks": "",
            "zerolinecolor": "white"
           }
          },
          "shapedefaults": {
           "line": {
            "color": "#2a3f5f"
           }
          },
          "ternary": {
           "aaxis": {
            "gridcolor": "white",
            "linecolor": "white",
            "ticks": ""
           },
           "baxis": {
            "gridcolor": "white",
            "linecolor": "white",
            "ticks": ""
           },
           "bgcolor": "#E5ECF6",
           "caxis": {
            "gridcolor": "white",
            "linecolor": "white",
            "ticks": ""
           }
          },
          "title": {
           "x": 0.05
          },
          "xaxis": {
           "automargin": true,
           "gridcolor": "white",
           "linecolor": "white",
           "ticks": "",
           "title": {
            "standoff": 15
           },
           "zerolinecolor": "white",
           "zerolinewidth": 2
          },
          "yaxis": {
           "automargin": true,
           "gridcolor": "white",
           "linecolor": "white",
           "ticks": "",
           "title": {
            "standoff": 15
           },
           "zerolinecolor": "white",
           "zerolinewidth": 2
          }
         }
        },
        "title": {
         "text": "train"
        },
        "width": 500
       }
      }
     },
     "metadata": {},
     "output_type": "display_data"
    },
    {
     "data": {
      "application/vnd.plotly.v1+json": {
       "config": {
        "plotlyServerURL": "https://plot.ly"
       },
       "data": [
        {
         "type": "surface",
         "z": [
          [
           0.34750378941109583,
           0.3373617321697256,
           0.3272993849777693,
           0.31722193235098123,
           0.30695874423356867,
           0.29636587858382396,
           0.28548297715086257,
           0.27430971544199184,
           0.2628255046434691,
           0.2510534977532296
          ],
          [
           0.3274134004188384,
           0.31711527185250765,
           0.30673875878511536,
           0.2961936585856048,
           0.28531896834546344,
           0.2740188957158805,
           0.2623341854094547,
           0.2502811906880949,
           0.2379044069955107,
           0.22533060461417495
          ],
          [
           0.28584614998625335,
           0.27455607910428814,
           0.2628772913596672,
           0.2507431191425455,
           0.2381957557391584,
           0.22531461706767367,
           0.2122808525511886,
           0.19931408527075178,
           0.18679526130110075,
           0.17525532777907588
          ],
          [
           0.26441568084189987,
           0.2522070440592054,
           0.23962223559512774,
           0.2266581267759493,
           0.21340400146682903,
           0.20004490109910203,
           0.18693948451270254,
           0.17443989672393057,
           0.16316345793740142,
           0.15399734783056282
          ],
          [
           0.21607772010546264,
           0.2024284855518828,
           0.18890202387396518,
           0.17588840503448938,
           0.1639437245529962,
           0.15363309626937408,
           0.14605508843545703,
           0.142190615651296,
           0.142742519449054,
           0.14794036158875096
          ],
          [
           0.1935462241531014,
           0.17981586846679395,
           0.16700186338891274,
           0.15576930610569104,
           0.1470436545702265,
           0.14179496711309142,
           0.14115182554773517,
           0.14557238560501798,
           0.15498088170785576,
           0.1688592173213016
          ],
          [
           0.1507404519263178,
           0.14378914533310638,
           0.14129688106310323,
           0.1440710848507343,
           0.15239803251890366,
           0.16582056816090351,
           0.18355682691653394,
           0.20482671858912663,
           0.22898007331902115,
           0.2553768266723625
          ],
          [
           0.14458179234522658,
           0.1444868006530986,
           0.15034299566888057,
           0.16201076035908796,
           0.1788892533836722,
           0.19999553667989034,
           0.22449625732757886,
           0.2516462393995659,
           0.2809466076648633,
           0.3119958506386195
          ],
          [
           0.17370489660267066,
           0.1931918507058009,
           0.21699357774840225,
           0.24425729634096072,
           0.2742503346351592,
           0.3063760454268189,
           0.340256922135723,
           0.37559723978399484,
           0.41227957298014645,
           0.45031576138228013
          ],
          [
           0.20803375261488172,
           0.23375256858271207,
           0.2630904816799328,
           0.2954909663368664,
           0.33031318691546746,
           0.3670695906905307,
           0.4053158473609694,
           0.44484147039431643,
           0.48564854215020015,
           0.527681539221503
          ]
         ]
        }
       ],
       "layout": {
        "autosize": false,
        "height": 500,
        "margin": {
         "b": 65,
         "l": 65,
         "r": 50,
         "t": 90
        },
        "template": {
         "data": {
          "bar": [
           {
            "error_x": {
             "color": "#2a3f5f"
            },
            "error_y": {
             "color": "#2a3f5f"
            },
            "marker": {
             "line": {
              "color": "#E5ECF6",
              "width": 0.5
             },
             "pattern": {
              "fillmode": "overlay",
              "size": 10,
              "solidity": 0.2
             }
            },
            "type": "bar"
           }
          ],
          "barpolar": [
           {
            "marker": {
             "line": {
              "color": "#E5ECF6",
              "width": 0.5
             },
             "pattern": {
              "fillmode": "overlay",
              "size": 10,
              "solidity": 0.2
             }
            },
            "type": "barpolar"
           }
          ],
          "carpet": [
           {
            "aaxis": {
             "endlinecolor": "#2a3f5f",
             "gridcolor": "white",
             "linecolor": "white",
             "minorgridcolor": "white",
             "startlinecolor": "#2a3f5f"
            },
            "baxis": {
             "endlinecolor": "#2a3f5f",
             "gridcolor": "white",
             "linecolor": "white",
             "minorgridcolor": "white",
             "startlinecolor": "#2a3f5f"
            },
            "type": "carpet"
           }
          ],
          "choropleth": [
           {
            "colorbar": {
             "outlinewidth": 0,
             "ticks": ""
            },
            "type": "choropleth"
           }
          ],
          "contour": [
           {
            "colorbar": {
             "outlinewidth": 0,
             "ticks": ""
            },
            "colorscale": [
             [
              0,
              "#0d0887"
             ],
             [
              0.1111111111111111,
              "#46039f"
             ],
             [
              0.2222222222222222,
              "#7201a8"
             ],
             [
              0.3333333333333333,
              "#9c179e"
             ],
             [
              0.4444444444444444,
              "#bd3786"
             ],
             [
              0.5555555555555556,
              "#d8576b"
             ],
             [
              0.6666666666666666,
              "#ed7953"
             ],
             [
              0.7777777777777778,
              "#fb9f3a"
             ],
             [
              0.8888888888888888,
              "#fdca26"
             ],
             [
              1,
              "#f0f921"
             ]
            ],
            "type": "contour"
           }
          ],
          "contourcarpet": [
           {
            "colorbar": {
             "outlinewidth": 0,
             "ticks": ""
            },
            "type": "contourcarpet"
           }
          ],
          "heatmap": [
           {
            "colorbar": {
             "outlinewidth": 0,
             "ticks": ""
            },
            "colorscale": [
             [
              0,
              "#0d0887"
             ],
             [
              0.1111111111111111,
              "#46039f"
             ],
             [
              0.2222222222222222,
              "#7201a8"
             ],
             [
              0.3333333333333333,
              "#9c179e"
             ],
             [
              0.4444444444444444,
              "#bd3786"
             ],
             [
              0.5555555555555556,
              "#d8576b"
             ],
             [
              0.6666666666666666,
              "#ed7953"
             ],
             [
              0.7777777777777778,
              "#fb9f3a"
             ],
             [
              0.8888888888888888,
              "#fdca26"
             ],
             [
              1,
              "#f0f921"
             ]
            ],
            "type": "heatmap"
           }
          ],
          "heatmapgl": [
           {
            "colorbar": {
             "outlinewidth": 0,
             "ticks": ""
            },
            "colorscale": [
             [
              0,
              "#0d0887"
             ],
             [
              0.1111111111111111,
              "#46039f"
             ],
             [
              0.2222222222222222,
              "#7201a8"
             ],
             [
              0.3333333333333333,
              "#9c179e"
             ],
             [
              0.4444444444444444,
              "#bd3786"
             ],
             [
              0.5555555555555556,
              "#d8576b"
             ],
             [
              0.6666666666666666,
              "#ed7953"
             ],
             [
              0.7777777777777778,
              "#fb9f3a"
             ],
             [
              0.8888888888888888,
              "#fdca26"
             ],
             [
              1,
              "#f0f921"
             ]
            ],
            "type": "heatmapgl"
           }
          ],
          "histogram": [
           {
            "marker": {
             "pattern": {
              "fillmode": "overlay",
              "size": 10,
              "solidity": 0.2
             }
            },
            "type": "histogram"
           }
          ],
          "histogram2d": [
           {
            "colorbar": {
             "outlinewidth": 0,
             "ticks": ""
            },
            "colorscale": [
             [
              0,
              "#0d0887"
             ],
             [
              0.1111111111111111,
              "#46039f"
             ],
             [
              0.2222222222222222,
              "#7201a8"
             ],
             [
              0.3333333333333333,
              "#9c179e"
             ],
             [
              0.4444444444444444,
              "#bd3786"
             ],
             [
              0.5555555555555556,
              "#d8576b"
             ],
             [
              0.6666666666666666,
              "#ed7953"
             ],
             [
              0.7777777777777778,
              "#fb9f3a"
             ],
             [
              0.8888888888888888,
              "#fdca26"
             ],
             [
              1,
              "#f0f921"
             ]
            ],
            "type": "histogram2d"
           }
          ],
          "histogram2dcontour": [
           {
            "colorbar": {
             "outlinewidth": 0,
             "ticks": ""
            },
            "colorscale": [
             [
              0,
              "#0d0887"
             ],
             [
              0.1111111111111111,
              "#46039f"
             ],
             [
              0.2222222222222222,
              "#7201a8"
             ],
             [
              0.3333333333333333,
              "#9c179e"
             ],
             [
              0.4444444444444444,
              "#bd3786"
             ],
             [
              0.5555555555555556,
              "#d8576b"
             ],
             [
              0.6666666666666666,
              "#ed7953"
             ],
             [
              0.7777777777777778,
              "#fb9f3a"
             ],
             [
              0.8888888888888888,
              "#fdca26"
             ],
             [
              1,
              "#f0f921"
             ]
            ],
            "type": "histogram2dcontour"
           }
          ],
          "mesh3d": [
           {
            "colorbar": {
             "outlinewidth": 0,
             "ticks": ""
            },
            "type": "mesh3d"
           }
          ],
          "parcoords": [
           {
            "line": {
             "colorbar": {
              "outlinewidth": 0,
              "ticks": ""
             }
            },
            "type": "parcoords"
           }
          ],
          "pie": [
           {
            "automargin": true,
            "type": "pie"
           }
          ],
          "scatter": [
           {
            "fillpattern": {
             "fillmode": "overlay",
             "size": 10,
             "solidity": 0.2
            },
            "type": "scatter"
           }
          ],
          "scatter3d": [
           {
            "line": {
             "colorbar": {
              "outlinewidth": 0,
              "ticks": ""
             }
            },
            "marker": {
             "colorbar": {
              "outlinewidth": 0,
              "ticks": ""
             }
            },
            "type": "scatter3d"
           }
          ],
          "scattercarpet": [
           {
            "marker": {
             "colorbar": {
              "outlinewidth": 0,
              "ticks": ""
             }
            },
            "type": "scattercarpet"
           }
          ],
          "scattergeo": [
           {
            "marker": {
             "colorbar": {
              "outlinewidth": 0,
              "ticks": ""
             }
            },
            "type": "scattergeo"
           }
          ],
          "scattergl": [
           {
            "marker": {
             "colorbar": {
              "outlinewidth": 0,
              "ticks": ""
             }
            },
            "type": "scattergl"
           }
          ],
          "scattermapbox": [
           {
            "marker": {
             "colorbar": {
              "outlinewidth": 0,
              "ticks": ""
             }
            },
            "type": "scattermapbox"
           }
          ],
          "scatterpolar": [
           {
            "marker": {
             "colorbar": {
              "outlinewidth": 0,
              "ticks": ""
             }
            },
            "type": "scatterpolar"
           }
          ],
          "scatterpolargl": [
           {
            "marker": {
             "colorbar": {
              "outlinewidth": 0,
              "ticks": ""
             }
            },
            "type": "scatterpolargl"
           }
          ],
          "scatterternary": [
           {
            "marker": {
             "colorbar": {
              "outlinewidth": 0,
              "ticks": ""
             }
            },
            "type": "scatterternary"
           }
          ],
          "surface": [
           {
            "colorbar": {
             "outlinewidth": 0,
             "ticks": ""
            },
            "colorscale": [
             [
              0,
              "#0d0887"
             ],
             [
              0.1111111111111111,
              "#46039f"
             ],
             [
              0.2222222222222222,
              "#7201a8"
             ],
             [
              0.3333333333333333,
              "#9c179e"
             ],
             [
              0.4444444444444444,
              "#bd3786"
             ],
             [
              0.5555555555555556,
              "#d8576b"
             ],
             [
              0.6666666666666666,
              "#ed7953"
             ],
             [
              0.7777777777777778,
              "#fb9f3a"
             ],
             [
              0.8888888888888888,
              "#fdca26"
             ],
             [
              1,
              "#f0f921"
             ]
            ],
            "type": "surface"
           }
          ],
          "table": [
           {
            "cells": {
             "fill": {
              "color": "#EBF0F8"
             },
             "line": {
              "color": "white"
             }
            },
            "header": {
             "fill": {
              "color": "#C8D4E3"
             },
             "line": {
              "color": "white"
             }
            },
            "type": "table"
           }
          ]
         },
         "layout": {
          "annotationdefaults": {
           "arrowcolor": "#2a3f5f",
           "arrowhead": 0,
           "arrowwidth": 1
          },
          "autotypenumbers": "strict",
          "coloraxis": {
           "colorbar": {
            "outlinewidth": 0,
            "ticks": ""
           }
          },
          "colorscale": {
           "diverging": [
            [
             0,
             "#8e0152"
            ],
            [
             0.1,
             "#c51b7d"
            ],
            [
             0.2,
             "#de77ae"
            ],
            [
             0.3,
             "#f1b6da"
            ],
            [
             0.4,
             "#fde0ef"
            ],
            [
             0.5,
             "#f7f7f7"
            ],
            [
             0.6,
             "#e6f5d0"
            ],
            [
             0.7,
             "#b8e186"
            ],
            [
             0.8,
             "#7fbc41"
            ],
            [
             0.9,
             "#4d9221"
            ],
            [
             1,
             "#276419"
            ]
           ],
           "sequential": [
            [
             0,
             "#0d0887"
            ],
            [
             0.1111111111111111,
             "#46039f"
            ],
            [
             0.2222222222222222,
             "#7201a8"
            ],
            [
             0.3333333333333333,
             "#9c179e"
            ],
            [
             0.4444444444444444,
             "#bd3786"
            ],
            [
             0.5555555555555556,
             "#d8576b"
            ],
            [
             0.6666666666666666,
             "#ed7953"
            ],
            [
             0.7777777777777778,
             "#fb9f3a"
            ],
            [
             0.8888888888888888,
             "#fdca26"
            ],
            [
             1,
             "#f0f921"
            ]
           ],
           "sequentialminus": [
            [
             0,
             "#0d0887"
            ],
            [
             0.1111111111111111,
             "#46039f"
            ],
            [
             0.2222222222222222,
             "#7201a8"
            ],
            [
             0.3333333333333333,
             "#9c179e"
            ],
            [
             0.4444444444444444,
             "#bd3786"
            ],
            [
             0.5555555555555556,
             "#d8576b"
            ],
            [
             0.6666666666666666,
             "#ed7953"
            ],
            [
             0.7777777777777778,
             "#fb9f3a"
            ],
            [
             0.8888888888888888,
             "#fdca26"
            ],
            [
             1,
             "#f0f921"
            ]
           ]
          },
          "colorway": [
           "#636efa",
           "#EF553B",
           "#00cc96",
           "#ab63fa",
           "#FFA15A",
           "#19d3f3",
           "#FF6692",
           "#B6E880",
           "#FF97FF",
           "#FECB52"
          ],
          "font": {
           "color": "#2a3f5f"
          },
          "geo": {
           "bgcolor": "white",
           "lakecolor": "white",
           "landcolor": "#E5ECF6",
           "showlakes": true,
           "showland": true,
           "subunitcolor": "white"
          },
          "hoverlabel": {
           "align": "left"
          },
          "hovermode": "closest",
          "mapbox": {
           "style": "light"
          },
          "paper_bgcolor": "white",
          "plot_bgcolor": "#E5ECF6",
          "polar": {
           "angularaxis": {
            "gridcolor": "white",
            "linecolor": "white",
            "ticks": ""
           },
           "bgcolor": "#E5ECF6",
           "radialaxis": {
            "gridcolor": "white",
            "linecolor": "white",
            "ticks": ""
           }
          },
          "scene": {
           "xaxis": {
            "backgroundcolor": "#E5ECF6",
            "gridcolor": "white",
            "gridwidth": 2,
            "linecolor": "white",
            "showbackground": true,
            "ticks": "",
            "zerolinecolor": "white"
           },
           "yaxis": {
            "backgroundcolor": "#E5ECF6",
            "gridcolor": "white",
            "gridwidth": 2,
            "linecolor": "white",
            "showbackground": true,
            "ticks": "",
            "zerolinecolor": "white"
           },
           "zaxis": {
            "backgroundcolor": "#E5ECF6",
            "gridcolor": "white",
            "gridwidth": 2,
            "linecolor": "white",
            "showbackground": true,
            "ticks": "",
            "zerolinecolor": "white"
           }
          },
          "shapedefaults": {
           "line": {
            "color": "#2a3f5f"
           }
          },
          "ternary": {
           "aaxis": {
            "gridcolor": "white",
            "linecolor": "white",
            "ticks": ""
           },
           "baxis": {
            "gridcolor": "white",
            "linecolor": "white",
            "ticks": ""
           },
           "bgcolor": "#E5ECF6",
           "caxis": {
            "gridcolor": "white",
            "linecolor": "white",
            "ticks": ""
           }
          },
          "title": {
           "x": 0.05
          },
          "xaxis": {
           "automargin": true,
           "gridcolor": "white",
           "linecolor": "white",
           "ticks": "",
           "title": {
            "standoff": 15
           },
           "zerolinecolor": "white",
           "zerolinewidth": 2
          },
          "yaxis": {
           "automargin": true,
           "gridcolor": "white",
           "linecolor": "white",
           "ticks": "",
           "title": {
            "standoff": 15
           },
           "zerolinecolor": "white",
           "zerolinewidth": 2
          }
         }
        },
        "title": {
         "text": "val"
        },
        "width": 500
       }
      }
     },
     "metadata": {},
     "output_type": "display_data"
    },
    {
     "data": {
      "application/vnd.plotly.v1+json": {
       "config": {
        "plotlyServerURL": "https://plot.ly"
       },
       "data": [
        {
         "type": "surface",
         "z": [
          [
           0.33553758370766107,
           0.325828542867228,
           0.3161971967514372,
           0.306548207928819,
           0.2967454225947173,
           0.28670725266690394,
           0.27631527308634496,
           0.26558620506168784,
           0.25457963414530105,
           0.2433859108040189
          ],
          [
           0.31631511977112775,
           0.30650461424221537,
           0.29660709741181457,
           0.2865344538842891,
           0.2761737699322256,
           0.26544493293909094,
           0.2543239678689196,
           0.24279867242105696,
           0.2309629266159867,
           0.2190204804399274
          ],
          [
           0.2765948971668642,
           0.2658404149982698,
           0.2547419805705765,
           0.2432695565938435,
           0.23138576659032992,
           0.21913544721827277,
           0.20667011324606827,
           0.19435308371195928,
           0.18258166860227484,
           0.17178783048593668
          ],
          [
           0.25607533840818875,
           0.2445017394640739,
           0.23259207159941298,
           0.22031878029549662,
           0.20780999892027602,
           0.19517595286358438,
           0.18270301841746434,
           0.17096826489197914,
           0.16057918112165223,
           0.1521492780532438
          ],
          [
           0.21016737968725713,
           0.19732808550040526,
           0.1846323464106509,
           0.17237812334948868,
           0.16113626303012693,
           0.1516794552286724,
           0.14493254419213095,
           0.14168168793542069,
           0.14261850673553317,
           0.14815933113378302
          ],
          [
           0.18897845591327095,
           0.176054154584208,
           0.1640515096707162,
           0.15363219302993605,
           0.14568529889282195,
           0.14123037951000644,
           0.14110851609787362,
           0.14568127143544174,
           0.15503901653909039,
           0.16866053024064284
          ],
          [
           0.1496059892933664,
           0.14329841341451746,
           0.1413938709235921,
           0.14453179771731958,
           0.15287864144932933,
           0.16594315237271215,
           0.1831085408270935,
           0.2036036665222115,
           0.2267764577502503,
           0.2522109878219055
          ],
          [
           0.1451916684485446,
           0.14549154792361982,
           0.15142859167125533,
           0.16285352650366475,
           0.17921267882476077,
           0.1995202849234768,
           0.22302103277040414,
           0.24908537001052064,
           0.2772088730279931,
           0.30712984021261636
          ],
          [
           0.17487314151917505,
           0.1935864858365153,
           0.21644095683056774,
           0.24256216571050587,
           0.2713065353929516,
           0.30214565007034283,
           0.3346848531737683,
           0.36876734272535894,
           0.40415858239350577,
           0.4408237867848021
          ],
          [
           0.20867188879632137,
           0.2332868109600449,
           0.26137605692258903,
           0.2923235591764509,
           0.32558924782574167,
           0.3607502414401192,
           0.39751891292107283,
           0.4356517408912136,
           0.47496692705460286,
           0.5154642374674305
          ]
         ]
        }
       ],
       "layout": {
        "autosize": false,
        "height": 500,
        "margin": {
         "b": 65,
         "l": 65,
         "r": 50,
         "t": 90
        },
        "template": {
         "data": {
          "bar": [
           {
            "error_x": {
             "color": "#2a3f5f"
            },
            "error_y": {
             "color": "#2a3f5f"
            },
            "marker": {
             "line": {
              "color": "#E5ECF6",
              "width": 0.5
             },
             "pattern": {
              "fillmode": "overlay",
              "size": 10,
              "solidity": 0.2
             }
            },
            "type": "bar"
           }
          ],
          "barpolar": [
           {
            "marker": {
             "line": {
              "color": "#E5ECF6",
              "width": 0.5
             },
             "pattern": {
              "fillmode": "overlay",
              "size": 10,
              "solidity": 0.2
             }
            },
            "type": "barpolar"
           }
          ],
          "carpet": [
           {
            "aaxis": {
             "endlinecolor": "#2a3f5f",
             "gridcolor": "white",
             "linecolor": "white",
             "minorgridcolor": "white",
             "startlinecolor": "#2a3f5f"
            },
            "baxis": {
             "endlinecolor": "#2a3f5f",
             "gridcolor": "white",
             "linecolor": "white",
             "minorgridcolor": "white",
             "startlinecolor": "#2a3f5f"
            },
            "type": "carpet"
           }
          ],
          "choropleth": [
           {
            "colorbar": {
             "outlinewidth": 0,
             "ticks": ""
            },
            "type": "choropleth"
           }
          ],
          "contour": [
           {
            "colorbar": {
             "outlinewidth": 0,
             "ticks": ""
            },
            "colorscale": [
             [
              0,
              "#0d0887"
             ],
             [
              0.1111111111111111,
              "#46039f"
             ],
             [
              0.2222222222222222,
              "#7201a8"
             ],
             [
              0.3333333333333333,
              "#9c179e"
             ],
             [
              0.4444444444444444,
              "#bd3786"
             ],
             [
              0.5555555555555556,
              "#d8576b"
             ],
             [
              0.6666666666666666,
              "#ed7953"
             ],
             [
              0.7777777777777778,
              "#fb9f3a"
             ],
             [
              0.8888888888888888,
              "#fdca26"
             ],
             [
              1,
              "#f0f921"
             ]
            ],
            "type": "contour"
           }
          ],
          "contourcarpet": [
           {
            "colorbar": {
             "outlinewidth": 0,
             "ticks": ""
            },
            "type": "contourcarpet"
           }
          ],
          "heatmap": [
           {
            "colorbar": {
             "outlinewidth": 0,
             "ticks": ""
            },
            "colorscale": [
             [
              0,
              "#0d0887"
             ],
             [
              0.1111111111111111,
              "#46039f"
             ],
             [
              0.2222222222222222,
              "#7201a8"
             ],
             [
              0.3333333333333333,
              "#9c179e"
             ],
             [
              0.4444444444444444,
              "#bd3786"
             ],
             [
              0.5555555555555556,
              "#d8576b"
             ],
             [
              0.6666666666666666,
              "#ed7953"
             ],
             [
              0.7777777777777778,
              "#fb9f3a"
             ],
             [
              0.8888888888888888,
              "#fdca26"
             ],
             [
              1,
              "#f0f921"
             ]
            ],
            "type": "heatmap"
           }
          ],
          "heatmapgl": [
           {
            "colorbar": {
             "outlinewidth": 0,
             "ticks": ""
            },
            "colorscale": [
             [
              0,
              "#0d0887"
             ],
             [
              0.1111111111111111,
              "#46039f"
             ],
             [
              0.2222222222222222,
              "#7201a8"
             ],
             [
              0.3333333333333333,
              "#9c179e"
             ],
             [
              0.4444444444444444,
              "#bd3786"
             ],
             [
              0.5555555555555556,
              "#d8576b"
             ],
             [
              0.6666666666666666,
              "#ed7953"
             ],
             [
              0.7777777777777778,
              "#fb9f3a"
             ],
             [
              0.8888888888888888,
              "#fdca26"
             ],
             [
              1,
              "#f0f921"
             ]
            ],
            "type": "heatmapgl"
           }
          ],
          "histogram": [
           {
            "marker": {
             "pattern": {
              "fillmode": "overlay",
              "size": 10,
              "solidity": 0.2
             }
            },
            "type": "histogram"
           }
          ],
          "histogram2d": [
           {
            "colorbar": {
             "outlinewidth": 0,
             "ticks": ""
            },
            "colorscale": [
             [
              0,
              "#0d0887"
             ],
             [
              0.1111111111111111,
              "#46039f"
             ],
             [
              0.2222222222222222,
              "#7201a8"
             ],
             [
              0.3333333333333333,
              "#9c179e"
             ],
             [
              0.4444444444444444,
              "#bd3786"
             ],
             [
              0.5555555555555556,
              "#d8576b"
             ],
             [
              0.6666666666666666,
              "#ed7953"
             ],
             [
              0.7777777777777778,
              "#fb9f3a"
             ],
             [
              0.8888888888888888,
              "#fdca26"
             ],
             [
              1,
              "#f0f921"
             ]
            ],
            "type": "histogram2d"
           }
          ],
          "histogram2dcontour": [
           {
            "colorbar": {
             "outlinewidth": 0,
             "ticks": ""
            },
            "colorscale": [
             [
              0,
              "#0d0887"
             ],
             [
              0.1111111111111111,
              "#46039f"
             ],
             [
              0.2222222222222222,
              "#7201a8"
             ],
             [
              0.3333333333333333,
              "#9c179e"
             ],
             [
              0.4444444444444444,
              "#bd3786"
             ],
             [
              0.5555555555555556,
              "#d8576b"
             ],
             [
              0.6666666666666666,
              "#ed7953"
             ],
             [
              0.7777777777777778,
              "#fb9f3a"
             ],
             [
              0.8888888888888888,
              "#fdca26"
             ],
             [
              1,
              "#f0f921"
             ]
            ],
            "type": "histogram2dcontour"
           }
          ],
          "mesh3d": [
           {
            "colorbar": {
             "outlinewidth": 0,
             "ticks": ""
            },
            "type": "mesh3d"
           }
          ],
          "parcoords": [
           {
            "line": {
             "colorbar": {
              "outlinewidth": 0,
              "ticks": ""
             }
            },
            "type": "parcoords"
           }
          ],
          "pie": [
           {
            "automargin": true,
            "type": "pie"
           }
          ],
          "scatter": [
           {
            "fillpattern": {
             "fillmode": "overlay",
             "size": 10,
             "solidity": 0.2
            },
            "type": "scatter"
           }
          ],
          "scatter3d": [
           {
            "line": {
             "colorbar": {
              "outlinewidth": 0,
              "ticks": ""
             }
            },
            "marker": {
             "colorbar": {
              "outlinewidth": 0,
              "ticks": ""
             }
            },
            "type": "scatter3d"
           }
          ],
          "scattercarpet": [
           {
            "marker": {
             "colorbar": {
              "outlinewidth": 0,
              "ticks": ""
             }
            },
            "type": "scattercarpet"
           }
          ],
          "scattergeo": [
           {
            "marker": {
             "colorbar": {
              "outlinewidth": 0,
              "ticks": ""
             }
            },
            "type": "scattergeo"
           }
          ],
          "scattergl": [
           {
            "marker": {
             "colorbar": {
              "outlinewidth": 0,
              "ticks": ""
             }
            },
            "type": "scattergl"
           }
          ],
          "scattermapbox": [
           {
            "marker": {
             "colorbar": {
              "outlinewidth": 0,
              "ticks": ""
             }
            },
            "type": "scattermapbox"
           }
          ],
          "scatterpolar": [
           {
            "marker": {
             "colorbar": {
              "outlinewidth": 0,
              "ticks": ""
             }
            },
            "type": "scatterpolar"
           }
          ],
          "scatterpolargl": [
           {
            "marker": {
             "colorbar": {
              "outlinewidth": 0,
              "ticks": ""
             }
            },
            "type": "scatterpolargl"
           }
          ],
          "scatterternary": [
           {
            "marker": {
             "colorbar": {
              "outlinewidth": 0,
              "ticks": ""
             }
            },
            "type": "scatterternary"
           }
          ],
          "surface": [
           {
            "colorbar": {
             "outlinewidth": 0,
             "ticks": ""
            },
            "colorscale": [
             [
              0,
              "#0d0887"
             ],
             [
              0.1111111111111111,
              "#46039f"
             ],
             [
              0.2222222222222222,
              "#7201a8"
             ],
             [
              0.3333333333333333,
              "#9c179e"
             ],
             [
              0.4444444444444444,
              "#bd3786"
             ],
             [
              0.5555555555555556,
              "#d8576b"
             ],
             [
              0.6666666666666666,
              "#ed7953"
             ],
             [
              0.7777777777777778,
              "#fb9f3a"
             ],
             [
              0.8888888888888888,
              "#fdca26"
             ],
             [
              1,
              "#f0f921"
             ]
            ],
            "type": "surface"
           }
          ],
          "table": [
           {
            "cells": {
             "fill": {
              "color": "#EBF0F8"
             },
             "line": {
              "color": "white"
             }
            },
            "header": {
             "fill": {
              "color": "#C8D4E3"
             },
             "line": {
              "color": "white"
             }
            },
            "type": "table"
           }
          ]
         },
         "layout": {
          "annotationdefaults": {
           "arrowcolor": "#2a3f5f",
           "arrowhead": 0,
           "arrowwidth": 1
          },
          "autotypenumbers": "strict",
          "coloraxis": {
           "colorbar": {
            "outlinewidth": 0,
            "ticks": ""
           }
          },
          "colorscale": {
           "diverging": [
            [
             0,
             "#8e0152"
            ],
            [
             0.1,
             "#c51b7d"
            ],
            [
             0.2,
             "#de77ae"
            ],
            [
             0.3,
             "#f1b6da"
            ],
            [
             0.4,
             "#fde0ef"
            ],
            [
             0.5,
             "#f7f7f7"
            ],
            [
             0.6,
             "#e6f5d0"
            ],
            [
             0.7,
             "#b8e186"
            ],
            [
             0.8,
             "#7fbc41"
            ],
            [
             0.9,
             "#4d9221"
            ],
            [
             1,
             "#276419"
            ]
           ],
           "sequential": [
            [
             0,
             "#0d0887"
            ],
            [
             0.1111111111111111,
             "#46039f"
            ],
            [
             0.2222222222222222,
             "#7201a8"
            ],
            [
             0.3333333333333333,
             "#9c179e"
            ],
            [
             0.4444444444444444,
             "#bd3786"
            ],
            [
             0.5555555555555556,
             "#d8576b"
            ],
            [
             0.6666666666666666,
             "#ed7953"
            ],
            [
             0.7777777777777778,
             "#fb9f3a"
            ],
            [
             0.8888888888888888,
             "#fdca26"
            ],
            [
             1,
             "#f0f921"
            ]
           ],
           "sequentialminus": [
            [
             0,
             "#0d0887"
            ],
            [
             0.1111111111111111,
             "#46039f"
            ],
            [
             0.2222222222222222,
             "#7201a8"
            ],
            [
             0.3333333333333333,
             "#9c179e"
            ],
            [
             0.4444444444444444,
             "#bd3786"
            ],
            [
             0.5555555555555556,
             "#d8576b"
            ],
            [
             0.6666666666666666,
             "#ed7953"
            ],
            [
             0.7777777777777778,
             "#fb9f3a"
            ],
            [
             0.8888888888888888,
             "#fdca26"
            ],
            [
             1,
             "#f0f921"
            ]
           ]
          },
          "colorway": [
           "#636efa",
           "#EF553B",
           "#00cc96",
           "#ab63fa",
           "#FFA15A",
           "#19d3f3",
           "#FF6692",
           "#B6E880",
           "#FF97FF",
           "#FECB52"
          ],
          "font": {
           "color": "#2a3f5f"
          },
          "geo": {
           "bgcolor": "white",
           "lakecolor": "white",
           "landcolor": "#E5ECF6",
           "showlakes": true,
           "showland": true,
           "subunitcolor": "white"
          },
          "hoverlabel": {
           "align": "left"
          },
          "hovermode": "closest",
          "mapbox": {
           "style": "light"
          },
          "paper_bgcolor": "white",
          "plot_bgcolor": "#E5ECF6",
          "polar": {
           "angularaxis": {
            "gridcolor": "white",
            "linecolor": "white",
            "ticks": ""
           },
           "bgcolor": "#E5ECF6",
           "radialaxis": {
            "gridcolor": "white",
            "linecolor": "white",
            "ticks": ""
           }
          },
          "scene": {
           "xaxis": {
            "backgroundcolor": "#E5ECF6",
            "gridcolor": "white",
            "gridwidth": 2,
            "linecolor": "white",
            "showbackground": true,
            "ticks": "",
            "zerolinecolor": "white"
           },
           "yaxis": {
            "backgroundcolor": "#E5ECF6",
            "gridcolor": "white",
            "gridwidth": 2,
            "linecolor": "white",
            "showbackground": true,
            "ticks": "",
            "zerolinecolor": "white"
           },
           "zaxis": {
            "backgroundcolor": "#E5ECF6",
            "gridcolor": "white",
            "gridwidth": 2,
            "linecolor": "white",
            "showbackground": true,
            "ticks": "",
            "zerolinecolor": "white"
           }
          },
          "shapedefaults": {
           "line": {
            "color": "#2a3f5f"
           }
          },
          "ternary": {
           "aaxis": {
            "gridcolor": "white",
            "linecolor": "white",
            "ticks": ""
           },
           "baxis": {
            "gridcolor": "white",
            "linecolor": "white",
            "ticks": ""
           },
           "bgcolor": "#E5ECF6",
           "caxis": {
            "gridcolor": "white",
            "linecolor": "white",
            "ticks": ""
           }
          },
          "title": {
           "x": 0.05
          },
          "xaxis": {
           "automargin": true,
           "gridcolor": "white",
           "linecolor": "white",
           "ticks": "",
           "title": {
            "standoff": 15
           },
           "zerolinecolor": "white",
           "zerolinewidth": 2
          },
          "yaxis": {
           "automargin": true,
           "gridcolor": "white",
           "linecolor": "white",
           "ticks": "",
           "title": {
            "standoff": 15
           },
           "zerolinecolor": "white",
           "zerolinewidth": 2
          }
         }
        },
        "title": {
         "text": "test"
        },
        "width": 500
       }
      }
     },
     "metadata": {},
     "output_type": "display_data"
    }
   ],
   "source": [
    "DATASET = 'diamond'\n",
    "path_to_config = '/Users/timgritsaev/Desktop/tabular/tabular-hpo/exp/mlp/' + DATASET + '/0-tuning/checkpoint.pt'\n",
    "path_to_model = '/Users/timgritsaev/Desktop/tabular/tabular-hpo/saved_models/optuna_' + DATASET + '_0.pt'\n",
    "create_all(path_to_config, path_to_model, distance=0.1)"
   ]
  },
  {
   "cell_type": "code",
   "execution_count": 4,
   "metadata": {},
   "outputs": [
    {
     "name": "stderr",
     "output_type": "stream",
     "text": [
      "/Users/timgritsaev/Desktop/tabular/tabular-hpo/lib/util.py:237: UserWarning:\n",
      "\n",
      "The key \"function\" will be missing in the report. Reason: '/private/var/folders/65/1vwp97n52f5bhqv1kd377bw40000gn/T/ipykernel_2797/2891418144.py' is not in the subpath of '/Users/timgritsaev/Desktop/tabular/tabular-hpo' OR one path is relative and the other is absolute.\n",
      "\n",
      "0:02:27 | Using cached features: build_dataset__diamond__quantile__ordinal__standard__0__73eb7ffa61642f295a3ae6df6c4a08ac.pickle\n"
     ]
    },
    {
     "name": "stdout",
     "output_type": "stream",
     "text": [
      "----------------------------------------------------------------------------------------------------\n",
      "{'seed': 0,\n",
      " 'data': {'seed': 0,\n",
      "          'cache': True,\n",
      "          'path': ':data/diamond',\n",
      "          'num_policy': 'quantile',\n",
      "          'cat_policy': 'ordinal',\n",
      "          'y_policy': 'standard'},\n",
      " 'model': {'num_embeddings': None,\n",
      "           'backbone': {'type': 'MLP',\n",
      "                        'n_blocks': 3,\n",
      "                        'd_layer': 435,\n",
      "                        'dropout': 0.2785541541043303,\n",
      "                        'activation': 'ReLU'}},\n",
      " 'optimizer': {'type': 'AdamW', 'lr': 0.000689152147641599, 'weight_decay': 0.0},\n",
      " 'batch_size': 512,\n",
      " 'patience': 16,\n",
      " 'n_epochs': inf}\n",
      "----------------------------------------------------------------------------------------------------\n",
      "tensor([-0.5621, -0.8780, -0.7785,  1.3097, -0.0312, -0.5247,  2.2776,  0.9024,\n",
      "        -0.8872,  1.7469])\n",
      "tensor([-0.3702, -0.1541, -0.5501, -0.3787,  0.1105, -0.5659, -0.8295,  1.8532,\n",
      "        -0.2184, -0.0114])\n",
      "tensor([ 0.2027,  0.6276,  0.3979,  1.2170,  0.1424, -0.7558, -0.7883, -0.2772,\n",
      "         3.7132, -0.8591])\n",
      "dir_one 8\n",
      "dir_one tensor([[0.4963, 0.7682, 0.0885, 0.1320, 0.3074],\n",
      "        [0.9527, 0.0362, 0.1852, 0.3734, 0.3051],\n",
      "        [0.6984, 0.5675, 0.8352, 0.2056, 0.5932],\n",
      "        [0.5460, 0.1872, 0.0340, 0.9442, 0.8802],\n",
      "        [0.0237, 0.4910, 0.1235, 0.1143, 0.4725]])\n",
      "start_point tensor([[ 0.0456,  0.0140,  0.0463, -0.0101,  0.1177],\n",
      "        [-0.2230, -0.0137, -0.0114, -0.2229, -0.3695],\n",
      "        [ 0.1029, -0.0199,  0.0087, -0.0585, -0.0711],\n",
      "        [-0.0694, -0.0886,  0.1605, -0.0546, -0.2407],\n",
      "        [ 0.1032,  0.0236,  0.1340,  0.1433, -0.1868]])\n",
      "dir_one 8\n",
      "dir_one tensor([[0.4963, 0.7682, 0.0885, 0.1320, 0.3074],\n",
      "        [0.9527, 0.0362, 0.1852, 0.3734, 0.3051],\n",
      "        [0.6984, 0.5675, 0.8352, 0.2056, 0.5932],\n",
      "        [0.5460, 0.1872, 0.0340, 0.9442, 0.8802],\n",
      "        [0.0237, 0.4910, 0.1235, 0.1143, 0.4725]])\n",
      "start_point tensor([[ 0.0456,  0.0140,  0.0463, -0.0101,  0.1177],\n",
      "        [-0.2230, -0.0137, -0.0114, -0.2229, -0.3695],\n",
      "        [ 0.1029, -0.0199,  0.0087, -0.0585, -0.0711],\n",
      "        [-0.0694, -0.0886,  0.1605, -0.0546, -0.2407],\n",
      "        [ 0.1032,  0.0236,  0.1340,  0.1433, -0.1868]])\n",
      "dir_one 8\n",
      "dir_one tensor([[0.4963, 0.7682, 0.0885, 0.1320, 0.3074],\n",
      "        [0.9527, 0.0362, 0.1852, 0.3734, 0.3051],\n",
      "        [0.6984, 0.5675, 0.8352, 0.2056, 0.5932],\n",
      "        [0.5460, 0.1872, 0.0340, 0.9442, 0.8802],\n",
      "        [0.0237, 0.4910, 0.1235, 0.1143, 0.4725]])\n",
      "start_point tensor([[ 0.0456,  0.0140,  0.0463, -0.0101,  0.1177],\n",
      "        [-0.2230, -0.0137, -0.0114, -0.2229, -0.3695],\n",
      "        [ 0.1029, -0.0199,  0.0087, -0.0585, -0.0711],\n",
      "        [-0.0694, -0.0886,  0.1605, -0.0546, -0.2407],\n",
      "        [ 0.1032,  0.0236,  0.1340,  0.1433, -0.1868]])\n"
     ]
    },
    {
     "data": {
      "application/vnd.plotly.v1+json": {
       "config": {
        "plotlyServerURL": "https://plot.ly"
       },
       "data": [
        {
         "type": "surface",
         "z": [
          [
           0.1285988943732664,
           0.12755646754817346,
           0.12654490495752801,
           0.12556487836811597,
           0.12461942240588482,
           0.12371022932779202,
           0.12283808538748282,
           0.12200396069635472,
           0.12120973124197382,
           0.12045733431771079
          ],
          [
           0.12680046733390643,
           0.12580783397210504,
           0.12484922107028464,
           0.12392569993589843,
           0.12303779583692616,
           0.12218886912473963,
           0.1213789473214892,
           0.12061027177521012,
           0.11988443604106715,
           0.119202601619036
          ],
          [
           0.12327281704284808,
           0.12240768731996911,
           0.12158137631527173,
           0.1207954478030899,
           0.12005311140777322,
           0.11935473573409977,
           0.11870152823717549,
           0.1180940373274131,
           0.1175340257683027,
           0.11702297105014343
          ],
          [
           0.1218220169184472,
           0.12102044101487765,
           0.12026021164854188,
           0.1195418060229236,
           0.11887013106097177,
           0.1182454396453738,
           0.11766863441133366,
           0.1171409156714806,
           0.11666333672406247,
           0.11623677198971945
          ],
          [
           0.11908091549744032,
           0.11843607073175622,
           0.11784035503896023,
           0.1172945050619709,
           0.11679845046572411,
           0.1163529562083193,
           0.11596053257134993,
           0.11562215891775661,
           0.11534003892921385,
           0.11511407246046393
          ],
          [
           0.11805327794466271,
           0.11748743615295335,
           0.11697167549480116,
           0.1165088233645546,
           0.1160988627882847,
           0.11574137813891516,
           0.1154386560470471,
           0.11519118889885137,
           0.11500202207627541,
           0.11487095714906935
          ],
          [
           0.116270691071103,
           0.11589473694028952,
           0.11557386385535398,
           0.11530726358237113,
           0.11509790259645135,
           0.11494646231421636,
           0.11485541391502732,
           0.11482361143353549,
           0.11484996071714344,
           0.11493546301191587
          ],
          [
           0.11574112064798135,
           0.1154560930286423,
           0.11522796984829621,
           0.1150568184159554,
           0.11494487426633826,
           0.11489229425151237,
           0.11490081744596302,
           0.11496891139896072,
           0.11509655129656267,
           0.11528550646176196
          ],
          [
           0.11506668513709363,
           0.11499493583252508,
           0.11498304210936895,
           0.11503205885236172,
           0.11514151193544027,
           0.11531219441029651,
           0.11554323846460605,
           0.1158357703200706,
           0.11618963014184905,
           0.11660546962383672
          ],
          [
           0.11509251348559912,
           0.11512163676584637,
           0.11521260007311959,
           0.11536447406258442,
           0.11557711531169833,
           0.11585341281302047,
           0.11618967823507634,
           0.11658906725924846,
           0.1170488928609593,
           0.11757078274585868
          ]
         ]
        }
       ],
       "layout": {
        "autosize": false,
        "height": 500,
        "margin": {
         "b": 65,
         "l": 65,
         "r": 50,
         "t": 90
        },
        "template": {
         "data": {
          "bar": [
           {
            "error_x": {
             "color": "#2a3f5f"
            },
            "error_y": {
             "color": "#2a3f5f"
            },
            "marker": {
             "line": {
              "color": "#E5ECF6",
              "width": 0.5
             },
             "pattern": {
              "fillmode": "overlay",
              "size": 10,
              "solidity": 0.2
             }
            },
            "type": "bar"
           }
          ],
          "barpolar": [
           {
            "marker": {
             "line": {
              "color": "#E5ECF6",
              "width": 0.5
             },
             "pattern": {
              "fillmode": "overlay",
              "size": 10,
              "solidity": 0.2
             }
            },
            "type": "barpolar"
           }
          ],
          "carpet": [
           {
            "aaxis": {
             "endlinecolor": "#2a3f5f",
             "gridcolor": "white",
             "linecolor": "white",
             "minorgridcolor": "white",
             "startlinecolor": "#2a3f5f"
            },
            "baxis": {
             "endlinecolor": "#2a3f5f",
             "gridcolor": "white",
             "linecolor": "white",
             "minorgridcolor": "white",
             "startlinecolor": "#2a3f5f"
            },
            "type": "carpet"
           }
          ],
          "choropleth": [
           {
            "colorbar": {
             "outlinewidth": 0,
             "ticks": ""
            },
            "type": "choropleth"
           }
          ],
          "contour": [
           {
            "colorbar": {
             "outlinewidth": 0,
             "ticks": ""
            },
            "colorscale": [
             [
              0,
              "#0d0887"
             ],
             [
              0.1111111111111111,
              "#46039f"
             ],
             [
              0.2222222222222222,
              "#7201a8"
             ],
             [
              0.3333333333333333,
              "#9c179e"
             ],
             [
              0.4444444444444444,
              "#bd3786"
             ],
             [
              0.5555555555555556,
              "#d8576b"
             ],
             [
              0.6666666666666666,
              "#ed7953"
             ],
             [
              0.7777777777777778,
              "#fb9f3a"
             ],
             [
              0.8888888888888888,
              "#fdca26"
             ],
             [
              1,
              "#f0f921"
             ]
            ],
            "type": "contour"
           }
          ],
          "contourcarpet": [
           {
            "colorbar": {
             "outlinewidth": 0,
             "ticks": ""
            },
            "type": "contourcarpet"
           }
          ],
          "heatmap": [
           {
            "colorbar": {
             "outlinewidth": 0,
             "ticks": ""
            },
            "colorscale": [
             [
              0,
              "#0d0887"
             ],
             [
              0.1111111111111111,
              "#46039f"
             ],
             [
              0.2222222222222222,
              "#7201a8"
             ],
             [
              0.3333333333333333,
              "#9c179e"
             ],
             [
              0.4444444444444444,
              "#bd3786"
             ],
             [
              0.5555555555555556,
              "#d8576b"
             ],
             [
              0.6666666666666666,
              "#ed7953"
             ],
             [
              0.7777777777777778,
              "#fb9f3a"
             ],
             [
              0.8888888888888888,
              "#fdca26"
             ],
             [
              1,
              "#f0f921"
             ]
            ],
            "type": "heatmap"
           }
          ],
          "heatmapgl": [
           {
            "colorbar": {
             "outlinewidth": 0,
             "ticks": ""
            },
            "colorscale": [
             [
              0,
              "#0d0887"
             ],
             [
              0.1111111111111111,
              "#46039f"
             ],
             [
              0.2222222222222222,
              "#7201a8"
             ],
             [
              0.3333333333333333,
              "#9c179e"
             ],
             [
              0.4444444444444444,
              "#bd3786"
             ],
             [
              0.5555555555555556,
              "#d8576b"
             ],
             [
              0.6666666666666666,
              "#ed7953"
             ],
             [
              0.7777777777777778,
              "#fb9f3a"
             ],
             [
              0.8888888888888888,
              "#fdca26"
             ],
             [
              1,
              "#f0f921"
             ]
            ],
            "type": "heatmapgl"
           }
          ],
          "histogram": [
           {
            "marker": {
             "pattern": {
              "fillmode": "overlay",
              "size": 10,
              "solidity": 0.2
             }
            },
            "type": "histogram"
           }
          ],
          "histogram2d": [
           {
            "colorbar": {
             "outlinewidth": 0,
             "ticks": ""
            },
            "colorscale": [
             [
              0,
              "#0d0887"
             ],
             [
              0.1111111111111111,
              "#46039f"
             ],
             [
              0.2222222222222222,
              "#7201a8"
             ],
             [
              0.3333333333333333,
              "#9c179e"
             ],
             [
              0.4444444444444444,
              "#bd3786"
             ],
             [
              0.5555555555555556,
              "#d8576b"
             ],
             [
              0.6666666666666666,
              "#ed7953"
             ],
             [
              0.7777777777777778,
              "#fb9f3a"
             ],
             [
              0.8888888888888888,
              "#fdca26"
             ],
             [
              1,
              "#f0f921"
             ]
            ],
            "type": "histogram2d"
           }
          ],
          "histogram2dcontour": [
           {
            "colorbar": {
             "outlinewidth": 0,
             "ticks": ""
            },
            "colorscale": [
             [
              0,
              "#0d0887"
             ],
             [
              0.1111111111111111,
              "#46039f"
             ],
             [
              0.2222222222222222,
              "#7201a8"
             ],
             [
              0.3333333333333333,
              "#9c179e"
             ],
             [
              0.4444444444444444,
              "#bd3786"
             ],
             [
              0.5555555555555556,
              "#d8576b"
             ],
             [
              0.6666666666666666,
              "#ed7953"
             ],
             [
              0.7777777777777778,
              "#fb9f3a"
             ],
             [
              0.8888888888888888,
              "#fdca26"
             ],
             [
              1,
              "#f0f921"
             ]
            ],
            "type": "histogram2dcontour"
           }
          ],
          "mesh3d": [
           {
            "colorbar": {
             "outlinewidth": 0,
             "ticks": ""
            },
            "type": "mesh3d"
           }
          ],
          "parcoords": [
           {
            "line": {
             "colorbar": {
              "outlinewidth": 0,
              "ticks": ""
             }
            },
            "type": "parcoords"
           }
          ],
          "pie": [
           {
            "automargin": true,
            "type": "pie"
           }
          ],
          "scatter": [
           {
            "fillpattern": {
             "fillmode": "overlay",
             "size": 10,
             "solidity": 0.2
            },
            "type": "scatter"
           }
          ],
          "scatter3d": [
           {
            "line": {
             "colorbar": {
              "outlinewidth": 0,
              "ticks": ""
             }
            },
            "marker": {
             "colorbar": {
              "outlinewidth": 0,
              "ticks": ""
             }
            },
            "type": "scatter3d"
           }
          ],
          "scattercarpet": [
           {
            "marker": {
             "colorbar": {
              "outlinewidth": 0,
              "ticks": ""
             }
            },
            "type": "scattercarpet"
           }
          ],
          "scattergeo": [
           {
            "marker": {
             "colorbar": {
              "outlinewidth": 0,
              "ticks": ""
             }
            },
            "type": "scattergeo"
           }
          ],
          "scattergl": [
           {
            "marker": {
             "colorbar": {
              "outlinewidth": 0,
              "ticks": ""
             }
            },
            "type": "scattergl"
           }
          ],
          "scattermapbox": [
           {
            "marker": {
             "colorbar": {
              "outlinewidth": 0,
              "ticks": ""
             }
            },
            "type": "scattermapbox"
           }
          ],
          "scatterpolar": [
           {
            "marker": {
             "colorbar": {
              "outlinewidth": 0,
              "ticks": ""
             }
            },
            "type": "scatterpolar"
           }
          ],
          "scatterpolargl": [
           {
            "marker": {
             "colorbar": {
              "outlinewidth": 0,
              "ticks": ""
             }
            },
            "type": "scatterpolargl"
           }
          ],
          "scatterternary": [
           {
            "marker": {
             "colorbar": {
              "outlinewidth": 0,
              "ticks": ""
             }
            },
            "type": "scatterternary"
           }
          ],
          "surface": [
           {
            "colorbar": {
             "outlinewidth": 0,
             "ticks": ""
            },
            "colorscale": [
             [
              0,
              "#0d0887"
             ],
             [
              0.1111111111111111,
              "#46039f"
             ],
             [
              0.2222222222222222,
              "#7201a8"
             ],
             [
              0.3333333333333333,
              "#9c179e"
             ],
             [
              0.4444444444444444,
              "#bd3786"
             ],
             [
              0.5555555555555556,
              "#d8576b"
             ],
             [
              0.6666666666666666,
              "#ed7953"
             ],
             [
              0.7777777777777778,
              "#fb9f3a"
             ],
             [
              0.8888888888888888,
              "#fdca26"
             ],
             [
              1,
              "#f0f921"
             ]
            ],
            "type": "surface"
           }
          ],
          "table": [
           {
            "cells": {
             "fill": {
              "color": "#EBF0F8"
             },
             "line": {
              "color": "white"
             }
            },
            "header": {
             "fill": {
              "color": "#C8D4E3"
             },
             "line": {
              "color": "white"
             }
            },
            "type": "table"
           }
          ]
         },
         "layout": {
          "annotationdefaults": {
           "arrowcolor": "#2a3f5f",
           "arrowhead": 0,
           "arrowwidth": 1
          },
          "autotypenumbers": "strict",
          "coloraxis": {
           "colorbar": {
            "outlinewidth": 0,
            "ticks": ""
           }
          },
          "colorscale": {
           "diverging": [
            [
             0,
             "#8e0152"
            ],
            [
             0.1,
             "#c51b7d"
            ],
            [
             0.2,
             "#de77ae"
            ],
            [
             0.3,
             "#f1b6da"
            ],
            [
             0.4,
             "#fde0ef"
            ],
            [
             0.5,
             "#f7f7f7"
            ],
            [
             0.6,
             "#e6f5d0"
            ],
            [
             0.7,
             "#b8e186"
            ],
            [
             0.8,
             "#7fbc41"
            ],
            [
             0.9,
             "#4d9221"
            ],
            [
             1,
             "#276419"
            ]
           ],
           "sequential": [
            [
             0,
             "#0d0887"
            ],
            [
             0.1111111111111111,
             "#46039f"
            ],
            [
             0.2222222222222222,
             "#7201a8"
            ],
            [
             0.3333333333333333,
             "#9c179e"
            ],
            [
             0.4444444444444444,
             "#bd3786"
            ],
            [
             0.5555555555555556,
             "#d8576b"
            ],
            [
             0.6666666666666666,
             "#ed7953"
            ],
            [
             0.7777777777777778,
             "#fb9f3a"
            ],
            [
             0.8888888888888888,
             "#fdca26"
            ],
            [
             1,
             "#f0f921"
            ]
           ],
           "sequentialminus": [
            [
             0,
             "#0d0887"
            ],
            [
             0.1111111111111111,
             "#46039f"
            ],
            [
             0.2222222222222222,
             "#7201a8"
            ],
            [
             0.3333333333333333,
             "#9c179e"
            ],
            [
             0.4444444444444444,
             "#bd3786"
            ],
            [
             0.5555555555555556,
             "#d8576b"
            ],
            [
             0.6666666666666666,
             "#ed7953"
            ],
            [
             0.7777777777777778,
             "#fb9f3a"
            ],
            [
             0.8888888888888888,
             "#fdca26"
            ],
            [
             1,
             "#f0f921"
            ]
           ]
          },
          "colorway": [
           "#636efa",
           "#EF553B",
           "#00cc96",
           "#ab63fa",
           "#FFA15A",
           "#19d3f3",
           "#FF6692",
           "#B6E880",
           "#FF97FF",
           "#FECB52"
          ],
          "font": {
           "color": "#2a3f5f"
          },
          "geo": {
           "bgcolor": "white",
           "lakecolor": "white",
           "landcolor": "#E5ECF6",
           "showlakes": true,
           "showland": true,
           "subunitcolor": "white"
          },
          "hoverlabel": {
           "align": "left"
          },
          "hovermode": "closest",
          "mapbox": {
           "style": "light"
          },
          "paper_bgcolor": "white",
          "plot_bgcolor": "#E5ECF6",
          "polar": {
           "angularaxis": {
            "gridcolor": "white",
            "linecolor": "white",
            "ticks": ""
           },
           "bgcolor": "#E5ECF6",
           "radialaxis": {
            "gridcolor": "white",
            "linecolor": "white",
            "ticks": ""
           }
          },
          "scene": {
           "xaxis": {
            "backgroundcolor": "#E5ECF6",
            "gridcolor": "white",
            "gridwidth": 2,
            "linecolor": "white",
            "showbackground": true,
            "ticks": "",
            "zerolinecolor": "white"
           },
           "yaxis": {
            "backgroundcolor": "#E5ECF6",
            "gridcolor": "white",
            "gridwidth": 2,
            "linecolor": "white",
            "showbackground": true,
            "ticks": "",
            "zerolinecolor": "white"
           },
           "zaxis": {
            "backgroundcolor": "#E5ECF6",
            "gridcolor": "white",
            "gridwidth": 2,
            "linecolor": "white",
            "showbackground": true,
            "ticks": "",
            "zerolinecolor": "white"
           }
          },
          "shapedefaults": {
           "line": {
            "color": "#2a3f5f"
           }
          },
          "ternary": {
           "aaxis": {
            "gridcolor": "white",
            "linecolor": "white",
            "ticks": ""
           },
           "baxis": {
            "gridcolor": "white",
            "linecolor": "white",
            "ticks": ""
           },
           "bgcolor": "#E5ECF6",
           "caxis": {
            "gridcolor": "white",
            "linecolor": "white",
            "ticks": ""
           }
          },
          "title": {
           "x": 0.05
          },
          "xaxis": {
           "automargin": true,
           "gridcolor": "white",
           "linecolor": "white",
           "ticks": "",
           "title": {
            "standoff": 15
           },
           "zerolinecolor": "white",
           "zerolinewidth": 2
          },
          "yaxis": {
           "automargin": true,
           "gridcolor": "white",
           "linecolor": "white",
           "ticks": "",
           "title": {
            "standoff": 15
           },
           "zerolinecolor": "white",
           "zerolinewidth": 2
          }
         }
        },
        "title": {
         "text": "train"
        },
        "width": 500
       }
      }
     },
     "metadata": {},
     "output_type": "display_data"
    },
    {
     "data": {
      "application/vnd.plotly.v1+json": {
       "config": {
        "plotlyServerURL": "https://plot.ly"
       },
       "data": [
        {
         "type": "surface",
         "z": [
          [
           0.15345913985955617,
           0.1525361179258091,
           0.15164073099980685,
           0.1507753492100036,
           0.14993874670117013,
           0.14913221966021475,
           0.14835755805599893,
           0.14761655061881696,
           0.1469091297123835,
           0.1462385913075151
          ],
          [
           0.1518341245707397,
           0.15095674796811398,
           0.15010946794445265,
           0.1492942566594634,
           0.14850971071686844,
           0.14775766744824864,
           0.14703677606890064,
           0.14635325603495938,
           0.14570358726284957,
           0.1450922427295297
          ],
          [
           0.1486803753177315,
           0.1479179172955507,
           0.14718950945500966,
           0.14649408944025233,
           0.14583237823673115,
           0.1452067031066469,
           0.14461821439942177,
           0.14406952047515592,
           0.14356434718219513,
           0.14310275192253763
          ],
          [
           0.14735706409765498,
           0.14664959173371667,
           0.145979411470226,
           0.14534374562552393,
           0.14474351219970757,
           0.14418014201772397,
           0.14365921626452638,
           0.14317827115191212,
           0.14274426147806574,
           0.14235607257186658
          ],
          [
           0.14488823723941566,
           0.14431298374088342,
           0.14377778422285356,
           0.14328174204102273,
           0.1428286037505902,
           0.14241803993255336,
           0.1420585034077191,
           0.14174502110315224,
           0.14147654308967977,
           0.14125368861429063
          ],
          [
           0.1439136377109541,
           0.14340549293687319,
           0.14293949500144099,
           0.142513547930927,
           0.14213059355549507,
           0.14179496711309142,
           0.14151229675564114,
           0.14127489095356935,
           0.14108577711025572,
           0.140944977813572
          ],
          [
           0.14223528493962914,
           0.14188263719227667,
           0.1415744821370081,
           0.1413161130115961,
           0.14111001430016487,
           0.14095293987098362,
           0.140846455563919,
           0.1407900345164775,
           0.140788050009957,
           0.14083705913630104
          ],
          [
           0.1416792952177403,
           0.14140130055443534,
           0.14116917067672952,
           0.14098888576951762,
           0.140864301099238,
           0.14078953839246983,
           0.14076662217289934,
           0.1407962855291891,
           0.14087994962110478,
           0.14101617105013722
          ],
          [
           0.14092419505490875,
           0.140823859435978,
           0.1407779021293727,
           0.1407877258712344,
           0.14085150728981577,
           0.14096714491449408,
           0.14113838474096718,
           0.1413624355764476,
           0.14163595636903747,
           0.14196175113936266
          ],
          [
           0.1408256582655472,
           0.14081131328340063,
           0.14085263134030687,
           0.1409500854755635,
           0.14109789622563032,
           0.14130134326653365,
           0.14156243013754968,
           0.1418750227075298,
           0.14223878140073887,
           0.14265593273842037
          ]
         ]
        }
       ],
       "layout": {
        "autosize": false,
        "height": 500,
        "margin": {
         "b": 65,
         "l": 65,
         "r": 50,
         "t": 90
        },
        "template": {
         "data": {
          "bar": [
           {
            "error_x": {
             "color": "#2a3f5f"
            },
            "error_y": {
             "color": "#2a3f5f"
            },
            "marker": {
             "line": {
              "color": "#E5ECF6",
              "width": 0.5
             },
             "pattern": {
              "fillmode": "overlay",
              "size": 10,
              "solidity": 0.2
             }
            },
            "type": "bar"
           }
          ],
          "barpolar": [
           {
            "marker": {
             "line": {
              "color": "#E5ECF6",
              "width": 0.5
             },
             "pattern": {
              "fillmode": "overlay",
              "size": 10,
              "solidity": 0.2
             }
            },
            "type": "barpolar"
           }
          ],
          "carpet": [
           {
            "aaxis": {
             "endlinecolor": "#2a3f5f",
             "gridcolor": "white",
             "linecolor": "white",
             "minorgridcolor": "white",
             "startlinecolor": "#2a3f5f"
            },
            "baxis": {
             "endlinecolor": "#2a3f5f",
             "gridcolor": "white",
             "linecolor": "white",
             "minorgridcolor": "white",
             "startlinecolor": "#2a3f5f"
            },
            "type": "carpet"
           }
          ],
          "choropleth": [
           {
            "colorbar": {
             "outlinewidth": 0,
             "ticks": ""
            },
            "type": "choropleth"
           }
          ],
          "contour": [
           {
            "colorbar": {
             "outlinewidth": 0,
             "ticks": ""
            },
            "colorscale": [
             [
              0,
              "#0d0887"
             ],
             [
              0.1111111111111111,
              "#46039f"
             ],
             [
              0.2222222222222222,
              "#7201a8"
             ],
             [
              0.3333333333333333,
              "#9c179e"
             ],
             [
              0.4444444444444444,
              "#bd3786"
             ],
             [
              0.5555555555555556,
              "#d8576b"
             ],
             [
              0.6666666666666666,
              "#ed7953"
             ],
             [
              0.7777777777777778,
              "#fb9f3a"
             ],
             [
              0.8888888888888888,
              "#fdca26"
             ],
             [
              1,
              "#f0f921"
             ]
            ],
            "type": "contour"
           }
          ],
          "contourcarpet": [
           {
            "colorbar": {
             "outlinewidth": 0,
             "ticks": ""
            },
            "type": "contourcarpet"
           }
          ],
          "heatmap": [
           {
            "colorbar": {
             "outlinewidth": 0,
             "ticks": ""
            },
            "colorscale": [
             [
              0,
              "#0d0887"
             ],
             [
              0.1111111111111111,
              "#46039f"
             ],
             [
              0.2222222222222222,
              "#7201a8"
             ],
             [
              0.3333333333333333,
              "#9c179e"
             ],
             [
              0.4444444444444444,
              "#bd3786"
             ],
             [
              0.5555555555555556,
              "#d8576b"
             ],
             [
              0.6666666666666666,
              "#ed7953"
             ],
             [
              0.7777777777777778,
              "#fb9f3a"
             ],
             [
              0.8888888888888888,
              "#fdca26"
             ],
             [
              1,
              "#f0f921"
             ]
            ],
            "type": "heatmap"
           }
          ],
          "heatmapgl": [
           {
            "colorbar": {
             "outlinewidth": 0,
             "ticks": ""
            },
            "colorscale": [
             [
              0,
              "#0d0887"
             ],
             [
              0.1111111111111111,
              "#46039f"
             ],
             [
              0.2222222222222222,
              "#7201a8"
             ],
             [
              0.3333333333333333,
              "#9c179e"
             ],
             [
              0.4444444444444444,
              "#bd3786"
             ],
             [
              0.5555555555555556,
              "#d8576b"
             ],
             [
              0.6666666666666666,
              "#ed7953"
             ],
             [
              0.7777777777777778,
              "#fb9f3a"
             ],
             [
              0.8888888888888888,
              "#fdca26"
             ],
             [
              1,
              "#f0f921"
             ]
            ],
            "type": "heatmapgl"
           }
          ],
          "histogram": [
           {
            "marker": {
             "pattern": {
              "fillmode": "overlay",
              "size": 10,
              "solidity": 0.2
             }
            },
            "type": "histogram"
           }
          ],
          "histogram2d": [
           {
            "colorbar": {
             "outlinewidth": 0,
             "ticks": ""
            },
            "colorscale": [
             [
              0,
              "#0d0887"
             ],
             [
              0.1111111111111111,
              "#46039f"
             ],
             [
              0.2222222222222222,
              "#7201a8"
             ],
             [
              0.3333333333333333,
              "#9c179e"
             ],
             [
              0.4444444444444444,
              "#bd3786"
             ],
             [
              0.5555555555555556,
              "#d8576b"
             ],
             [
              0.6666666666666666,
              "#ed7953"
             ],
             [
              0.7777777777777778,
              "#fb9f3a"
             ],
             [
              0.8888888888888888,
              "#fdca26"
             ],
             [
              1,
              "#f0f921"
             ]
            ],
            "type": "histogram2d"
           }
          ],
          "histogram2dcontour": [
           {
            "colorbar": {
             "outlinewidth": 0,
             "ticks": ""
            },
            "colorscale": [
             [
              0,
              "#0d0887"
             ],
             [
              0.1111111111111111,
              "#46039f"
             ],
             [
              0.2222222222222222,
              "#7201a8"
             ],
             [
              0.3333333333333333,
              "#9c179e"
             ],
             [
              0.4444444444444444,
              "#bd3786"
             ],
             [
              0.5555555555555556,
              "#d8576b"
             ],
             [
              0.6666666666666666,
              "#ed7953"
             ],
             [
              0.7777777777777778,
              "#fb9f3a"
             ],
             [
              0.8888888888888888,
              "#fdca26"
             ],
             [
              1,
              "#f0f921"
             ]
            ],
            "type": "histogram2dcontour"
           }
          ],
          "mesh3d": [
           {
            "colorbar": {
             "outlinewidth": 0,
             "ticks": ""
            },
            "type": "mesh3d"
           }
          ],
          "parcoords": [
           {
            "line": {
             "colorbar": {
              "outlinewidth": 0,
              "ticks": ""
             }
            },
            "type": "parcoords"
           }
          ],
          "pie": [
           {
            "automargin": true,
            "type": "pie"
           }
          ],
          "scatter": [
           {
            "fillpattern": {
             "fillmode": "overlay",
             "size": 10,
             "solidity": 0.2
            },
            "type": "scatter"
           }
          ],
          "scatter3d": [
           {
            "line": {
             "colorbar": {
              "outlinewidth": 0,
              "ticks": ""
             }
            },
            "marker": {
             "colorbar": {
              "outlinewidth": 0,
              "ticks": ""
             }
            },
            "type": "scatter3d"
           }
          ],
          "scattercarpet": [
           {
            "marker": {
             "colorbar": {
              "outlinewidth": 0,
              "ticks": ""
             }
            },
            "type": "scattercarpet"
           }
          ],
          "scattergeo": [
           {
            "marker": {
             "colorbar": {
              "outlinewidth": 0,
              "ticks": ""
             }
            },
            "type": "scattergeo"
           }
          ],
          "scattergl": [
           {
            "marker": {
             "colorbar": {
              "outlinewidth": 0,
              "ticks": ""
             }
            },
            "type": "scattergl"
           }
          ],
          "scattermapbox": [
           {
            "marker": {
             "colorbar": {
              "outlinewidth": 0,
              "ticks": ""
             }
            },
            "type": "scattermapbox"
           }
          ],
          "scatterpolar": [
           {
            "marker": {
             "colorbar": {
              "outlinewidth": 0,
              "ticks": ""
             }
            },
            "type": "scatterpolar"
           }
          ],
          "scatterpolargl": [
           {
            "marker": {
             "colorbar": {
              "outlinewidth": 0,
              "ticks": ""
             }
            },
            "type": "scatterpolargl"
           }
          ],
          "scatterternary": [
           {
            "marker": {
             "colorbar": {
              "outlinewidth": 0,
              "ticks": ""
             }
            },
            "type": "scatterternary"
           }
          ],
          "surface": [
           {
            "colorbar": {
             "outlinewidth": 0,
             "ticks": ""
            },
            "colorscale": [
             [
              0,
              "#0d0887"
             ],
             [
              0.1111111111111111,
              "#46039f"
             ],
             [
              0.2222222222222222,
              "#7201a8"
             ],
             [
              0.3333333333333333,
              "#9c179e"
             ],
             [
              0.4444444444444444,
              "#bd3786"
             ],
             [
              0.5555555555555556,
              "#d8576b"
             ],
             [
              0.6666666666666666,
              "#ed7953"
             ],
             [
              0.7777777777777778,
              "#fb9f3a"
             ],
             [
              0.8888888888888888,
              "#fdca26"
             ],
             [
              1,
              "#f0f921"
             ]
            ],
            "type": "surface"
           }
          ],
          "table": [
           {
            "cells": {
             "fill": {
              "color": "#EBF0F8"
             },
             "line": {
              "color": "white"
             }
            },
            "header": {
             "fill": {
              "color": "#C8D4E3"
             },
             "line": {
              "color": "white"
             }
            },
            "type": "table"
           }
          ]
         },
         "layout": {
          "annotationdefaults": {
           "arrowcolor": "#2a3f5f",
           "arrowhead": 0,
           "arrowwidth": 1
          },
          "autotypenumbers": "strict",
          "coloraxis": {
           "colorbar": {
            "outlinewidth": 0,
            "ticks": ""
           }
          },
          "colorscale": {
           "diverging": [
            [
             0,
             "#8e0152"
            ],
            [
             0.1,
             "#c51b7d"
            ],
            [
             0.2,
             "#de77ae"
            ],
            [
             0.3,
             "#f1b6da"
            ],
            [
             0.4,
             "#fde0ef"
            ],
            [
             0.5,
             "#f7f7f7"
            ],
            [
             0.6,
             "#e6f5d0"
            ],
            [
             0.7,
             "#b8e186"
            ],
            [
             0.8,
             "#7fbc41"
            ],
            [
             0.9,
             "#4d9221"
            ],
            [
             1,
             "#276419"
            ]
           ],
           "sequential": [
            [
             0,
             "#0d0887"
            ],
            [
             0.1111111111111111,
             "#46039f"
            ],
            [
             0.2222222222222222,
             "#7201a8"
            ],
            [
             0.3333333333333333,
             "#9c179e"
            ],
            [
             0.4444444444444444,
             "#bd3786"
            ],
            [
             0.5555555555555556,
             "#d8576b"
            ],
            [
             0.6666666666666666,
             "#ed7953"
            ],
            [
             0.7777777777777778,
             "#fb9f3a"
            ],
            [
             0.8888888888888888,
             "#fdca26"
            ],
            [
             1,
             "#f0f921"
            ]
           ],
           "sequentialminus": [
            [
             0,
             "#0d0887"
            ],
            [
             0.1111111111111111,
             "#46039f"
            ],
            [
             0.2222222222222222,
             "#7201a8"
            ],
            [
             0.3333333333333333,
             "#9c179e"
            ],
            [
             0.4444444444444444,
             "#bd3786"
            ],
            [
             0.5555555555555556,
             "#d8576b"
            ],
            [
             0.6666666666666666,
             "#ed7953"
            ],
            [
             0.7777777777777778,
             "#fb9f3a"
            ],
            [
             0.8888888888888888,
             "#fdca26"
            ],
            [
             1,
             "#f0f921"
            ]
           ]
          },
          "colorway": [
           "#636efa",
           "#EF553B",
           "#00cc96",
           "#ab63fa",
           "#FFA15A",
           "#19d3f3",
           "#FF6692",
           "#B6E880",
           "#FF97FF",
           "#FECB52"
          ],
          "font": {
           "color": "#2a3f5f"
          },
          "geo": {
           "bgcolor": "white",
           "lakecolor": "white",
           "landcolor": "#E5ECF6",
           "showlakes": true,
           "showland": true,
           "subunitcolor": "white"
          },
          "hoverlabel": {
           "align": "left"
          },
          "hovermode": "closest",
          "mapbox": {
           "style": "light"
          },
          "paper_bgcolor": "white",
          "plot_bgcolor": "#E5ECF6",
          "polar": {
           "angularaxis": {
            "gridcolor": "white",
            "linecolor": "white",
            "ticks": ""
           },
           "bgcolor": "#E5ECF6",
           "radialaxis": {
            "gridcolor": "white",
            "linecolor": "white",
            "ticks": ""
           }
          },
          "scene": {
           "xaxis": {
            "backgroundcolor": "#E5ECF6",
            "gridcolor": "white",
            "gridwidth": 2,
            "linecolor": "white",
            "showbackground": true,
            "ticks": "",
            "zerolinecolor": "white"
           },
           "yaxis": {
            "backgroundcolor": "#E5ECF6",
            "gridcolor": "white",
            "gridwidth": 2,
            "linecolor": "white",
            "showbackground": true,
            "ticks": "",
            "zerolinecolor": "white"
           },
           "zaxis": {
            "backgroundcolor": "#E5ECF6",
            "gridcolor": "white",
            "gridwidth": 2,
            "linecolor": "white",
            "showbackground": true,
            "ticks": "",
            "zerolinecolor": "white"
           }
          },
          "shapedefaults": {
           "line": {
            "color": "#2a3f5f"
           }
          },
          "ternary": {
           "aaxis": {
            "gridcolor": "white",
            "linecolor": "white",
            "ticks": ""
           },
           "baxis": {
            "gridcolor": "white",
            "linecolor": "white",
            "ticks": ""
           },
           "bgcolor": "#E5ECF6",
           "caxis": {
            "gridcolor": "white",
            "linecolor": "white",
            "ticks": ""
           }
          },
          "title": {
           "x": 0.05
          },
          "xaxis": {
           "automargin": true,
           "gridcolor": "white",
           "linecolor": "white",
           "ticks": "",
           "title": {
            "standoff": 15
           },
           "zerolinecolor": "white",
           "zerolinewidth": 2
          },
          "yaxis": {
           "automargin": true,
           "gridcolor": "white",
           "linecolor": "white",
           "ticks": "",
           "title": {
            "standoff": 15
           },
           "zerolinecolor": "white",
           "zerolinewidth": 2
          }
         }
        },
        "title": {
         "text": "val"
        },
        "width": 500
       }
      }
     },
     "metadata": {},
     "output_type": "display_data"
    },
    {
     "data": {
      "application/vnd.plotly.v1+json": {
       "config": {
        "plotlyServerURL": "https://plot.ly"
       },
       "data": [
        {
         "type": "surface",
         "z": [
          [
           0.1514651135578126,
           0.15062450825345824,
           0.14981273992548683,
           0.1490305172699641,
           0.14827889200391783,
           0.1475610582611666,
           0.14687773975901208,
           0.1462221914633588,
           0.14559435351063071,
           0.1450061278137696
          ],
          [
           0.1499866658482984,
           0.1491905610186414,
           0.148425151913671,
           0.14769000141973235,
           0.14698817402482123,
           0.14632343351925925,
           0.14569365391361735,
           0.14509437376574708,
           0.14452588870440597,
           0.14399737913591135
          ],
          [
           0.14713785639290233,
           0.14645370162252894,
           0.14580941145970097,
           0.1451994617783703,
           0.1446261416627569,
           0.14408683109032208,
           0.14357868305437846,
           0.143109032071258,
           0.14268157419798427,
           0.14229591737372393
          ],
          [
           0.1459577695117576,
           0.14532971203295006,
           0.1447415432917973,
           0.14419037340324573,
           0.14367660872484897,
           0.14320032667473742,
           0.14275507854565395,
           0.14235034148513948,
           0.14198958408954696,
           0.14167194590362192
          ],
          [
           0.14379154180385717,
           0.1433024818451564,
           0.14285126742133525,
           0.14243839549987888,
           0.14205988014186932,
           0.1417237116692691,
           0.14143164074805986,
           0.14118493712667174,
           0.14098161937240591,
           0.14082147859680486
          ],
          [
           0.1429658998924457,
           0.14254228585660797,
           0.1421551505168091,
           0.14180799761148435,
           0.14149825175000638,
           0.14123037291565615,
           0.14101056383090546,
           0.1408363647941159,
           0.14070883874343043,
           0.14062703978860525
          ],
          [
           0.14159143345877812,
           0.14131459063266158,
           0.14107582888845582,
           0.14088057103053298,
           0.14073365040809954,
           0.1406342251718723,
           0.14058384028060508,
           0.1405799714158298,
           0.14062415890971952,
           0.14071709875374402
          ],
          [
           0.14116306812616589,
           0.14095991703867702,
           0.14079845512798034,
           0.1406799116477636,
           0.14061036298658858,
           0.14058707308595447,
           0.14061428400112325,
           0.14069103306562675,
           0.14081536097822328,
           0.14098903109363994
          ],
          [
           0.14065829518663425,
           0.14061968846356585,
           0.1406304437855213,
           0.1406893119513152,
           0.14080092895897992,
           0.14096048523977756,
           0.1411681085220262,
           0.14142549684114258,
           0.1417332333016338,
           0.1420884476425956
          ],
          [
           0.14066339339563524,
           0.14070617796377927,
           0.14079910335527893,
           0.1409418655510243,
           0.14113443869406941,
           0.1413793266862872,
           0.1416732869518076,
           0.14201817228836605,
           0.14241342307084331,
           0.14285769552949878
          ]
         ]
        }
       ],
       "layout": {
        "autosize": false,
        "height": 500,
        "margin": {
         "b": 65,
         "l": 65,
         "r": 50,
         "t": 90
        },
        "template": {
         "data": {
          "bar": [
           {
            "error_x": {
             "color": "#2a3f5f"
            },
            "error_y": {
             "color": "#2a3f5f"
            },
            "marker": {
             "line": {
              "color": "#E5ECF6",
              "width": 0.5
             },
             "pattern": {
              "fillmode": "overlay",
              "size": 10,
              "solidity": 0.2
             }
            },
            "type": "bar"
           }
          ],
          "barpolar": [
           {
            "marker": {
             "line": {
              "color": "#E5ECF6",
              "width": 0.5
             },
             "pattern": {
              "fillmode": "overlay",
              "size": 10,
              "solidity": 0.2
             }
            },
            "type": "barpolar"
           }
          ],
          "carpet": [
           {
            "aaxis": {
             "endlinecolor": "#2a3f5f",
             "gridcolor": "white",
             "linecolor": "white",
             "minorgridcolor": "white",
             "startlinecolor": "#2a3f5f"
            },
            "baxis": {
             "endlinecolor": "#2a3f5f",
             "gridcolor": "white",
             "linecolor": "white",
             "minorgridcolor": "white",
             "startlinecolor": "#2a3f5f"
            },
            "type": "carpet"
           }
          ],
          "choropleth": [
           {
            "colorbar": {
             "outlinewidth": 0,
             "ticks": ""
            },
            "type": "choropleth"
           }
          ],
          "contour": [
           {
            "colorbar": {
             "outlinewidth": 0,
             "ticks": ""
            },
            "colorscale": [
             [
              0,
              "#0d0887"
             ],
             [
              0.1111111111111111,
              "#46039f"
             ],
             [
              0.2222222222222222,
              "#7201a8"
             ],
             [
              0.3333333333333333,
              "#9c179e"
             ],
             [
              0.4444444444444444,
              "#bd3786"
             ],
             [
              0.5555555555555556,
              "#d8576b"
             ],
             [
              0.6666666666666666,
              "#ed7953"
             ],
             [
              0.7777777777777778,
              "#fb9f3a"
             ],
             [
              0.8888888888888888,
              "#fdca26"
             ],
             [
              1,
              "#f0f921"
             ]
            ],
            "type": "contour"
           }
          ],
          "contourcarpet": [
           {
            "colorbar": {
             "outlinewidth": 0,
             "ticks": ""
            },
            "type": "contourcarpet"
           }
          ],
          "heatmap": [
           {
            "colorbar": {
             "outlinewidth": 0,
             "ticks": ""
            },
            "colorscale": [
             [
              0,
              "#0d0887"
             ],
             [
              0.1111111111111111,
              "#46039f"
             ],
             [
              0.2222222222222222,
              "#7201a8"
             ],
             [
              0.3333333333333333,
              "#9c179e"
             ],
             [
              0.4444444444444444,
              "#bd3786"
             ],
             [
              0.5555555555555556,
              "#d8576b"
             ],
             [
              0.6666666666666666,
              "#ed7953"
             ],
             [
              0.7777777777777778,
              "#fb9f3a"
             ],
             [
              0.8888888888888888,
              "#fdca26"
             ],
             [
              1,
              "#f0f921"
             ]
            ],
            "type": "heatmap"
           }
          ],
          "heatmapgl": [
           {
            "colorbar": {
             "outlinewidth": 0,
             "ticks": ""
            },
            "colorscale": [
             [
              0,
              "#0d0887"
             ],
             [
              0.1111111111111111,
              "#46039f"
             ],
             [
              0.2222222222222222,
              "#7201a8"
             ],
             [
              0.3333333333333333,
              "#9c179e"
             ],
             [
              0.4444444444444444,
              "#bd3786"
             ],
             [
              0.5555555555555556,
              "#d8576b"
             ],
             [
              0.6666666666666666,
              "#ed7953"
             ],
             [
              0.7777777777777778,
              "#fb9f3a"
             ],
             [
              0.8888888888888888,
              "#fdca26"
             ],
             [
              1,
              "#f0f921"
             ]
            ],
            "type": "heatmapgl"
           }
          ],
          "histogram": [
           {
            "marker": {
             "pattern": {
              "fillmode": "overlay",
              "size": 10,
              "solidity": 0.2
             }
            },
            "type": "histogram"
           }
          ],
          "histogram2d": [
           {
            "colorbar": {
             "outlinewidth": 0,
             "ticks": ""
            },
            "colorscale": [
             [
              0,
              "#0d0887"
             ],
             [
              0.1111111111111111,
              "#46039f"
             ],
             [
              0.2222222222222222,
              "#7201a8"
             ],
             [
              0.3333333333333333,
              "#9c179e"
             ],
             [
              0.4444444444444444,
              "#bd3786"
             ],
             [
              0.5555555555555556,
              "#d8576b"
             ],
             [
              0.6666666666666666,
              "#ed7953"
             ],
             [
              0.7777777777777778,
              "#fb9f3a"
             ],
             [
              0.8888888888888888,
              "#fdca26"
             ],
             [
              1,
              "#f0f921"
             ]
            ],
            "type": "histogram2d"
           }
          ],
          "histogram2dcontour": [
           {
            "colorbar": {
             "outlinewidth": 0,
             "ticks": ""
            },
            "colorscale": [
             [
              0,
              "#0d0887"
             ],
             [
              0.1111111111111111,
              "#46039f"
             ],
             [
              0.2222222222222222,
              "#7201a8"
             ],
             [
              0.3333333333333333,
              "#9c179e"
             ],
             [
              0.4444444444444444,
              "#bd3786"
             ],
             [
              0.5555555555555556,
              "#d8576b"
             ],
             [
              0.6666666666666666,
              "#ed7953"
             ],
             [
              0.7777777777777778,
              "#fb9f3a"
             ],
             [
              0.8888888888888888,
              "#fdca26"
             ],
             [
              1,
              "#f0f921"
             ]
            ],
            "type": "histogram2dcontour"
           }
          ],
          "mesh3d": [
           {
            "colorbar": {
             "outlinewidth": 0,
             "ticks": ""
            },
            "type": "mesh3d"
           }
          ],
          "parcoords": [
           {
            "line": {
             "colorbar": {
              "outlinewidth": 0,
              "ticks": ""
             }
            },
            "type": "parcoords"
           }
          ],
          "pie": [
           {
            "automargin": true,
            "type": "pie"
           }
          ],
          "scatter": [
           {
            "fillpattern": {
             "fillmode": "overlay",
             "size": 10,
             "solidity": 0.2
            },
            "type": "scatter"
           }
          ],
          "scatter3d": [
           {
            "line": {
             "colorbar": {
              "outlinewidth": 0,
              "ticks": ""
             }
            },
            "marker": {
             "colorbar": {
              "outlinewidth": 0,
              "ticks": ""
             }
            },
            "type": "scatter3d"
           }
          ],
          "scattercarpet": [
           {
            "marker": {
             "colorbar": {
              "outlinewidth": 0,
              "ticks": ""
             }
            },
            "type": "scattercarpet"
           }
          ],
          "scattergeo": [
           {
            "marker": {
             "colorbar": {
              "outlinewidth": 0,
              "ticks": ""
             }
            },
            "type": "scattergeo"
           }
          ],
          "scattergl": [
           {
            "marker": {
             "colorbar": {
              "outlinewidth": 0,
              "ticks": ""
             }
            },
            "type": "scattergl"
           }
          ],
          "scattermapbox": [
           {
            "marker": {
             "colorbar": {
              "outlinewidth": 0,
              "ticks": ""
             }
            },
            "type": "scattermapbox"
           }
          ],
          "scatterpolar": [
           {
            "marker": {
             "colorbar": {
              "outlinewidth": 0,
              "ticks": ""
             }
            },
            "type": "scatterpolar"
           }
          ],
          "scatterpolargl": [
           {
            "marker": {
             "colorbar": {
              "outlinewidth": 0,
              "ticks": ""
             }
            },
            "type": "scatterpolargl"
           }
          ],
          "scatterternary": [
           {
            "marker": {
             "colorbar": {
              "outlinewidth": 0,
              "ticks": ""
             }
            },
            "type": "scatterternary"
           }
          ],
          "surface": [
           {
            "colorbar": {
             "outlinewidth": 0,
             "ticks": ""
            },
            "colorscale": [
             [
              0,
              "#0d0887"
             ],
             [
              0.1111111111111111,
              "#46039f"
             ],
             [
              0.2222222222222222,
              "#7201a8"
             ],
             [
              0.3333333333333333,
              "#9c179e"
             ],
             [
              0.4444444444444444,
              "#bd3786"
             ],
             [
              0.5555555555555556,
              "#d8576b"
             ],
             [
              0.6666666666666666,
              "#ed7953"
             ],
             [
              0.7777777777777778,
              "#fb9f3a"
             ],
             [
              0.8888888888888888,
              "#fdca26"
             ],
             [
              1,
              "#f0f921"
             ]
            ],
            "type": "surface"
           }
          ],
          "table": [
           {
            "cells": {
             "fill": {
              "color": "#EBF0F8"
             },
             "line": {
              "color": "white"
             }
            },
            "header": {
             "fill": {
              "color": "#C8D4E3"
             },
             "line": {
              "color": "white"
             }
            },
            "type": "table"
           }
          ]
         },
         "layout": {
          "annotationdefaults": {
           "arrowcolor": "#2a3f5f",
           "arrowhead": 0,
           "arrowwidth": 1
          },
          "autotypenumbers": "strict",
          "coloraxis": {
           "colorbar": {
            "outlinewidth": 0,
            "ticks": ""
           }
          },
          "colorscale": {
           "diverging": [
            [
             0,
             "#8e0152"
            ],
            [
             0.1,
             "#c51b7d"
            ],
            [
             0.2,
             "#de77ae"
            ],
            [
             0.3,
             "#f1b6da"
            ],
            [
             0.4,
             "#fde0ef"
            ],
            [
             0.5,
             "#f7f7f7"
            ],
            [
             0.6,
             "#e6f5d0"
            ],
            [
             0.7,
             "#b8e186"
            ],
            [
             0.8,
             "#7fbc41"
            ],
            [
             0.9,
             "#4d9221"
            ],
            [
             1,
             "#276419"
            ]
           ],
           "sequential": [
            [
             0,
             "#0d0887"
            ],
            [
             0.1111111111111111,
             "#46039f"
            ],
            [
             0.2222222222222222,
             "#7201a8"
            ],
            [
             0.3333333333333333,
             "#9c179e"
            ],
            [
             0.4444444444444444,
             "#bd3786"
            ],
            [
             0.5555555555555556,
             "#d8576b"
            ],
            [
             0.6666666666666666,
             "#ed7953"
            ],
            [
             0.7777777777777778,
             "#fb9f3a"
            ],
            [
             0.8888888888888888,
             "#fdca26"
            ],
            [
             1,
             "#f0f921"
            ]
           ],
           "sequentialminus": [
            [
             0,
             "#0d0887"
            ],
            [
             0.1111111111111111,
             "#46039f"
            ],
            [
             0.2222222222222222,
             "#7201a8"
            ],
            [
             0.3333333333333333,
             "#9c179e"
            ],
            [
             0.4444444444444444,
             "#bd3786"
            ],
            [
             0.5555555555555556,
             "#d8576b"
            ],
            [
             0.6666666666666666,
             "#ed7953"
            ],
            [
             0.7777777777777778,
             "#fb9f3a"
            ],
            [
             0.8888888888888888,
             "#fdca26"
            ],
            [
             1,
             "#f0f921"
            ]
           ]
          },
          "colorway": [
           "#636efa",
           "#EF553B",
           "#00cc96",
           "#ab63fa",
           "#FFA15A",
           "#19d3f3",
           "#FF6692",
           "#B6E880",
           "#FF97FF",
           "#FECB52"
          ],
          "font": {
           "color": "#2a3f5f"
          },
          "geo": {
           "bgcolor": "white",
           "lakecolor": "white",
           "landcolor": "#E5ECF6",
           "showlakes": true,
           "showland": true,
           "subunitcolor": "white"
          },
          "hoverlabel": {
           "align": "left"
          },
          "hovermode": "closest",
          "mapbox": {
           "style": "light"
          },
          "paper_bgcolor": "white",
          "plot_bgcolor": "#E5ECF6",
          "polar": {
           "angularaxis": {
            "gridcolor": "white",
            "linecolor": "white",
            "ticks": ""
           },
           "bgcolor": "#E5ECF6",
           "radialaxis": {
            "gridcolor": "white",
            "linecolor": "white",
            "ticks": ""
           }
          },
          "scene": {
           "xaxis": {
            "backgroundcolor": "#E5ECF6",
            "gridcolor": "white",
            "gridwidth": 2,
            "linecolor": "white",
            "showbackground": true,
            "ticks": "",
            "zerolinecolor": "white"
           },
           "yaxis": {
            "backgroundcolor": "#E5ECF6",
            "gridcolor": "white",
            "gridwidth": 2,
            "linecolor": "white",
            "showbackground": true,
            "ticks": "",
            "zerolinecolor": "white"
           },
           "zaxis": {
            "backgroundcolor": "#E5ECF6",
            "gridcolor": "white",
            "gridwidth": 2,
            "linecolor": "white",
            "showbackground": true,
            "ticks": "",
            "zerolinecolor": "white"
           }
          },
          "shapedefaults": {
           "line": {
            "color": "#2a3f5f"
           }
          },
          "ternary": {
           "aaxis": {
            "gridcolor": "white",
            "linecolor": "white",
            "ticks": ""
           },
           "baxis": {
            "gridcolor": "white",
            "linecolor": "white",
            "ticks": ""
           },
           "bgcolor": "#E5ECF6",
           "caxis": {
            "gridcolor": "white",
            "linecolor": "white",
            "ticks": ""
           }
          },
          "title": {
           "x": 0.05
          },
          "xaxis": {
           "automargin": true,
           "gridcolor": "white",
           "linecolor": "white",
           "ticks": "",
           "title": {
            "standoff": 15
           },
           "zerolinecolor": "white",
           "zerolinewidth": 2
          },
          "yaxis": {
           "automargin": true,
           "gridcolor": "white",
           "linecolor": "white",
           "ticks": "",
           "title": {
            "standoff": 15
           },
           "zerolinecolor": "white",
           "zerolinewidth": 2
          }
         }
        },
        "title": {
         "text": "test"
        },
        "width": 500
       }
      }
     },
     "metadata": {},
     "output_type": "display_data"
    }
   ],
   "source": [
    "DATASET = 'diamond'\n",
    "path_to_config = '/Users/timgritsaev/Desktop/tabular/tabular-hpo/exp/mlp/' + DATASET + '/0-tuning/checkpoint.pt'\n",
    "path_to_model = '/Users/timgritsaev/Desktop/tabular/tabular-hpo/saved_models/optuna_' + DATASET + '_0.pt'\n",
    "create_all(path_to_config, path_to_model, distance=0.01)"
   ]
  },
  {
   "cell_type": "code",
   "execution_count": null,
   "metadata": {},
   "outputs": [],
   "source": []
  }
 ],
 "metadata": {
  "kernelspec": {
   "display_name": "Python 3",
   "language": "python",
   "name": "python3"
  },
  "language_info": {
   "codemirror_mode": {
    "name": "ipython",
    "version": 3
   },
   "file_extension": ".py",
   "mimetype": "text/x-python",
   "name": "python",
   "nbconvert_exporter": "python",
   "pygments_lexer": "ipython3",
   "version": "3.10.9"
  },
  "orig_nbformat": 4,
  "vscode": {
   "interpreter": {
    "hash": "7c29f52340296aa128d595796f88e009ef9a87dcb3e7bfc62e56d3ab668abf1f"
   }
  }
 },
 "nbformat": 4,
 "nbformat_minor": 2
}
