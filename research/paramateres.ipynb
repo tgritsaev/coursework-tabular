{
 "cells": [
  {
   "cell_type": "code",
   "execution_count": 1,
   "metadata": {},
   "outputs": [],
   "source": [
    "# !pip install torch\n",
    "# !pip install -r ../requirements.txt\n",
    "import sys\n",
    "import os\n",
    "os.environ['PROJECT_DIR'] = '/Users/timgritsaev/Desktop/tabular/tabular-hpo'\n",
    "sys.path.append('/Users/timgritsaev/Desktop/tabular/tabular-hpo')\n",
    "import lib\n",
    "import torch\n",
    "import pandas as pd\n",
    "import matplotlib.pyplot as plt\n",
    "import seaborn as sns\n",
    "import numpy as np\n",
    "%matplotlib inline\n",
    "\n",
    "def get_study_for_dataset(optimizer_prefix, dataset_name, exp_num):\n",
    "    return torch.load('/Users/timgritsaev/Desktop/tabular/tabular-hpo/exp/mlp' + optimizer_prefix + '/' + dataset_name + '/' + str(exp_num) + '-tuning/checkpoint.pt')"
   ]
  },
  {
   "cell_type": "code",
   "execution_count": 2,
   "metadata": {},
   "outputs": [],
   "source": [
    "study = get_study_for_dataset('', 'california', 0)"
   ]
  },
  {
   "cell_type": "code",
   "execution_count": 5,
   "metadata": {},
   "outputs": [
    {
     "data": {
      "text/plain": [
       "{'train': {'rmse': 0.39384152694068314,\n",
       "  'mae': 0.2768590472700101,\n",
       "  'r2': 0.8848443768817932,\n",
       "  'score': -0.39384152694068314},\n",
       " 'val': {'rmse': 0.48093455139590413,\n",
       "  'mae': 0.3215140291033691,\n",
       "  'r2': 0.8226064691497967,\n",
       "  'score': -0.48093455139590413},\n",
       " 'test': {'rmse': 0.488636380267577,\n",
       "  'mae': 0.3307012658693118,\n",
       "  'r2': 0.8168912783143292,\n",
       "  'score': -0.488636380267577}}"
      ]
     },
     "execution_count": 5,
     "metadata": {},
     "output_type": "execute_result"
    }
   ],
   "source": [
    "study['report']['best']['metrics']"
   ]
  },
  {
   "cell_type": "code",
   "execution_count": 13,
   "metadata": {},
   "outputs": [],
   "source": [
    "# print(study['trial_reports'][0]['config'])\n",
    "# # print(study['trial_reports'][0]['config']['model']['backbone'])\n",
    "# y = []\n",
    "# for trial in study['trial_reports']:\n",
    "#     y.append(trial['config']['model']['backbone']['dropout'])\n",
    "    \n",
    "# N = 70 * 5\n",
    "# plt.plot(range(N), y[:N])\n",
    "# plt.show()"
   ]
  },
  {
   "cell_type": "code",
   "execution_count": 14,
   "metadata": {},
   "outputs": [],
   "source": [
    "# print(study.keys())\n",
    "# print(study['report'].keys())\n",
    "# print(study['report']['best'].keys())\n",
    "# print(study['random_state'])"
   ]
  },
  {
   "cell_type": "code",
   "execution_count": 5,
   "metadata": {},
   "outputs": [
    {
     "name": "stdout",
     "output_type": "stream",
     "text": [
      "{'seed': 0, 'batch_size': 256, 'patience': 16, 'n_epochs': inf, 'data': {'seed': 0, 'cache': True, 'path': ':data/california', 'num_policy': 'quantile', 'cat_policy': None, 'y_policy': 'standard'}, 'optimizer': {'type': 'AdamW', 'lr': 0.0009213130217887258, 'weight_decay': 3.911847192982179e-05}, 'model': {'num_embeddings': None, 'backbone': {'type': 'MLP', 'n_blocks': 2, 'd_layer': 238, 'dropout': 0.23395140372463127, 'activation': 'ReLU'}}} \n",
      "\n",
      "\n"
     ]
    }
   ],
   "source": [
    "import json\n",
    "\n",
    "study = studies[0]\n",
    "\n",
    "with open('best-california.json', 'w') as fp:\n",
    "    print(study['report']['best']['config'], \"\\n\\n\")\n",
    "    json.dump(study['report']['best']['config'], fp)"
   ]
  },
  {
   "cell_type": "code",
   "execution_count": 59,
   "metadata": {},
   "outputs": [],
   "source": [
    "def find_recursive(d):\n",
    "    for k in d.keys():\n",
    "        if k == 'model':\n",
    "            print(k)\n",
    "            return True\n",
    "        if type(d[k]) is dict:\n",
    "            if find_recursive(d[k]):\n",
    "                print(k)\n",
    "                return True\n",
    "    return False"
   ]
  },
  {
   "cell_type": "code",
   "execution_count": 60,
   "metadata": {},
   "outputs": [
    {
     "name": "stdout",
     "output_type": "stream",
     "text": [
      "model\n",
      "config\n",
      "report\n"
     ]
    },
    {
     "data": {
      "text/plain": [
       "True"
      ]
     },
     "execution_count": 60,
     "metadata": {},
     "output_type": "execute_result"
    }
   ],
   "source": [
    "find_recursive(study)"
   ]
  },
  {
   "cell_type": "code",
   "execution_count": 62,
   "metadata": {},
   "outputs": [
    {
     "data": {
      "text/plain": [
       "{'seed': 0,\n",
       " 'batch_size': 256,\n",
       " 'patience': 16,\n",
       " 'n_epochs': inf,\n",
       " 'data': {'seed': 0,\n",
       "  'cache': True,\n",
       "  'path': ':data/churn',\n",
       "  'num_policy': 'quantile',\n",
       "  'cat_policy': 'ordinal',\n",
       "  'y_policy': None},\n",
       " 'optimizer': {'type': 'AdamW',\n",
       "  'lr': 2.1830573323102185e-05,\n",
       "  'weight_decay': 1.50709653879044e-05},\n",
       " 'model': {'num_embeddings': None,\n",
       "  'backbone': {'type': 'MLP',\n",
       "   'n_blocks': 2,\n",
       "   'd_layer': 340,\n",
       "   'dropout': 0.43769219997812725,\n",
       "   'activation': 'ReLU'}}}"
      ]
     },
     "execution_count": 62,
     "metadata": {},
     "output_type": "execute_result"
    }
   ],
   "source": [
    "study['report']['config']"
   ]
  },
  {
   "cell_type": "code",
   "execution_count": null,
   "metadata": {},
   "outputs": [],
   "source": []
  }
 ],
 "metadata": {
  "kernelspec": {
   "display_name": "Python 3",
   "language": "python",
   "name": "python3"
  },
  "language_info": {
   "codemirror_mode": {
    "name": "ipython",
    "version": 3
   },
   "file_extension": ".py",
   "mimetype": "text/x-python",
   "name": "python",
   "nbconvert_exporter": "python",
   "pygments_lexer": "ipython3",
   "version": "3.10.9"
  },
  "orig_nbformat": 4,
  "vscode": {
   "interpreter": {
    "hash": "7c29f52340296aa128d595796f88e009ef9a87dcb3e7bfc62e56d3ab668abf1f"
   }
  }
 },
 "nbformat": 4,
 "nbformat_minor": 2
}
